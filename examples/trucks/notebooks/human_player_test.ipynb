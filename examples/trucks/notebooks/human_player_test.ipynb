{
 "cells": [
  {
   "cell_type": "code",
   "execution_count": 1,
   "metadata": {},
   "outputs": [],
   "source": [
    "%load_ext autoreload\n",
    "\n",
    "# --------------- #\n",
    "# region: Imports #\n",
    "import os\n",
    "import sys\n",
    "module_path = os.path.abspath('../../..')\n",
    "if module_path not in sys.path:\n",
    "    sys.path.insert(0, module_path)\n",
    "# endregion       #\n",
    "# --------------- #"
   ]
  },
  {
   "cell_type": "code",
   "execution_count": 2,
   "metadata": {},
   "outputs": [],
   "source": [
    "%autoreload 2\n",
    "# from examples.ft.test import eval_model\n",
    "\n",
    "# results = eval_model(\n",
    "#     'memories',\n",
    "#     model_path='../models/checkpoints/model_iRainbowModel_0.0_5.pkl',\n",
    "#     config_path='../config.yaml',\n",
    "#     n_games=1000\n",
    "# )\n",
    "\n",
    "# results['memories'].save('../models/checkpoints/memories.pkl')\n",
    "\n",
    "import argparse\n",
    "import numpy as np\n",
    "from IPython.display import clear_output\n",
    "from matplotlib import pyplot as plt\n",
    "\n",
    "from gem.utils import fig2img, animate, visual_field\n",
    "from gem.config import load_config\n",
    "from gem.models.humanPlayer import ModelHumanPlayer\n",
    "from gem.models.buffer import ActionBatchReplayBuffer as ABRBuffer\n",
    "\n",
    "from examples.trucks.env import FoodTrucks\n",
    "from examples.trucks.config import create_agents, create_entities\n",
    "from examples.trucks.utils import color_map\n",
    "\n",
    "# ------------------------------------------------------ #\n",
    "# region: Create the forward model for the animations... #\n",
    "# ------------------------------------------------------ #\n",
    "\n",
    "cfg = load_config(argparse.Namespace(config='../configs/config.yaml'))\n",
    "models = [\n",
    "  ModelHumanPlayer(action_space=4, memory_size=5)\n",
    "]\n",
    "agents = create_agents(cfg, models)\n",
    "entities = create_entities(cfg)\n",
    "env = FoodTrucks(cfg, agents, entities)\n",
    "\n",
    "# ------------------------------------------------------ #\n",
    "# endregion                                              #\n",
    "# ------------------------------------------------------ #"
   ]
  },
  {
   "cell_type": "code",
   "execution_count": 4,
   "metadata": {},
   "outputs": [
    {
     "data": {
      "image/png": "[encoded data removed]",
      "text/plain": [
       "<Figure size 640x480 with 1 Axes>"
      ]
     },
     "metadata": {},
     "output_type": "display_data"
    },
    {
     "name": "stdout",
     "output_type": "stream",
     "text": [
      "(7, 11, 11)\n",
      "Please try again. Possible actions are below.\n",
      "[0 1 2 3]\n"
     ]
    },
    {
     "ename": "UnboundLocalError",
     "evalue": "cannot access local variable 'action' where it is not associated with a value",
     "output_type": "error",
     "traceback": [
      "\u001b[0;31m---------------------------------------------------------------------------\u001b[0m",
      "\u001b[0;31mUnboundLocalError\u001b[0m                         Traceback (most recent call last)",
      "Cell \u001b[0;32mIn[4], line 20\u001b[0m\n\u001b[1;32m     17\u001b[0m plt\u001b[38;5;241m.\u001b[39mimshow(fig)\n\u001b[1;32m     18\u001b[0m plt\u001b[38;5;241m.\u001b[39mshow()\n\u001b[0;32m---> 20\u001b[0m state, action, reward, next_state, done_ \u001b[38;5;241m=\u001b[39m \u001b[43magent\u001b[49m\u001b[38;5;241;43m.\u001b[39;49m\u001b[43mtransition\u001b[49m\u001b[43m(\u001b[49m\u001b[43menv\u001b[49m\u001b[43m)\u001b[49m\n\u001b[1;32m     22\u001b[0m \u001b[38;5;66;03m# If agent finished or max turns is reached, end the turn\u001b[39;00m\n\u001b[1;32m     23\u001b[0m \u001b[38;5;28;01mif\u001b[39;00m turn \u001b[38;5;241m>\u001b[39m\u001b[38;5;241m=\u001b[39m cfg\u001b[38;5;241m.\u001b[39mexperiment\u001b[38;5;241m.\u001b[39mmax_turns \u001b[38;5;129;01mor\u001b[39;00m done_: \n",
      "File \u001b[0;32m~/Documents/GitHub/agentarium/examples/trucks/agents.py:216\u001b[0m, in \u001b[0;36mAgent.transition\u001b[0;34m(self, env)\u001b[0m\n\u001b[1;32m    213\u001b[0m reward \u001b[38;5;241m=\u001b[39m \u001b[38;5;241m0\u001b[39m\n\u001b[1;32m    215\u001b[0m \u001b[38;5;66;03m# Take action based on current state\u001b[39;00m\n\u001b[0;32m--> 216\u001b[0m action \u001b[38;5;241m=\u001b[39m \u001b[38;5;28;43mself\u001b[39;49m\u001b[38;5;241;43m.\u001b[39;49m\u001b[43mmodel\u001b[49m\u001b[38;5;241;43m.\u001b[39;49m\u001b[43mtake_action\u001b[49m\u001b[43m(\u001b[49m\u001b[43mstate\u001b[49m\u001b[43m)\u001b[49m\n\u001b[1;32m    218\u001b[0m \u001b[38;5;66;03m# Attempt the transition \u001b[39;00m\n\u001b[1;32m    219\u001b[0m attempted_location \u001b[38;5;241m=\u001b[39m \u001b[38;5;28mself\u001b[39m\u001b[38;5;241m.\u001b[39mmovement(action)\n",
      "File \u001b[0;32m~/Documents/GitHub/agentarium/gem/models/humanPlayer.py:42\u001b[0m, in \u001b[0;36mModelHumanPlayer.take_action\u001b[0;34m(self, state)\u001b[0m\n\u001b[1;32m     40\u001b[0m     \u001b[38;5;28mprint\u001b[39m(\u001b[38;5;28mself\u001b[39m\u001b[38;5;241m.\u001b[39maction_space)\n\u001b[1;32m     41\u001b[0m     \u001b[38;5;66;03m# we can have iinputType above also be joystick, or other controller\u001b[39;00m\n\u001b[0;32m---> 42\u001b[0m \u001b[38;5;28;01mif\u001b[39;00m \u001b[43maction\u001b[49m \u001b[38;5;129;01mis\u001b[39;00m \u001b[38;5;129;01mnot\u001b[39;00m \u001b[38;5;28;01mNone\u001b[39;00m:\n\u001b[1;32m     43\u001b[0m     \u001b[38;5;28;01mif\u001b[39;00m action \u001b[38;5;129;01min\u001b[39;00m \u001b[38;5;28mself\u001b[39m\u001b[38;5;241m.\u001b[39maction_space:\n\u001b[1;32m     44\u001b[0m         done \u001b[38;5;241m=\u001b[39m \u001b[38;5;241m1\u001b[39m\n",
      "\u001b[0;31mUnboundLocalError\u001b[0m: cannot access local variable 'action' where it is not associated with a value"
     ]
    }
   ],
   "source": [
    "env.reset()\n",
    "for agent in agents:\n",
    "  agent.reset()\n",
    "\n",
    "done, turn = 0, 0\n",
    "\n",
    "while done == 0:\n",
    "\n",
    "# ----------------- #\n",
    "# region: Turn loop #\n",
    "# ----------------- #\n",
    "\n",
    "  for agent in agents:\n",
    "\n",
    "    fig = visual_field(env.world, color_map=color_map, location = agent.location, vision = agent.vision, return_rgb=True)\n",
    "    clear_output(wait=True)\n",
    "    plt.imshow(fig)\n",
    "    plt.show()\n",
    "\n",
    "    state, action, reward, next_state, done_ = agent.transition(env)\n",
    "\n",
    "    # If agent finished or max turns is reached, end the turn\n",
    "    if turn >= cfg.experiment.max_turns or done_: \n",
    "      done = 1 # End loop if maximum turns have been reached\n",
    "\n",
    "    # Append the experience to the replay\n",
    "    exp = (0, (state, action, reward, next_state, done))\n",
    "    agent.episode_memory.append(exp)\n",
    "\n",
    "# ----------------- #\n",
    "# endregion         #\n",
    "# ----------------- #"
   ]
  },
  {
   "cell_type": "code",
   "execution_count": 15,
   "metadata": {},
   "outputs": [
    {
     "data": {
      "text/plain": [
       "3"
      ]
     },
     "execution_count": 15,
     "metadata": {},
     "output_type": "execute_result"
    }
   ],
   "source": [
    "-1 % 4"
   ]
  },
  {
   "cell_type": "code",
   "execution_count": null,
   "metadata": {},
   "outputs": [],
   "source": []
  }
 ],
 "metadata": {
  "kernelspec": {
   "display_name": "Python 3",
   "language": "python",
   "name": "python3"
  },
  "language_info": {
   "codemirror_mode": {
    "name": "ipython",
    "version": 3
   },
   "file_extension": ".py",
   "mimetype": "text/x-python",
   "name": "python",
   "nbconvert_exporter": "python",
   "pygments_lexer": "ipython3",
   "version": "3.12.2"
  }
 },
 "nbformat": 4,
 "nbformat_minor": 2
}
