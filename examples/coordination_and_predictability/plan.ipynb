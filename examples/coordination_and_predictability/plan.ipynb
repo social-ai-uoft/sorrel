{
 "cells": [
  {
   "cell_type": "markdown",
   "id": "77458a28",
   "metadata": {},
   "source": [
    "for cycle in num_cycles:\n",
    "    for stage in num_stages:\n",
    "        stage_steps_num \n",
    "        for step in stage_steps_num:\n",
    "            for agent in agent_list:\n",
    "                [tranisition]\n",
    "            [interaction]\n",
    "    for agent in agent_lst:\n",
    "        agent:updating"
   ]
  }
 ],
 "metadata": {
  "language_info": {
   "name": "python"
  }
 },
 "nbformat": 4,
 "nbformat_minor": 5
}
