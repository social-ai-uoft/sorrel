{
 "cells": [
  {
   "cell_type": "code",
   "execution_count": 1,
   "metadata": {},
   "outputs": [],
   "source": [
    "%load_ext autoreload\n",
    "\n",
    "# --------------- #\n",
    "# region: Imports #\n",
    "import os\n",
    "import sys\n",
    "module_path = os.path.abspath('../../..')\n",
    "if module_path not in sys.path:\n",
    "  sys.path.insert(0, module_path)\n",
    "# endregion   #\n",
    "# --------------- #"
   ]
  },
  {
   "cell_type": "code",
   "execution_count": 2,
   "metadata": {},
   "outputs": [],
   "source": [
    "from examples.cleanup.env import Cleanup\n",
    "from examples.cleanup.agents import Agent\n",
    "from examples.RPG.utils import load_config\n",
    "\n",
    "from gem.models.iqn import iRainbowModel\n",
    "\n",
    "from IPython.display import clear_output\n",
    "from datetime import datetime\n",
    "\n",
    "import argparse\n",
    "import matplotlib.pyplot as plt\n",
    "import random\n",
    "import torch\n",
    "import numpy as np\n",
    "\n",
    "cfg = load_config(argparse.Namespace(config='../configs/config.yaml'))\n",
    "\n",
    "seed = random.randint(1,100)\n",
    "\n",
    "N_AGENTS = 1\n",
    "agents: list[Agent] = []\n",
    "models: list[iRainbowModel] = []\n",
    "for i in range(N_AGENTS):\n",
    "  models.append(\n",
    "     iRainbowModel(\n",
    "      state_size=(980, ),\n",
    "      action_size=4,\n",
    "      layer_size=250,\n",
    "      epsilon=.9,\n",
    "      device=\"mps\",\n",
    "      seed=seed,\n",
    "      num_frames=5,\n",
    "      n_step=3,\n",
    "      BATCH_SIZE= 64,\n",
    "      BUFFER_SIZE= 1024,\n",
    "      LR=0.00025,\n",
    "      TAU=.001,\n",
    "      GAMMA=0.95,\n",
    "      N=12,\n",
    "      sync_freq=200,\n",
    "      model_update_freq=4\n",
    "    )\n",
    "  )\n",
    "  agents.append(\n",
    "  Agent(cfg, appearance = cfg.agent.agent.appearance, \n",
    "    model = models[i]\n",
    "          )\n",
    "  )\n",
    "\n",
    "# Set up tensorboard logging\n",
    "if cfg.log:\n",
    "    log_dir = os.path.abspath(f'../runs/{datetime.now().strftime(\"%Y%m%d-%H%m%s\")}/')\n",
    "    from torch.utils.tensorboard import SummaryWriter\n",
    "    writer = SummaryWriter(\n",
    "        log_dir=log_dir\n",
    "    )\n",
    "\n",
    "\n",
    "env = Cleanup(\n",
    "  cfg, agents\n",
    ")"
   ]
  },
  {
   "cell_type": "code",
   "execution_count": 4,
   "metadata": {},
   "outputs": [
    {
     "name": "stdout",
     "output_type": "stream",
     "text": [
      "(5, 980)\n",
      "0\n"
     ]
    }
   ],
   "source": [
    "for agent, model in zip(agents, models):\n",
    "  agent.reset()\n",
    "  agent.init_replay(env)\n",
    "  current_state = agent.current_state(env)\n",
    "  print(current_state.shape)\n",
    "  action = model.take_action(current_state)\n",
    "  print(action)"
   ]
  },
  {
   "cell_type": "code",
   "execution_count": null,
   "metadata": {},
   "outputs": [],
   "source": []
  }
 ],
 "metadata": {
  "kernelspec": {
   "display_name": "Python 3",
   "language": "python",
   "name": "python3"
  },
  "language_info": {
   "codemirror_mode": {
    "name": "ipython",
    "version": 3
   },
   "file_extension": ".py",
   "mimetype": "text/x-python",
   "name": "python",
   "nbconvert_exporter": "python",
   "pygments_lexer": "ipython3",
   "version": "3.12.2"
  }
 },
 "nbformat": 4,
 "nbformat_minor": 2
}
