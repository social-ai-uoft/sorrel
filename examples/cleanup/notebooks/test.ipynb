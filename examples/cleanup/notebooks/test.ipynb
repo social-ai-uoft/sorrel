{
 "cells": [
  {
   "cell_type": "code",
   "execution_count": 1,
   "metadata": {},
   "outputs": [],
   "source": [
    "%load_ext autoreload\n",
    "\n",
    "# --------------- #\n",
    "# region: Imports #\n",
    "import os\n",
    "import sys\n",
    "module_path = os.path.abspath('../../..')\n",
    "if module_path not in sys.path:\n",
    "  sys.path.insert(0, module_path)\n",
    "# endregion   #\n",
    "# --------------- #"
   ]
  },
  {
   "cell_type": "code",
   "execution_count": 2,
   "metadata": {},
   "outputs": [],
   "source": [
    "from examples.cleanup.env import Cleanup\n",
    "from examples.cleanup.agents import Agent\n",
    "from examples.RPG.utils import load_config\n",
    "from gem.models.grid_cells import positional_embedding\n",
    "from gem.models.human_player import ModelHumanPlayer\n",
    "from gem.models.iqn import iRainbowModel\n",
    "from gem.utils import visual_field, visual_field_multilayer\n",
    "\n",
    "from IPython.display import clear_output\n",
    "\n",
    "import argparse\n",
    "import matplotlib.pyplot as plt\n",
    "import random\n",
    "\n",
    "import torch\n",
    "import numpy as np\n",
    "\n",
    "cfg = load_config(argparse.Namespace(config='../configs/config.yaml'))\n",
    "\n",
    "N_AGENTS = 3\n",
    "agents = []\n",
    "for i in range(N_AGENTS):\n",
    "  agents.append(\n",
    "  Agent(cfg, appearance = cfg.agent.agent.appearance, \n",
    "        model = iRainbowModel(\n",
    "        state_size= [cfg.env.channels, cfg.env.height, cfg.env.width],\n",
    "        action_size= 6,\n",
    "        layer_size= 128,\n",
    "        epsilon= 0.5,\n",
    "        #device= Union[str, torch.device],\n",
    "        device = 'cpu',\n",
    "        seed= 0,\n",
    "        # iRainbow parameters\n",
    "        num_frames= 1,\n",
    "        n_step= 3,\n",
    "        sync_freq=10,\n",
    "        model_update_freq= 10,\n",
    "        BATCH_SIZE= 32,\n",
    "        BUFFER_SIZE= 4000,\n",
    "        LR= .001,\n",
    "        TAU= .001,\n",
    "        GAMMA= .99,\n",
    "        N= 32\n",
    "          )\n",
    "          )\n",
    "  )\n",
    "\n",
    "\n",
    "\n",
    "\n",
    "env = Cleanup(\n",
    "  cfg, agents\n",
    ")"
   ]
  },
  {
   "cell_type": "code",
   "execution_count": 3,
   "metadata": {},
   "outputs": [
    {
     "data": {
      "text/plain": [
       "(tensor([[[ 0.0327, -0.3010,  0.0611,  0.0587, -0.0498, -0.1373],\n",
       "          [ 0.0340, -0.2985,  0.0629,  0.0592, -0.0479, -0.1337],\n",
       "          [ 0.0331, -0.3015,  0.0595,  0.0573, -0.0512, -0.1355],\n",
       "          [ 0.0301, -0.3012,  0.0600,  0.0550, -0.0515, -0.1361],\n",
       "          [ 0.0328, -0.2998,  0.0617,  0.0576, -0.0513, -0.1370],\n",
       "          [ 0.0302, -0.3015,  0.0602,  0.0559, -0.0516, -0.1365],\n",
       "          [ 0.0359, -0.2969,  0.0638,  0.0597, -0.0456, -0.1321],\n",
       "          [ 0.0288, -0.3012,  0.0611,  0.0574, -0.0513, -0.1345]]],\n",
       "        grad_fn=<ViewBackward0>),\n",
       " tensor([[[0.0547],\n",
       "          [0.2592],\n",
       "          [0.7171],\n",
       "          [0.9299],\n",
       "          [0.1539],\n",
       "          [0.9226],\n",
       "          [0.6731],\n",
       "          [0.8101]]]))"
      ]
     },
     "execution_count": 3,
     "metadata": {},
     "output_type": "execute_result"
    }
   ],
   "source": [
    "data = torch.rand(cfg.env.channels, cfg.env.height, cfg.env.width).unsqueeze(0).unsqueeze(0)\n",
    "\n",
    "agents[0].model.qnetwork_local.forward(data)"
   ]
  },
  {
   "cell_type": "code",
   "execution_count": 4,
   "metadata": {},
   "outputs": [
    {
     "name": "stdout",
     "output_type": "stream",
     "text": [
      "Epoch: 0 - Epsilon: 0.5 - Points: 27 - Losses 0.0 - Avg. last 100 rewards: 27.0\n"
     ]
    }
   ],
   "source": [
    "cfg.experiment.epochs = 10000 # override the number of epochs\n",
    "\n",
    "rewards = []\n",
    "losses = 0\n",
    "\n",
    "for epoch in range(cfg.experiment.epochs): # note that the language is not right. epoch is training. episode is the game\n",
    "    # Reset the environment at the start of each epoch\n",
    "        for agent in env.agents:\n",
    "            agent.reset()\n",
    "        random.shuffle(agents)\n",
    "\n",
    "        done = 0 \n",
    "        turn = 0\n",
    "        losses = 0\n",
    "        game_points = 0\n",
    "\n",
    "        while not done:\n",
    "\n",
    "            turn = turn + 1\n",
    "\n",
    "            entities = env.get_entities_for_transition()\n",
    "            #print(entities)\n",
    "            # Entity transition\n",
    "            for entity in entities:\n",
    "                entity.transition(env)\n",
    "\n",
    "            # Agent transition\n",
    "            for agent in agents:\n",
    "                if (epoch+1) % 100 == 0:\n",
    "                    agent.model.epsilon = agent.model.epsilon*0.999\n",
    "\n",
    "                location_code = positional_embedding(agent.location, env, 3, 3)\n",
    "\n",
    "                (state,\n",
    "                action,\n",
    "                reward,\n",
    "                next_state,\n",
    "                done_\n",
    "                ) = agent.transition(env)\n",
    "\n",
    "                if turn >= cfg.experiment.max_turns or done_:\n",
    "                    done = 1\n",
    "\n",
    "                exp = (1, (state, action, reward, next_state, done))\n",
    "                agent.episode_memory.append(exp)\n",
    "\n",
    "                game_points += reward\n",
    "        rewards.append(game_points)\n",
    "\n",
    "        # At the end of each epoch, train as long as the batch size is large enough.\n",
    "        if epoch % 10 == 0:\n",
    "            for agent in agents:\n",
    "                loss = agent.model.train_model()\n",
    "                losses += loss\n",
    "            \n",
    "\n",
    "        # Calculate the average of the last 100 rewards\n",
    "        if len(rewards) >= 100:\n",
    "            avg_last_100_rewards = sum(rewards[-100:]) / 100\n",
    "        else:\n",
    "            avg_last_100_rewards = sum(rewards) / len(rewards)\n",
    "        if epoch % 150 == 0:\n",
    "            print(f'Epoch: {epoch} - Epsilon: {agents[0].model.epsilon} - Points: {game_points} - Losses {losses} - Avg. last 100 rewards: {avg_last_100_rewards}')\n",
    "            losses = 0\n"
   ]
  },
  {
   "cell_type": "code",
   "execution_count": null,
   "metadata": {},
   "outputs": [
    {
     "ename": "NameError",
     "evalue": "name 'agent' is not defined",
     "output_type": "error",
     "traceback": [
      "\u001b[0;31m---------------------------------------------------------------------------\u001b[0m",
      "\u001b[0;31mNameError\u001b[0m                                 Traceback (most recent call last)",
      "Cell \u001b[0;32mIn[19], line 1\u001b[0m\n\u001b[0;32m----> 1\u001b[0m agent_positional_code \u001b[38;5;241m=\u001b[39m generate_positional_embedding_for_coordinate(agents[\u001b[38;5;241m0\u001b[39m]\u001b[38;5;241m.\u001b[39mlocation[\u001b[38;5;241m0\u001b[39m], agent\u001b[38;5;241m.\u001b[39mlocation[\u001b[38;5;241m1\u001b[39m], env\u001b[38;5;241m.\u001b[39mheight, env\u001b[38;5;241m.\u001b[39mwidth, \u001b[38;5;241m3\u001b[39m, \u001b[38;5;241m3\u001b[39m)\n",
      "\u001b[0;31mNameError\u001b[0m: name 'agent' is not defined"
     ]
    }
   ],
   "source": []
  },
  {
   "cell_type": "code",
   "execution_count": null,
   "metadata": {},
   "outputs": [
    {
     "name": "stdout",
     "output_type": "stream",
     "text": [
      "(12, 12, 1)\n",
      "(11, 17, 1)\n",
      "(8, 15, 1)\n"
     ]
    }
   ],
   "source": [
    "for agent in agents:\n",
    "    print(agent.location)"
   ]
  }
 ],
 "metadata": {
  "kernelspec": {
   "display_name": "Python 3",
   "language": "python",
   "name": "python3"
  },
  "language_info": {
   "codemirror_mode": {
    "name": "ipython",
    "version": 3
   },
   "file_extension": ".py",
   "mimetype": "text/x-python",
   "name": "python",
   "nbconvert_exporter": "python",
   "pygments_lexer": "ipython3",
   "version": "3.11.7"
  }
 },
 "nbformat": 4,
 "nbformat_minor": 2
}
