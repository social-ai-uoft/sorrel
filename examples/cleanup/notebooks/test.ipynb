{
 "cells": [
  {
   "cell_type": "code",
   "execution_count": 1,
   "metadata": {},
   "outputs": [],
   "source": [
    "%load_ext autoreload\n",
    "\n",
    "# --------------- #\n",
    "# region: Imports #\n",
    "import os\n",
    "import sys\n",
    "module_path = os.path.abspath('../../..')\n",
    "if module_path not in sys.path:\n",
    "  sys.path.insert(0, module_path)\n",
    "# endregion       #\n",
    "# --------------- #"
   ]
  },
  {
   "cell_type": "code",
   "execution_count": 2,
   "metadata": {},
   "outputs": [],
   "source": [
    "import torch\n",
    "from agentarium.config import load_config, argparse\n",
    "from agentarium.models.pytorch import PyTorchIQN\n",
    "from examples.cleanup.env import Cleanup\n",
    "from examples.cleanup.agents import CleanupAgent\n",
    "\n",
    "cfg = load_config(argparse.Namespace(config='../configs/config.yaml'))\n",
    "seed = torch.random.seed()\n",
    "N_AGENTS = 1\n",
    "agents: list[CleanupAgent] = []\n",
    "models: list[PyTorchIQN] = []\n",
    "for i in range(N_AGENTS):\n",
    "  models.append(\n",
    "    PyTorchIQN(\n",
    "      input_size=(984, ),\n",
    "      seed=seed,\n",
    "      num_frames = cfg.agent.agent.obs.num_frames,\n",
    "      **cfg.model.iqn.parameters.to_dict()\n",
    "    )\n",
    "  )\n",
    "  agents.append(\n",
    "    CleanupAgent(cfg, model=models[i])\n",
    "  )\n",
    "env = Cleanup(\n",
    "  cfg, agents = agents\n",
    ")\n",
    "env.reset()"
   ]
  },
  {
   "cell_type": "code",
   "execution_count": 3,
   "metadata": {},
   "outputs": [],
   "source": [
    "for _ in range(cfg.experiment.max_turns):\n",
    "  env.take_turn()"
   ]
  },
  {
   "cell_type": "code",
   "execution_count": null,
   "metadata": {},
   "outputs": [],
   "source": []
  }
 ],
 "metadata": {
  "kernelspec": {
   "display_name": "3.12.2",
   "language": "python",
   "name": "python3"
  },
  "language_info": {
   "codemirror_mode": {
    "name": "ipython",
    "version": 3
   },
   "file_extension": ".py",
   "mimetype": "text/x-python",
   "name": "python",
   "nbconvert_exporter": "python",
   "pygments_lexer": "ipython3",
   "version": "3.12.2"
  }
 },
 "nbformat": 4,
 "nbformat_minor": 2
}
