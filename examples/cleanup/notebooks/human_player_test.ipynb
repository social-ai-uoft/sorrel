{
 "cells": [
  {
   "cell_type": "code",
   "execution_count": 1,
   "metadata": {},
   "outputs": [],
   "source": [
    "%load_ext autoreload\n",
    "\n",
    "# --------------- #\n",
    "# region: Imports #\n",
    "import os\n",
    "import sys\n",
    "module_path = os.path.abspath('../../..')\n",
    "if module_path not in sys.path:\n",
    "  sys.path.insert(0, module_path)\n",
    "# endregion   #\n",
    "# --------------- #"
   ]
  },
  {
   "cell_type": "code",
   "execution_count": 2,
   "metadata": {},
   "outputs": [],
   "source": [
    "from examples.cleanup.env import Cleanup\n",
    "from examples.cleanup.agents import Agent\n",
    "from examples.RPG.utils import load_config\n",
    "from gem.models.grid_cells import positional_embedding\n",
    "from gem.models.human_player import ModelHumanPlayer\n",
    "from gem.utils import visual_field, visual_field_multilayer\n",
    "\n",
    "from IPython.display import clear_output\n",
    "\n",
    "import argparse\n",
    "import matplotlib.pyplot as plt\n",
    "import random\n",
    "\n",
    "cfg = load_config(argparse.Namespace(config='../configs/config.yaml'))\n",
    "\n",
    "N_AGENTS = 3\n",
    "agents = []\n",
    "for i in range(N_AGENTS):\n",
    "  agents.append(\n",
    "  Agent(cfg, appearance = cfg.agent.agent.appearance, model = ModelHumanPlayer(6, state_size=[\n",
    "  cfg.env.channels, cfg.env.height, cfg.env.width\n",
    "  ], memory_size=1))\n",
    "  )\n",
    "\n",
    "env = Cleanup(\n",
    "  cfg, agents\n",
    ")"
   ]
  },
  {
   "cell_type": "code",
   "execution_count": 4,
   "metadata": {},
   "outputs": [
    {
     "name": "stdout",
     "output_type": "stream",
     "text": [
      "[River(appearance=[0, 0, 0, 0, 255, 0, 0, 0],value=0), River(appearance=[0, 0, 0, 0, 255, 0, 0, 0],value=0), River(appearance=[0, 0, 0, 0, 255, 0, 0, 0],value=0), River(appearance=[0, 0, 0, 0, 255, 0, 0, 0],value=0), River(appearance=[0, 0, 0, 0, 255, 0, 0, 0],value=0), River(appearance=[0, 0, 0, 0, 255, 0, 0, 0],value=0), River(appearance=[0, 0, 0, 0, 255, 0, 0, 0],value=0), River(appearance=[0, 0, 0, 0, 255, 0, 0, 0],value=0), River(appearance=[0, 0, 0, 0, 255, 0, 0, 0],value=0), River(appearance=[0, 0, 0, 0, 255, 0, 0, 0],value=0), River(appearance=[0, 0, 0, 0, 255, 0, 0, 0],value=0), River(appearance=[0, 0, 0, 0, 255, 0, 0, 0],value=0), River(appearance=[0, 0, 0, 0, 255, 0, 0, 0],value=0), River(appearance=[0, 0, 0, 0, 255, 0, 0, 0],value=0), River(appearance=[0, 0, 0, 0, 255, 0, 0, 0],value=0), Pollution(appearance=[0, 0, 0, 0, 0, 255, 0, 0],value=0), River(appearance=[0, 0, 0, 0, 255, 0, 0, 0],value=0), River(appearance=[0, 0, 0, 0, 255, 0, 0, 0],value=0), River(appearance=[0, 0, 0, 0, 255, 0, 0, 0],value=0), River(appearance=[0, 0, 0, 0, 255, 0, 0, 0],value=0), River(appearance=[0, 0, 0, 0, 255, 0, 0, 0],value=0), River(appearance=[0, 0, 0, 0, 255, 0, 0, 0],value=0), River(appearance=[0, 0, 0, 0, 255, 0, 0, 0],value=0), River(appearance=[0, 0, 0, 0, 255, 0, 0, 0],value=0), River(appearance=[0, 0, 0, 0, 255, 0, 0, 0],value=0), River(appearance=[0, 0, 0, 0, 255, 0, 0, 0],value=0), River(appearance=[0, 0, 0, 0, 255, 0, 0, 0],value=0), River(appearance=[0, 0, 0, 0, 255, 0, 0, 0],value=0), River(appearance=[0, 0, 0, 0, 255, 0, 0, 0],value=0), River(appearance=[0, 0, 0, 0, 255, 0, 0, 0],value=0), River(appearance=[0, 0, 0, 0, 255, 0, 0, 0],value=0), River(appearance=[0, 0, 0, 0, 255, 0, 0, 0],value=0), River(appearance=[0, 0, 0, 0, 255, 0, 0, 0],value=0), River(appearance=[0, 0, 0, 0, 255, 0, 0, 0],value=0), River(appearance=[0, 0, 0, 0, 255, 0, 0, 0],value=0), River(appearance=[0, 0, 0, 0, 255, 0, 0, 0],value=0), River(appearance=[0, 0, 0, 0, 255, 0, 0, 0],value=0), River(appearance=[0, 0, 0, 0, 255, 0, 0, 0],value=0), River(appearance=[0, 0, 0, 0, 255, 0, 0, 0],value=0), River(appearance=[0, 0, 0, 0, 255, 0, 0, 0],value=0), River(appearance=[0, 0, 0, 0, 255, 0, 0, 0],value=0), River(appearance=[0, 0, 0, 0, 255, 0, 0, 0],value=0), River(appearance=[0, 0, 0, 0, 255, 0, 0, 0],value=0), River(appearance=[0, 0, 0, 0, 255, 0, 0, 0],value=0), River(appearance=[0, 0, 0, 0, 255, 0, 0, 0],value=0), River(appearance=[0, 0, 0, 0, 255, 0, 0, 0],value=0), River(appearance=[0, 0, 0, 0, 255, 0, 0, 0],value=0), River(appearance=[0, 0, 0, 0, 255, 0, 0, 0],value=0), River(appearance=[0, 0, 0, 0, 255, 0, 0, 0],value=0), River(appearance=[0, 0, 0, 0, 255, 0, 0, 0],value=0), River(appearance=[0, 0, 0, 0, 255, 0, 0, 0],value=0), River(appearance=[0, 0, 0, 0, 255, 0, 0, 0],value=0), River(appearance=[0, 0, 0, 0, 255, 0, 0, 0],value=0), River(appearance=[0, 0, 0, 0, 255, 0, 0, 0],value=0), River(appearance=[0, 0, 0, 0, 255, 0, 0, 0],value=0), River(appearance=[0, 0, 0, 0, 255, 0, 0, 0],value=0), River(appearance=[0, 0, 0, 0, 255, 0, 0, 0],value=0), River(appearance=[0, 0, 0, 0, 255, 0, 0, 0],value=0), River(appearance=[0, 0, 0, 0, 255, 0, 0, 0],value=0), River(appearance=[0, 0, 0, 0, 255, 0, 0, 0],value=0), River(appearance=[0, 0, 0, 0, 255, 0, 0, 0],value=0), Pollution(appearance=[0, 0, 0, 0, 0, 255, 0, 0],value=0), River(appearance=[0, 0, 0, 0, 255, 0, 0, 0],value=0), Pollution(appearance=[0, 0, 0, 0, 0, 255, 0, 0],value=0), River(appearance=[0, 0, 0, 0, 255, 0, 0, 0],value=0), River(appearance=[0, 0, 0, 0, 255, 0, 0, 0],value=0), River(appearance=[0, 0, 0, 0, 255, 0, 0, 0],value=0), River(appearance=[0, 0, 0, 0, 255, 0, 0, 0],value=0), River(appearance=[0, 0, 0, 0, 255, 0, 0, 0],value=0), River(appearance=[0, 0, 0, 0, 255, 0, 0, 0],value=0), River(appearance=[0, 0, 0, 0, 255, 0, 0, 0],value=0), River(appearance=[0, 0, 0, 0, 255, 0, 0, 0],value=0), River(appearance=[0, 0, 0, 0, 255, 0, 0, 0],value=0), River(appearance=[0, 0, 0, 0, 255, 0, 0, 0],value=0), River(appearance=[0, 0, 0, 0, 255, 0, 0, 0],value=0), River(appearance=[0, 0, 0, 0, 255, 0, 0, 0],value=0), River(appearance=[0, 0, 0, 0, 255, 0, 0, 0],value=0), River(appearance=[0, 0, 0, 0, 255, 0, 0, 0],value=0), River(appearance=[0, 0, 0, 0, 255, 0, 0, 0],value=0), River(appearance=[0, 0, 0, 0, 255, 0, 0, 0],value=0), River(appearance=[0, 0, 0, 0, 255, 0, 0, 0],value=0), Pollution(appearance=[0, 0, 0, 0, 0, 255, 0, 0],value=0), River(appearance=[0, 0, 0, 0, 255, 0, 0, 0],value=0), River(appearance=[0, 0, 0, 0, 255, 0, 0, 0],value=0), River(appearance=[0, 0, 0, 0, 255, 0, 0, 0],value=0), River(appearance=[0, 0, 0, 0, 255, 0, 0, 0],value=0), River(appearance=[0, 0, 0, 0, 255, 0, 0, 0],value=0), River(appearance=[0, 0, 0, 0, 255, 0, 0, 0],value=0), River(appearance=[0, 0, 0, 0, 255, 0, 0, 0],value=0), River(appearance=[0, 0, 0, 0, 255, 0, 0, 0],value=0), River(appearance=[0, 0, 0, 0, 255, 0, 0, 0],value=0), River(appearance=[0, 0, 0, 0, 255, 0, 0, 0],value=0), River(appearance=[0, 0, 0, 0, 255, 0, 0, 0],value=0), River(appearance=[0, 0, 0, 0, 255, 0, 0, 0],value=0), River(appearance=[0, 0, 0, 0, 255, 0, 0, 0],value=0), River(appearance=[0, 0, 0, 0, 255, 0, 0, 0],value=0), River(appearance=[0, 0, 0, 0, 255, 0, 0, 0],value=0), River(appearance=[0, 0, 0, 0, 255, 0, 0, 0],value=0), River(appearance=[0, 0, 0, 0, 255, 0, 0, 0],value=0), River(appearance=[0, 0, 0, 0, 255, 0, 0, 0],value=0), River(appearance=[0, 0, 0, 0, 255, 0, 0, 0],value=0), River(appearance=[0, 0, 0, 0, 255, 0, 0, 0],value=0), River(appearance=[0, 0, 0, 0, 255, 0, 0, 0],value=0), River(appearance=[0, 0, 0, 0, 255, 0, 0, 0],value=0), River(appearance=[0, 0, 0, 0, 255, 0, 0, 0],value=0), River(appearance=[0, 0, 0, 0, 255, 0, 0, 0],value=0), River(appearance=[0, 0, 0, 0, 255, 0, 0, 0],value=0), River(appearance=[0, 0, 0, 0, 255, 0, 0, 0],value=0), River(appearance=[0, 0, 0, 0, 255, 0, 0, 0],value=0), Pollution(appearance=[0, 0, 0, 0, 0, 255, 0, 0],value=0), River(appearance=[0, 0, 0, 0, 255, 0, 0, 0],value=0), River(appearance=[0, 0, 0, 0, 255, 0, 0, 0],value=0), River(appearance=[0, 0, 0, 0, 255, 0, 0, 0],value=0), River(appearance=[0, 0, 0, 0, 255, 0, 0, 0],value=0), River(appearance=[0, 0, 0, 0, 255, 0, 0, 0],value=0), River(appearance=[0, 0, 0, 0, 255, 0, 0, 0],value=0), River(appearance=[0, 0, 0, 0, 255, 0, 0, 0],value=0), River(appearance=[0, 0, 0, 0, 255, 0, 0, 0],value=0), River(appearance=[0, 0, 0, 0, 255, 0, 0, 0],value=0), River(appearance=[0, 0, 0, 0, 255, 0, 0, 0],value=0), River(appearance=[0, 0, 0, 0, 255, 0, 0, 0],value=0), River(appearance=[0, 0, 0, 0, 255, 0, 0, 0],value=0), River(appearance=[0, 0, 0, 0, 255, 0, 0, 0],value=0), River(appearance=[0, 0, 0, 0, 255, 0, 0, 0],value=0), River(appearance=[0, 0, 0, 0, 255, 0, 0, 0],value=0), River(appearance=[0, 0, 0, 0, 255, 0, 0, 0],value=0), River(appearance=[0, 0, 0, 0, 255, 0, 0, 0],value=0), River(appearance=[0, 0, 0, 0, 255, 0, 0, 0],value=0), River(appearance=[0, 0, 0, 0, 255, 0, 0, 0],value=0), River(appearance=[0, 0, 0, 0, 255, 0, 0, 0],value=0), Pollution(appearance=[0, 0, 0, 0, 0, 255, 0, 0],value=0), River(appearance=[0, 0, 0, 0, 255, 0, 0, 0],value=0), River(appearance=[0, 0, 0, 0, 255, 0, 0, 0],value=0), River(appearance=[0, 0, 0, 0, 255, 0, 0, 0],value=0), River(appearance=[0, 0, 0, 0, 255, 0, 0, 0],value=0), Pollution(appearance=[0, 0, 0, 0, 0, 255, 0, 0],value=0), River(appearance=[0, 0, 0, 0, 255, 0, 0, 0],value=0), River(appearance=[0, 0, 0, 0, 255, 0, 0, 0],value=0), River(appearance=[0, 0, 0, 0, 255, 0, 0, 0],value=0), River(appearance=[0, 0, 0, 0, 255, 0, 0, 0],value=0), River(appearance=[0, 0, 0, 0, 255, 0, 0, 0],value=0), River(appearance=[0, 0, 0, 0, 255, 0, 0, 0],value=0), River(appearance=[0, 0, 0, 0, 255, 0, 0, 0],value=0), River(appearance=[0, 0, 0, 0, 255, 0, 0, 0],value=0), River(appearance=[0, 0, 0, 0, 255, 0, 0, 0],value=0), River(appearance=[0, 0, 0, 0, 255, 0, 0, 0],value=0), River(appearance=[0, 0, 0, 0, 255, 0, 0, 0],value=0), River(appearance=[0, 0, 0, 0, 255, 0, 0, 0],value=0), River(appearance=[0, 0, 0, 0, 255, 0, 0, 0],value=0), River(appearance=[0, 0, 0, 0, 255, 0, 0, 0],value=0), River(appearance=[0, 0, 0, 0, 255, 0, 0, 0],value=0), River(appearance=[0, 0, 0, 0, 255, 0, 0, 0],value=0), River(appearance=[0, 0, 0, 0, 255, 0, 0, 0],value=0), River(appearance=[0, 0, 0, 0, 255, 0, 0, 0],value=0), River(appearance=[0, 0, 0, 0, 255, 0, 0, 0],value=0), River(appearance=[0, 0, 0, 0, 255, 0, 0, 0],value=0), River(appearance=[0, 0, 0, 0, 255, 0, 0, 0],value=0), Pollution(appearance=[0, 0, 0, 0, 0, 255, 0, 0],value=0), River(appearance=[0, 0, 0, 0, 255, 0, 0, 0],value=0), River(appearance=[0, 0, 0, 0, 255, 0, 0, 0],value=0), River(appearance=[0, 0, 0, 0, 255, 0, 0, 0],value=0), River(appearance=[0, 0, 0, 0, 255, 0, 0, 0],value=0), River(appearance=[0, 0, 0, 0, 255, 0, 0, 0],value=0), River(appearance=[0, 0, 0, 0, 255, 0, 0, 0],value=0), River(appearance=[0, 0, 0, 0, 255, 0, 0, 0],value=0), River(appearance=[0, 0, 0, 0, 255, 0, 0, 0],value=0), River(appearance=[0, 0, 0, 0, 255, 0, 0, 0],value=0), River(appearance=[0, 0, 0, 0, 255, 0, 0, 0],value=0), River(appearance=[0, 0, 0, 0, 255, 0, 0, 0],value=0), Pollution(appearance=[0, 0, 0, 0, 0, 255, 0, 0],value=0), Pollution(appearance=[0, 0, 0, 0, 0, 255, 0, 0],value=0), River(appearance=[0, 0, 0, 0, 255, 0, 0, 0],value=0), River(appearance=[0, 0, 0, 0, 255, 0, 0, 0],value=0), River(appearance=[0, 0, 0, 0, 255, 0, 0, 0],value=0), EmptyObject(appearance=[0, 0, 0, 0, 0, 0, 0, 0],value=0), EmptyObject(appearance=[0, 0, 0, 0, 0, 0, 0, 0],value=0), EmptyObject(appearance=[0, 0, 0, 0, 0, 0, 0, 0],value=0), EmptyObject(appearance=[0, 0, 0, 0, 0, 0, 0, 0],value=0), EmptyObject(appearance=[0, 0, 0, 0, 0, 0, 0, 0],value=0), EmptyObject(appearance=[0, 0, 0, 0, 0, 0, 0, 0],value=0), EmptyObject(appearance=[0, 0, 0, 0, 0, 0, 0, 0],value=0), EmptyObject(appearance=[0, 0, 0, 0, 0, 0, 0, 0],value=0), EmptyObject(appearance=[0, 0, 0, 0, 0, 0, 0, 0],value=0), EmptyObject(appearance=[0, 0, 0, 0, 0, 0, 0, 0],value=0), EmptyObject(appearance=[0, 0, 0, 0, 0, 0, 0, 0],value=0), EmptyObject(appearance=[0, 0, 0, 0, 0, 0, 0, 0],value=0), EmptyObject(appearance=[0, 0, 0, 0, 0, 0, 0, 0],value=0), EmptyObject(appearance=[0, 0, 0, 0, 0, 0, 0, 0],value=0), EmptyObject(appearance=[0, 0, 0, 0, 0, 0, 0, 0],value=0), EmptyObject(appearance=[0, 0, 0, 0, 0, 0, 0, 0],value=0), EmptyObject(appearance=[0, 0, 0, 0, 0, 0, 0, 0],value=0), EmptyObject(appearance=[0, 0, 0, 0, 0, 0, 0, 0],value=0), EmptyObject(appearance=[0, 0, 0, 0, 0, 0, 0, 0],value=0), EmptyObject(appearance=[0, 0, 0, 0, 0, 0, 0, 0],value=0), EmptyObject(appearance=[0, 0, 0, 0, 0, 0, 0, 0],value=0), EmptyObject(appearance=[0, 0, 0, 0, 0, 0, 0, 0],value=0), EmptyObject(appearance=[0, 0, 0, 0, 0, 0, 0, 0],value=0), EmptyObject(appearance=[0, 0, 0, 0, 0, 0, 0, 0],value=0), EmptyObject(appearance=[0, 0, 0, 0, 0, 0, 0, 0],value=0), EmptyObject(appearance=[0, 0, 0, 0, 0, 0, 0, 0],value=0), EmptyObject(appearance=[0, 0, 0, 0, 0, 0, 0, 0],value=0), EmptyObject(appearance=[0, 0, 0, 0, 0, 0, 0, 0],value=0), EmptyObject(appearance=[0, 0, 0, 0, 0, 0, 0, 0],value=0), EmptyObject(appearance=[0, 0, 0, 0, 0, 0, 0, 0],value=0), EmptyObject(appearance=[0, 0, 0, 0, 0, 0, 0, 0],value=0), EmptyObject(appearance=[0, 0, 0, 0, 0, 0, 0, 0],value=0), EmptyObject(appearance=[0, 0, 0, 0, 0, 0, 0, 0],value=0), EmptyObject(appearance=[0, 0, 0, 0, 0, 0, 0, 0],value=0), EmptyObject(appearance=[0, 0, 0, 0, 0, 0, 0, 0],value=0), EmptyObject(appearance=[0, 0, 0, 0, 0, 0, 0, 0],value=0), EmptyObject(appearance=[0, 0, 0, 0, 0, 0, 0, 0],value=0), EmptyObject(appearance=[0, 0, 0, 0, 0, 0, 0, 0],value=0), EmptyObject(appearance=[0, 0, 0, 0, 0, 0, 0, 0],value=0), EmptyObject(appearance=[0, 0, 0, 0, 0, 0, 0, 0],value=0), EmptyObject(appearance=[0, 0, 0, 0, 0, 0, 0, 0],value=0), EmptyObject(appearance=[0, 0, 0, 0, 0, 0, 0, 0],value=0), EmptyObject(appearance=[0, 0, 0, 0, 0, 0, 0, 0],value=0), EmptyObject(appearance=[0, 0, 0, 0, 0, 0, 0, 0],value=0), EmptyObject(appearance=[0, 0, 0, 0, 0, 0, 0, 0],value=0), EmptyObject(appearance=[0, 0, 0, 0, 0, 0, 0, 0],value=0), EmptyObject(appearance=[0, 0, 0, 0, 0, 0, 0, 0],value=0), EmptyObject(appearance=[0, 0, 0, 0, 0, 0, 0, 0],value=0), EmptyObject(appearance=[0, 0, 0, 0, 0, 0, 0, 0],value=0), EmptyObject(appearance=[0, 0, 0, 0, 0, 0, 0, 0],value=0), EmptyObject(appearance=[0, 0, 0, 0, 0, 0, 0, 0],value=0), EmptyObject(appearance=[0, 0, 0, 0, 0, 0, 0, 0],value=0), EmptyObject(appearance=[0, 0, 0, 0, 0, 0, 0, 0],value=0), EmptyObject(appearance=[0, 0, 0, 0, 0, 0, 0, 0],value=0), EmptyObject(appearance=[0, 0, 0, 0, 0, 0, 0, 0],value=0), EmptyObject(appearance=[0, 0, 0, 0, 0, 0, 0, 0],value=0), EmptyObject(appearance=[0, 0, 0, 0, 0, 0, 0, 0],value=0), EmptyObject(appearance=[0, 0, 0, 0, 0, 0, 0, 0],value=0), EmptyObject(appearance=[0, 0, 0, 0, 0, 0, 0, 0],value=0), EmptyObject(appearance=[0, 0, 0, 0, 0, 0, 0, 0],value=0), EmptyObject(appearance=[0, 0, 0, 0, 0, 0, 0, 0],value=0), EmptyObject(appearance=[0, 0, 0, 0, 0, 0, 0, 0],value=0), EmptyObject(appearance=[0, 0, 0, 0, 0, 0, 0, 0],value=0), EmptyObject(appearance=[0, 0, 0, 0, 0, 0, 0, 0],value=0), EmptyObject(appearance=[0, 0, 0, 0, 0, 0, 0, 0],value=0), EmptyObject(appearance=[0, 0, 0, 0, 0, 0, 0, 0],value=0), EmptyObject(appearance=[0, 0, 0, 0, 0, 0, 0, 0],value=0), EmptyObject(appearance=[0, 0, 0, 0, 0, 0, 0, 0],value=0), EmptyObject(appearance=[0, 0, 0, 0, 0, 0, 0, 0],value=0), EmptyObject(appearance=[0, 0, 0, 0, 0, 0, 0, 0],value=0), EmptyObject(appearance=[0, 0, 0, 0, 0, 0, 0, 0],value=0), EmptyObject(appearance=[0, 0, 0, 0, 0, 0, 0, 0],value=0), EmptyObject(appearance=[0, 0, 0, 0, 0, 0, 0, 0],value=0), EmptyObject(appearance=[0, 0, 0, 0, 0, 0, 0, 0],value=0), EmptyObject(appearance=[0, 0, 0, 0, 0, 0, 0, 0],value=0), EmptyObject(appearance=[0, 0, 0, 0, 0, 0, 0, 0],value=0), EmptyObject(appearance=[0, 0, 0, 0, 0, 0, 0, 0],value=0), EmptyObject(appearance=[0, 0, 0, 0, 0, 0, 0, 0],value=0), EmptyObject(appearance=[0, 0, 0, 0, 0, 0, 0, 0],value=0), EmptyObject(appearance=[0, 0, 0, 0, 0, 0, 0, 0],value=0), EmptyObject(appearance=[0, 0, 0, 0, 0, 0, 0, 0],value=0), EmptyObject(appearance=[0, 0, 0, 0, 0, 0, 0, 0],value=0), EmptyObject(appearance=[0, 0, 0, 0, 0, 0, 0, 0],value=0), EmptyObject(appearance=[0, 0, 0, 0, 0, 0, 0, 0],value=0), EmptyObject(appearance=[0, 0, 0, 0, 0, 0, 0, 0],value=0), EmptyObject(appearance=[0, 0, 0, 0, 0, 0, 0, 0],value=0), EmptyObject(appearance=[0, 0, 0, 0, 0, 0, 0, 0],value=0), EmptyObject(appearance=[0, 0, 0, 0, 0, 0, 0, 0],value=0), EmptyObject(appearance=[0, 0, 0, 0, 0, 0, 0, 0],value=0), EmptyObject(appearance=[0, 0, 0, 0, 0, 0, 0, 0],value=0), EmptyObject(appearance=[0, 0, 0, 0, 0, 0, 0, 0],value=0), EmptyObject(appearance=[0, 0, 0, 0, 0, 0, 0, 0],value=0), EmptyObject(appearance=[0, 0, 0, 0, 0, 0, 0, 0],value=0), EmptyObject(appearance=[0, 0, 0, 0, 0, 0, 0, 0],value=0), EmptyObject(appearance=[0, 0, 0, 0, 0, 0, 0, 0],value=0), EmptyObject(appearance=[0, 0, 0, 0, 0, 0, 0, 0],value=0), EmptyObject(appearance=[0, 0, 0, 0, 0, 0, 0, 0],value=0), EmptyObject(appearance=[0, 0, 0, 0, 0, 0, 0, 0],value=0), EmptyObject(appearance=[0, 0, 0, 0, 0, 0, 0, 0],value=0), EmptyObject(appearance=[0, 0, 0, 0, 0, 0, 0, 0],value=0), EmptyObject(appearance=[0, 0, 0, 0, 0, 0, 0, 0],value=0), EmptyObject(appearance=[0, 0, 0, 0, 0, 0, 0, 0],value=0), EmptyObject(appearance=[0, 0, 0, 0, 0, 0, 0, 0],value=0), EmptyObject(appearance=[0, 0, 0, 0, 0, 0, 0, 0],value=0), EmptyObject(appearance=[0, 0, 0, 0, 0, 0, 0, 0],value=0), EmptyObject(appearance=[0, 0, 0, 0, 0, 0, 0, 0],value=0), EmptyObject(appearance=[0, 0, 0, 0, 0, 0, 0, 0],value=0), EmptyObject(appearance=[0, 0, 0, 0, 0, 0, 0, 0],value=0), EmptyObject(appearance=[0, 0, 0, 0, 0, 0, 0, 0],value=0), EmptyObject(appearance=[0, 0, 0, 0, 0, 0, 0, 0],value=0), EmptyObject(appearance=[0, 0, 0, 0, 0, 0, 0, 0],value=0), EmptyObject(appearance=[0, 0, 0, 0, 0, 0, 0, 0],value=0), EmptyObject(appearance=[0, 0, 0, 0, 0, 0, 0, 0],value=0), EmptyObject(appearance=[0, 0, 0, 0, 0, 0, 0, 0],value=0), EmptyObject(appearance=[0, 0, 0, 0, 0, 0, 0, 0],value=0), EmptyObject(appearance=[0, 0, 0, 0, 0, 0, 0, 0],value=0), EmptyObject(appearance=[0, 0, 0, 0, 0, 0, 0, 0],value=0), EmptyObject(appearance=[0, 0, 0, 0, 0, 0, 0, 0],value=0), EmptyObject(appearance=[0, 0, 0, 0, 0, 0, 0, 0],value=0), EmptyObject(appearance=[0, 0, 0, 0, 0, 0, 0, 0],value=0), EmptyObject(appearance=[0, 0, 0, 0, 0, 0, 0, 0],value=0), EmptyObject(appearance=[0, 0, 0, 0, 0, 0, 0, 0],value=0), EmptyObject(appearance=[0, 0, 0, 0, 0, 0, 0, 0],value=0), EmptyObject(appearance=[0, 0, 0, 0, 0, 0, 0, 0],value=0), EmptyObject(appearance=[0, 0, 0, 0, 0, 0, 0, 0],value=0), EmptyObject(appearance=[0, 0, 0, 0, 0, 0, 0, 0],value=0), EmptyObject(appearance=[0, 0, 0, 0, 0, 0, 0, 0],value=0), EmptyObject(appearance=[0, 0, 0, 0, 0, 0, 0, 0],value=0), EmptyObject(appearance=[0, 0, 0, 0, 0, 0, 0, 0],value=0), EmptyObject(appearance=[0, 0, 0, 0, 0, 0, 0, 0],value=0), EmptyObject(appearance=[0, 0, 0, 0, 0, 0, 0, 0],value=0), EmptyObject(appearance=[0, 0, 0, 0, 0, 0, 0, 0],value=0), EmptyObject(appearance=[0, 0, 0, 0, 0, 0, 0, 0],value=0), EmptyObject(appearance=[0, 0, 0, 0, 0, 0, 0, 0],value=0), EmptyObject(appearance=[0, 0, 0, 0, 0, 0, 0, 0],value=0), EmptyObject(appearance=[0, 0, 0, 0, 0, 0, 0, 0],value=0), EmptyObject(appearance=[0, 0, 0, 0, 0, 0, 0, 0],value=0), EmptyObject(appearance=[0, 0, 0, 0, 0, 0, 0, 0],value=0), EmptyObject(appearance=[0, 0, 0, 0, 0, 0, 0, 0],value=0), EmptyObject(appearance=[0, 0, 0, 0, 0, 0, 0, 0],value=0), EmptyObject(appearance=[0, 0, 0, 0, 0, 0, 0, 0],value=0), EmptyObject(appearance=[0, 0, 0, 0, 0, 0, 0, 0],value=0), EmptyObject(appearance=[0, 0, 0, 0, 0, 0, 0, 0],value=0), EmptyObject(appearance=[0, 0, 0, 0, 0, 0, 0, 0],value=0), EmptyObject(appearance=[0, 0, 0, 0, 0, 0, 0, 0],value=0), EmptyObject(appearance=[0, 0, 0, 0, 0, 0, 0, 0],value=0), EmptyObject(appearance=[0, 0, 0, 0, 0, 0, 0, 0],value=0), EmptyObject(appearance=[0, 0, 0, 0, 0, 0, 0, 0],value=0), EmptyObject(appearance=[0, 0, 0, 0, 0, 0, 0, 0],value=0), EmptyObject(appearance=[0, 0, 0, 0, 0, 0, 0, 0],value=0), EmptyObject(appearance=[0, 0, 0, 0, 0, 0, 0, 0],value=0), EmptyObject(appearance=[0, 0, 0, 0, 0, 0, 0, 0],value=0), EmptyObject(appearance=[0, 0, 0, 0, 0, 0, 0, 0],value=0), EmptyObject(appearance=[0, 0, 0, 0, 0, 0, 0, 0],value=0), EmptyObject(appearance=[0, 0, 0, 0, 0, 0, 0, 0],value=0), EmptyObject(appearance=[0, 0, 0, 0, 0, 0, 0, 0],value=0), EmptyObject(appearance=[0, 0, 0, 0, 0, 0, 0, 0],value=0), EmptyObject(appearance=[0, 0, 0, 0, 0, 0, 0, 0],value=0), EmptyObject(appearance=[0, 0, 0, 0, 0, 0, 0, 0],value=0), EmptyObject(appearance=[0, 0, 0, 0, 0, 0, 0, 0],value=0), EmptyObject(appearance=[0, 0, 0, 0, 0, 0, 0, 0],value=0), EmptyObject(appearance=[0, 0, 0, 0, 0, 0, 0, 0],value=0), EmptyObject(appearance=[0, 0, 0, 0, 0, 0, 0, 0],value=0), EmptyObject(appearance=[0, 0, 0, 0, 0, 0, 0, 0],value=0), EmptyObject(appearance=[0, 0, 0, 0, 0, 0, 0, 0],value=0), EmptyObject(appearance=[0, 0, 0, 0, 0, 0, 0, 0],value=0), EmptyObject(appearance=[0, 0, 0, 0, 0, 0, 0, 0],value=0), EmptyObject(appearance=[0, 0, 0, 0, 0, 0, 0, 0],value=0), EmptyObject(appearance=[0, 0, 0, 0, 0, 0, 0, 0],value=0), EmptyObject(appearance=[0, 0, 0, 0, 0, 0, 0, 0],value=0), EmptyObject(appearance=[0, 0, 0, 0, 0, 0, 0, 0],value=0), EmptyObject(appearance=[0, 0, 0, 0, 0, 0, 0, 0],value=0), EmptyObject(appearance=[0, 0, 0, 0, 0, 0, 0, 0],value=0), EmptyObject(appearance=[0, 0, 0, 0, 0, 0, 0, 0],value=0), EmptyObject(appearance=[0, 0, 0, 0, 0, 0, 0, 0],value=0), EmptyObject(appearance=[0, 0, 0, 0, 0, 0, 0, 0],value=0), EmptyObject(appearance=[0, 0, 0, 0, 0, 0, 0, 0],value=0), EmptyObject(appearance=[0, 0, 0, 0, 0, 0, 0, 0],value=0), EmptyObject(appearance=[0, 0, 0, 0, 0, 0, 0, 0],value=0), EmptyObject(appearance=[0, 0, 0, 0, 0, 0, 0, 0],value=0), EmptyObject(appearance=[0, 0, 0, 0, 0, 0, 0, 0],value=0), EmptyObject(appearance=[0, 0, 0, 0, 0, 0, 0, 0],value=0), EmptyObject(appearance=[0, 0, 0, 0, 0, 0, 0, 0],value=0), EmptyObject(appearance=[0, 0, 0, 0, 0, 0, 0, 0],value=0), EmptyObject(appearance=[0, 0, 0, 0, 0, 0, 0, 0],value=0), EmptyObject(appearance=[0, 0, 0, 0, 0, 0, 0, 0],value=0), EmptyObject(appearance=[0, 0, 0, 0, 0, 0, 0, 0],value=0), EmptyObject(appearance=[0, 0, 0, 0, 0, 0, 0, 0],value=0), EmptyObject(appearance=[0, 0, 0, 0, 0, 0, 0, 0],value=0), EmptyObject(appearance=[0, 0, 0, 0, 0, 0, 0, 0],value=0), EmptyObject(appearance=[0, 0, 0, 0, 0, 0, 0, 0],value=0), EmptyObject(appearance=[0, 0, 0, 0, 0, 0, 0, 0],value=0), EmptyObject(appearance=[0, 0, 0, 0, 0, 0, 0, 0],value=0), EmptyObject(appearance=[0, 0, 0, 0, 0, 0, 0, 0],value=0), EmptyObject(appearance=[0, 0, 0, 0, 0, 0, 0, 0],value=0), EmptyObject(appearance=[0, 0, 0, 0, 0, 0, 0, 0],value=0), EmptyObject(appearance=[0, 0, 0, 0, 0, 0, 0, 0],value=0), EmptyObject(appearance=[0, 0, 0, 0, 0, 0, 0, 0],value=0), EmptyObject(appearance=[0, 0, 0, 0, 0, 0, 0, 0],value=0), EmptyObject(appearance=[0, 0, 0, 0, 0, 0, 0, 0],value=0), EmptyObject(appearance=[0, 0, 0, 0, 0, 0, 0, 0],value=0), EmptyObject(appearance=[0, 0, 0, 0, 0, 0, 0, 0],value=0), EmptyObject(appearance=[0, 0, 0, 0, 0, 0, 0, 0],value=0), AppleTree(appearance=[0, 0, 0, 255, 0, 0, 0, 0],value=0), AppleTree(appearance=[0, 0, 0, 255, 0, 0, 0, 0],value=0), Apple(appearance=[0, 0, 255, 0, 0, 0, 0, 0],value=1), Apple(appearance=[0, 0, 255, 0, 0, 0, 0, 0],value=1), AppleTree(appearance=[0, 0, 0, 255, 0, 0, 0, 0],value=0), AppleTree(appearance=[0, 0, 0, 255, 0, 0, 0, 0],value=0), AppleTree(appearance=[0, 0, 0, 255, 0, 0, 0, 0],value=0), AppleTree(appearance=[0, 0, 0, 255, 0, 0, 0, 0],value=0), AppleTree(appearance=[0, 0, 0, 255, 0, 0, 0, 0],value=0), AppleTree(appearance=[0, 0, 0, 255, 0, 0, 0, 0],value=0), AppleTree(appearance=[0, 0, 0, 255, 0, 0, 0, 0],value=0), AppleTree(appearance=[0, 0, 0, 255, 0, 0, 0, 0],value=0), AppleTree(appearance=[0, 0, 0, 255, 0, 0, 0, 0],value=0), AppleTree(appearance=[0, 0, 0, 255, 0, 0, 0, 0],value=0), AppleTree(appearance=[0, 0, 0, 255, 0, 0, 0, 0],value=0), AppleTree(appearance=[0, 0, 0, 255, 0, 0, 0, 0],value=0), AppleTree(appearance=[0, 0, 0, 255, 0, 0, 0, 0],value=0), AppleTree(appearance=[0, 0, 0, 255, 0, 0, 0, 0],value=0), AppleTree(appearance=[0, 0, 0, 255, 0, 0, 0, 0],value=0), Apple(appearance=[0, 0, 255, 0, 0, 0, 0, 0],value=1), AppleTree(appearance=[0, 0, 0, 255, 0, 0, 0, 0],value=0), AppleTree(appearance=[0, 0, 0, 255, 0, 0, 0, 0],value=0), AppleTree(appearance=[0, 0, 0, 255, 0, 0, 0, 0],value=0), AppleTree(appearance=[0, 0, 0, 255, 0, 0, 0, 0],value=0), Apple(appearance=[0, 0, 255, 0, 0, 0, 0, 0],value=1), AppleTree(appearance=[0, 0, 0, 255, 0, 0, 0, 0],value=0), AppleTree(appearance=[0, 0, 0, 255, 0, 0, 0, 0],value=0), AppleTree(appearance=[0, 0, 0, 255, 0, 0, 0, 0],value=0), AppleTree(appearance=[0, 0, 0, 255, 0, 0, 0, 0],value=0), AppleTree(appearance=[0, 0, 0, 255, 0, 0, 0, 0],value=0), AppleTree(appearance=[0, 0, 0, 255, 0, 0, 0, 0],value=0), AppleTree(appearance=[0, 0, 0, 255, 0, 0, 0, 0],value=0), AppleTree(appearance=[0, 0, 0, 255, 0, 0, 0, 0],value=0), AppleTree(appearance=[0, 0, 0, 255, 0, 0, 0, 0],value=0), AppleTree(appearance=[0, 0, 0, 255, 0, 0, 0, 0],value=0), AppleTree(appearance=[0, 0, 0, 255, 0, 0, 0, 0],value=0), AppleTree(appearance=[0, 0, 0, 255, 0, 0, 0, 0],value=0), AppleTree(appearance=[0, 0, 0, 255, 0, 0, 0, 0],value=0), AppleTree(appearance=[0, 0, 0, 255, 0, 0, 0, 0],value=0), AppleTree(appearance=[0, 0, 0, 255, 0, 0, 0, 0],value=0), AppleTree(appearance=[0, 0, 0, 255, 0, 0, 0, 0],value=0), AppleTree(appearance=[0, 0, 0, 255, 0, 0, 0, 0],value=0), AppleTree(appearance=[0, 0, 0, 255, 0, 0, 0, 0],value=0), Apple(appearance=[0, 0, 255, 0, 0, 0, 0, 0],value=1), AppleTree(appearance=[0, 0, 0, 255, 0, 0, 0, 0],value=0), AppleTree(appearance=[0, 0, 0, 255, 0, 0, 0, 0],value=0), AppleTree(appearance=[0, 0, 0, 255, 0, 0, 0, 0],value=0), AppleTree(appearance=[0, 0, 0, 255, 0, 0, 0, 0],value=0), AppleTree(appearance=[0, 0, 0, 255, 0, 0, 0, 0],value=0), AppleTree(appearance=[0, 0, 0, 255, 0, 0, 0, 0],value=0), AppleTree(appearance=[0, 0, 0, 255, 0, 0, 0, 0],value=0), AppleTree(appearance=[0, 0, 0, 255, 0, 0, 0, 0],value=0), Apple(appearance=[0, 0, 255, 0, 0, 0, 0, 0],value=1), AppleTree(appearance=[0, 0, 0, 255, 0, 0, 0, 0],value=0), AppleTree(appearance=[0, 0, 0, 255, 0, 0, 0, 0],value=0), AppleTree(appearance=[0, 0, 0, 255, 0, 0, 0, 0],value=0), AppleTree(appearance=[0, 0, 0, 255, 0, 0, 0, 0],value=0), AppleTree(appearance=[0, 0, 0, 255, 0, 0, 0, 0],value=0), AppleTree(appearance=[0, 0, 0, 255, 0, 0, 0, 0],value=0), AppleTree(appearance=[0, 0, 0, 255, 0, 0, 0, 0],value=0), AppleTree(appearance=[0, 0, 0, 255, 0, 0, 0, 0],value=0), AppleTree(appearance=[0, 0, 0, 255, 0, 0, 0, 0],value=0), AppleTree(appearance=[0, 0, 0, 255, 0, 0, 0, 0],value=0), AppleTree(appearance=[0, 0, 0, 255, 0, 0, 0, 0],value=0), AppleTree(appearance=[0, 0, 0, 255, 0, 0, 0, 0],value=0), AppleTree(appearance=[0, 0, 0, 255, 0, 0, 0, 0],value=0), AppleTree(appearance=[0, 0, 0, 255, 0, 0, 0, 0],value=0), AppleTree(appearance=[0, 0, 0, 255, 0, 0, 0, 0],value=0), AppleTree(appearance=[0, 0, 0, 255, 0, 0, 0, 0],value=0), AppleTree(appearance=[0, 0, 0, 255, 0, 0, 0, 0],value=0), AppleTree(appearance=[0, 0, 0, 255, 0, 0, 0, 0],value=0), Apple(appearance=[0, 0, 255, 0, 0, 0, 0, 0],value=1), AppleTree(appearance=[0, 0, 0, 255, 0, 0, 0, 0],value=0), AppleTree(appearance=[0, 0, 0, 255, 0, 0, 0, 0],value=0), AppleTree(appearance=[0, 0, 0, 255, 0, 0, 0, 0],value=0), AppleTree(appearance=[0, 0, 0, 255, 0, 0, 0, 0],value=0), AppleTree(appearance=[0, 0, 0, 255, 0, 0, 0, 0],value=0), AppleTree(appearance=[0, 0, 0, 255, 0, 0, 0, 0],value=0), AppleTree(appearance=[0, 0, 0, 255, 0, 0, 0, 0],value=0), AppleTree(appearance=[0, 0, 0, 255, 0, 0, 0, 0],value=0), AppleTree(appearance=[0, 0, 0, 255, 0, 0, 0, 0],value=0), AppleTree(appearance=[0, 0, 0, 255, 0, 0, 0, 0],value=0), AppleTree(appearance=[0, 0, 0, 255, 0, 0, 0, 0],value=0), AppleTree(appearance=[0, 0, 0, 255, 0, 0, 0, 0],value=0), AppleTree(appearance=[0, 0, 0, 255, 0, 0, 0, 0],value=0), AppleTree(appearance=[0, 0, 0, 255, 0, 0, 0, 0],value=0), Apple(appearance=[0, 0, 255, 0, 0, 0, 0, 0],value=1), AppleTree(appearance=[0, 0, 0, 255, 0, 0, 0, 0],value=0), AppleTree(appearance=[0, 0, 0, 255, 0, 0, 0, 0],value=0), AppleTree(appearance=[0, 0, 0, 255, 0, 0, 0, 0],value=0), Apple(appearance=[0, 0, 255, 0, 0, 0, 0, 0],value=1), AppleTree(appearance=[0, 0, 0, 255, 0, 0, 0, 0],value=0), AppleTree(appearance=[0, 0, 0, 255, 0, 0, 0, 0],value=0), AppleTree(appearance=[0, 0, 0, 255, 0, 0, 0, 0],value=0), AppleTree(appearance=[0, 0, 0, 255, 0, 0, 0, 0],value=0), AppleTree(appearance=[0, 0, 0, 255, 0, 0, 0, 0],value=0), AppleTree(appearance=[0, 0, 0, 255, 0, 0, 0, 0],value=0), AppleTree(appearance=[0, 0, 0, 255, 0, 0, 0, 0],value=0), AppleTree(appearance=[0, 0, 0, 255, 0, 0, 0, 0],value=0), AppleTree(appearance=[0, 0, 0, 255, 0, 0, 0, 0],value=0), AppleTree(appearance=[0, 0, 0, 255, 0, 0, 0, 0],value=0), AppleTree(appearance=[0, 0, 0, 255, 0, 0, 0, 0],value=0), AppleTree(appearance=[0, 0, 0, 255, 0, 0, 0, 0],value=0), AppleTree(appearance=[0, 0, 0, 255, 0, 0, 0, 0],value=0), AppleTree(appearance=[0, 0, 0, 255, 0, 0, 0, 0],value=0), AppleTree(appearance=[0, 0, 0, 255, 0, 0, 0, 0],value=0), AppleTree(appearance=[0, 0, 0, 255, 0, 0, 0, 0],value=0), AppleTree(appearance=[0, 0, 0, 255, 0, 0, 0, 0],value=0), AppleTree(appearance=[0, 0, 0, 255, 0, 0, 0, 0],value=0), AppleTree(appearance=[0, 0, 0, 255, 0, 0, 0, 0],value=0), AppleTree(appearance=[0, 0, 0, 255, 0, 0, 0, 0],value=0), AppleTree(appearance=[0, 0, 0, 255, 0, 0, 0, 0],value=0), AppleTree(appearance=[0, 0, 0, 255, 0, 0, 0, 0],value=0), AppleTree(appearance=[0, 0, 0, 255, 0, 0, 0, 0],value=0), AppleTree(appearance=[0, 0, 0, 255, 0, 0, 0, 0],value=0), AppleTree(appearance=[0, 0, 0, 255, 0, 0, 0, 0],value=0), AppleTree(appearance=[0, 0, 0, 255, 0, 0, 0, 0],value=0), AppleTree(appearance=[0, 0, 0, 255, 0, 0, 0, 0],value=0), AppleTree(appearance=[0, 0, 0, 255, 0, 0, 0, 0],value=0), AppleTree(appearance=[0, 0, 0, 255, 0, 0, 0, 0],value=0), AppleTree(appearance=[0, 0, 0, 255, 0, 0, 0, 0],value=0), AppleTree(appearance=[0, 0, 0, 255, 0, 0, 0, 0],value=0), AppleTree(appearance=[0, 0, 0, 255, 0, 0, 0, 0],value=0), AppleTree(appearance=[0, 0, 0, 255, 0, 0, 0, 0],value=0), AppleTree(appearance=[0, 0, 0, 255, 0, 0, 0, 0],value=0), AppleTree(appearance=[0, 0, 0, 255, 0, 0, 0, 0],value=0), AppleTree(appearance=[0, 0, 0, 255, 0, 0, 0, 0],value=0), AppleTree(appearance=[0, 0, 0, 255, 0, 0, 0, 0],value=0), AppleTree(appearance=[0, 0, 0, 255, 0, 0, 0, 0],value=0), AppleTree(appearance=[0, 0, 0, 255, 0, 0, 0, 0],value=0), AppleTree(appearance=[0, 0, 0, 255, 0, 0, 0, 0],value=0), AppleTree(appearance=[0, 0, 0, 255, 0, 0, 0, 0],value=0), AppleTree(appearance=[0, 0, 0, 255, 0, 0, 0, 0],value=0), AppleTree(appearance=[0, 0, 0, 255, 0, 0, 0, 0],value=0), AppleTree(appearance=[0, 0, 0, 255, 0, 0, 0, 0],value=0), AppleTree(appearance=[0, 0, 0, 255, 0, 0, 0, 0],value=0), AppleTree(appearance=[0, 0, 0, 255, 0, 0, 0, 0],value=0), AppleTree(appearance=[0, 0, 0, 255, 0, 0, 0, 0],value=0), AppleTree(appearance=[0, 0, 0, 255, 0, 0, 0, 0],value=0), AppleTree(appearance=[0, 0, 0, 255, 0, 0, 0, 0],value=0), AppleTree(appearance=[0, 0, 0, 255, 0, 0, 0, 0],value=0), AppleTree(appearance=[0, 0, 0, 255, 0, 0, 0, 0],value=0), AppleTree(appearance=[0, 0, 0, 255, 0, 0, 0, 0],value=0), AppleTree(appearance=[0, 0, 0, 255, 0, 0, 0, 0],value=0), AppleTree(appearance=[0, 0, 0, 255, 0, 0, 0, 0],value=0), AppleTree(appearance=[0, 0, 0, 255, 0, 0, 0, 0],value=0), AppleTree(appearance=[0, 0, 0, 255, 0, 0, 0, 0],value=0), AppleTree(appearance=[0, 0, 0, 255, 0, 0, 0, 0],value=0), AppleTree(appearance=[0, 0, 0, 255, 0, 0, 0, 0],value=0), AppleTree(appearance=[0, 0, 0, 255, 0, 0, 0, 0],value=0), AppleTree(appearance=[0, 0, 0, 255, 0, 0, 0, 0],value=0), AppleTree(appearance=[0, 0, 0, 255, 0, 0, 0, 0],value=0), AppleTree(appearance=[0, 0, 0, 255, 0, 0, 0, 0],value=0), AppleTree(appearance=[0, 0, 0, 255, 0, 0, 0, 0],value=0), AppleTree(appearance=[0, 0, 0, 255, 0, 0, 0, 0],value=0), AppleTree(appearance=[0, 0, 0, 255, 0, 0, 0, 0],value=0), AppleTree(appearance=[0, 0, 0, 255, 0, 0, 0, 0],value=0), AppleTree(appearance=[0, 0, 0, 255, 0, 0, 0, 0],value=0), AppleTree(appearance=[0, 0, 0, 255, 0, 0, 0, 0],value=0), AppleTree(appearance=[0, 0, 0, 255, 0, 0, 0, 0],value=0), AppleTree(appearance=[0, 0, 0, 255, 0, 0, 0, 0],value=0), AppleTree(appearance=[0, 0, 0, 255, 0, 0, 0, 0],value=0), AppleTree(appearance=[0, 0, 0, 255, 0, 0, 0, 0],value=0), AppleTree(appearance=[0, 0, 0, 255, 0, 0, 0, 0],value=0), AppleTree(appearance=[0, 0, 0, 255, 0, 0, 0, 0],value=0), AppleTree(appearance=[0, 0, 0, 255, 0, 0, 0, 0],value=0), AppleTree(appearance=[0, 0, 0, 255, 0, 0, 0, 0],value=0), AppleTree(appearance=[0, 0, 0, 255, 0, 0, 0, 0],value=0), AppleTree(appearance=[0, 0, 0, 255, 0, 0, 0, 0],value=0), AppleTree(appearance=[0, 0, 0, 255, 0, 0, 0, 0],value=0), AppleTree(appearance=[0, 0, 0, 255, 0, 0, 0, 0],value=0), AppleTree(appearance=[0, 0, 0, 255, 0, 0, 0, 0],value=0), AppleTree(appearance=[0, 0, 0, 255, 0, 0, 0, 0],value=0), AppleTree(appearance=[0, 0, 0, 255, 0, 0, 0, 0],value=0)]\n",
      "(1, 6, 0)\n",
      "River\n",
      "(1, 12, 0)\n",
      "River\n",
      "(1, 23, 0)\n",
      "River\n",
      "(2, 26, 0)\n",
      "River\n",
      "(3, 9, 0)\n",
      "River\n",
      "(3, 22, 0)\n",
      "River\n",
      "(5, 11, 0)\n",
      "River\n",
      "(15, 4, 0)\n",
      "AppleTree\n",
      "(15, 16, 0)\n",
      "AppleTree\n",
      "(15, 18, 0)\n",
      "AppleTree\n",
      "(15, 19, 0)\n",
      "AppleTree\n",
      "(15, 25, 0)\n",
      "AppleTree\n",
      "(16, 1, 0)\n",
      "AppleTree\n",
      "(16, 11, 0)\n",
      "AppleTree\n",
      "(17, 11, 0)\n",
      "AppleTree\n",
      "(17, 16, 0)\n",
      "AppleTree\n",
      "(18, 3, 0)\n",
      "AppleTree\n",
      "(19, 23, 0)\n",
      "AppleTree\n",
      "[-0.43388374 -0.90096887  0.78183148  0.6234898   0.97492791 -0.22252093\n",
      "  0.79077574 -0.61210598 -0.96807712 -0.25065253  0.48530196 -0.87434662]\n"
     ]
    },
    {
     "ename": "NameError",
     "evalue": "name 'hkhkh' is not defined",
     "output_type": "error",
     "traceback": [
      "\u001b[0;31m---------------------------------------------------------------------------\u001b[0m",
      "\u001b[0;31mNameError\u001b[0m                                 Traceback (most recent call last)",
      "Cell \u001b[0;32mIn[4], line 27\u001b[0m\n\u001b[1;32m     25\u001b[0m positional_code \u001b[38;5;241m=\u001b[39m positional_embedding(agent\u001b[38;5;241m.\u001b[39mlocation, env, \u001b[38;5;241m3\u001b[39m, \u001b[38;5;241m3\u001b[39m)\n\u001b[1;32m     26\u001b[0m \u001b[38;5;28mprint\u001b[39m(positional_code)\n\u001b[0;32m---> 27\u001b[0m hkhkh\n\u001b[1;32m     28\u001b[0m img \u001b[38;5;241m=\u001b[39m visual_field_multilayer(env\u001b[38;5;241m.\u001b[39mworld, env\u001b[38;5;241m.\u001b[39mcolor_map, channels\u001b[38;5;241m=\u001b[39m\u001b[38;5;241m8\u001b[39m, return_rgb\u001b[38;5;241m=\u001b[39m\u001b[38;5;28;01mTrue\u001b[39;00m)\n\u001b[1;32m     29\u001b[0m clear_output(wait \u001b[38;5;241m=\u001b[39m \u001b[38;5;28;01mTrue\u001b[39;00m)\n",
      "\u001b[0;31mNameError\u001b[0m: name 'hkhkh' is not defined"
     ]
    }
   ],
   "source": [
    "for epoch in range(cfg.experiment.epochs):\n",
    "    # Reset the environment at the start of each epoch\n",
    "        for agent in env.agents:\n",
    "            agent.reset()\n",
    "        random.shuffle(agents)\n",
    "\n",
    "        done = 0 \n",
    "        turn = 0\n",
    "        losses = 0\n",
    "        game_points = 0\n",
    "\n",
    "        while not done:\n",
    "\n",
    "            turn = turn + 1\n",
    "\n",
    "            entities = env.get_entities_for_transition()\n",
    "            print(entities)\n",
    "            # Entity transition\n",
    "            for entity in entities:\n",
    "                entity.transition(env)\n",
    "\n",
    "            # Agent transition\n",
    "            for agent in agents:\n",
    "\n",
    "                location_code = positional_embedding(agent.location, env, 3, 3)\n",
    "                img = visual_field_multilayer(env.world, env.color_map, channels=8, return_rgb=True)\n",
    "                clear_output(wait = True)\n",
    "                plt.imshow(img.astype(int))\n",
    "                plt.show()\n",
    "\n",
    "                (state,\n",
    "                action,\n",
    "                reward,\n",
    "                next_state,\n",
    "                done_\n",
    "                ) = agent.transition(env)\n",
    "\n",
    "                if turn >= cfg.experiment.max_turns or done_:\n",
    "                    done = 1\n",
    "\n",
    "                exp = (1, (state, action, reward, next_state, done))\n",
    "                agent.episode_memory.append(exp)\n",
    "\n",
    "                game_points += reward\n"
   ]
  },
  {
   "cell_type": "code",
   "execution_count": 19,
   "metadata": {},
   "outputs": [
    {
     "ename": "NameError",
     "evalue": "name 'agent' is not defined",
     "output_type": "error",
     "traceback": [
      "\u001b[0;31m---------------------------------------------------------------------------\u001b[0m",
      "\u001b[0;31mNameError\u001b[0m                                 Traceback (most recent call last)",
      "Cell \u001b[0;32mIn[19], line 1\u001b[0m\n\u001b[0;32m----> 1\u001b[0m agent_positional_code \u001b[38;5;241m=\u001b[39m generate_positional_embedding_for_coordinate(agents[\u001b[38;5;241m0\u001b[39m]\u001b[38;5;241m.\u001b[39mlocation[\u001b[38;5;241m0\u001b[39m], agent\u001b[38;5;241m.\u001b[39mlocation[\u001b[38;5;241m1\u001b[39m], env\u001b[38;5;241m.\u001b[39mheight, env\u001b[38;5;241m.\u001b[39mwidth, \u001b[38;5;241m3\u001b[39m, \u001b[38;5;241m3\u001b[39m)\n",
      "\u001b[0;31mNameError\u001b[0m: name 'agent' is not defined"
     ]
    }
   ],
   "source": []
  },
  {
   "cell_type": "code",
   "execution_count": 12,
   "metadata": {},
   "outputs": [
    {
     "data": {
      "text/plain": [
       "21"
      ]
     },
     "execution_count": 12,
     "metadata": {},
     "output_type": "execute_result"
    }
   ],
   "source": [
    "env.height\n",
    "#agents[0].location"
   ]
  }
 ],
 "metadata": {
  "kernelspec": {
   "display_name": "Python 3",
   "language": "python",
   "name": "python3"
  },
  "language_info": {
   "codemirror_mode": {
    "name": "ipython",
    "version": 3
   },
   "file_extension": ".py",
   "mimetype": "text/x-python",
   "name": "python",
   "nbconvert_exporter": "python",
   "pygments_lexer": "ipython3",
   "version": "3.11.7"
  }
 },
 "nbformat": 4,
 "nbformat_minor": 2
}
