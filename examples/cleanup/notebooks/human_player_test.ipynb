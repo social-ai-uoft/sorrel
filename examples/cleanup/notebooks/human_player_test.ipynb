{
 "cells": [
  {
   "cell_type": "code",
   "execution_count": 1,
   "metadata": {},
   "outputs": [],
   "source": [
    "%load_ext autoreload\n",
    "\n",
    "# --------------- #\n",
    "# region: Imports #\n",
    "import os\n",
    "import sys\n",
    "module_path = os.path.abspath('../../..')\n",
    "if module_path not in sys.path:\n",
    "  sys.path.insert(0, module_path)\n",
    "# endregion   #\n",
    "# --------------- #"
   ]
  },
  {
   "cell_type": "code",
   "execution_count": 2,
   "metadata": {},
   "outputs": [
    {
     "ename": "AttributeError",
     "evalue": "'Cfg' object has no attribute 'appearance'",
     "output_type": "error",
     "traceback": [
      "\u001b[0;31m---------------------------------------------------------------------------\u001b[0m",
      "\u001b[0;31mAttributeError\u001b[0m                            Traceback (most recent call last)",
      "Cell \u001b[0;32mIn[2], line 20\u001b[0m\n\u001b[1;32m     17\u001b[0m agents \u001b[38;5;241m=\u001b[39m []\n\u001b[1;32m     18\u001b[0m \u001b[38;5;28;01mfor\u001b[39;00m i \u001b[38;5;129;01min\u001b[39;00m \u001b[38;5;28mrange\u001b[39m(N_AGENTS):\n\u001b[1;32m     19\u001b[0m   agents\u001b[38;5;241m.\u001b[39mappend(\n\u001b[0;32m---> 20\u001b[0m   Agent(cfg, appearance \u001b[38;5;241m=\u001b[39m \u001b[43mcfg\u001b[49m\u001b[38;5;241;43m.\u001b[39;49m\u001b[43magent\u001b[49m\u001b[38;5;241;43m.\u001b[39;49m\u001b[43magent\u001b[49m\u001b[38;5;241;43m.\u001b[39;49m\u001b[43mappearance\u001b[49m, model \u001b[38;5;241m=\u001b[39m ModelHumanPlayer(\u001b[38;5;241m7\u001b[39m, state_size\u001b[38;5;241m=\u001b[39m[\n\u001b[1;32m     21\u001b[0m   cfg\u001b[38;5;241m.\u001b[39menv\u001b[38;5;241m.\u001b[39mchannels, cfg\u001b[38;5;241m.\u001b[39menv\u001b[38;5;241m.\u001b[39mheight, cfg\u001b[38;5;241m.\u001b[39menv\u001b[38;5;241m.\u001b[39mwidth\n\u001b[1;32m     22\u001b[0m   ], memory_size\u001b[38;5;241m=\u001b[39m\u001b[38;5;241m1\u001b[39m))\n\u001b[1;32m     23\u001b[0m   )\n\u001b[1;32m     25\u001b[0m env \u001b[38;5;241m=\u001b[39m Cleanup(\n\u001b[1;32m     26\u001b[0m   cfg, agents\n\u001b[1;32m     27\u001b[0m )\n",
      "\u001b[0;31mAttributeError\u001b[0m: 'Cfg' object has no attribute 'appearance'"
     ]
    }
   ],
   "source": [
    "from examples.cleanup.env import Cleanup\n",
    "from examples.cleanup.agents import Agent\n",
    "from examples.RPG.utils import load_config\n",
    "from agentarium.embedding import positional_embedding\n",
    "from agentarium.models.human_player import ModelHumanPlayer\n",
    "from agentarium.utils import visual_field_sprite, image_from_array\n",
    "\n",
    "from IPython.display import clear_output\n",
    "\n",
    "import argparse\n",
    "import matplotlib.pyplot as plt\n",
    "import random\n",
    "\n",
    "cfg = load_config(argparse.Namespace(config='../configs/config.yaml'))\n",
    "\n",
    "N_AGENTS = 3\n",
    "agents = []\n",
    "for i in range(N_AGENTS):\n",
    "  agents.append(\n",
    "  Agent(cfg, appearance = cfg.agent.agent.appearance, model = ModelHumanPlayer(7, state_size=[\n",
    "  cfg.env.channels, cfg.env.height, cfg.env.width\n",
    "  ], memory_size=1))\n",
    "  )\n",
    "\n",
    "env = Cleanup(\n",
    "  cfg, agents\n",
    ")"
   ]
  },
  {
   "cell_type": "code",
   "execution_count": null,
   "metadata": {},
   "outputs": [
    {
     "data": {
      "image/png": "[encoded data removed]",
      "text/plain": [
       "<PIL.Image.Image image mode=RGBA size=496x336>"
      ]
     },
     "metadata": {},
     "output_type": "display_data"
    },
    {
     "name": "stdout",
     "output_type": "stream",
     "text": [
      "Please try again. Possible actions are below.\n",
      "[0 1 2 3 4 5 6]\n"
     ]
    },
    {
     "ename": "UnboundLocalError",
     "evalue": "cannot access local variable 'action' where it is not associated with a value",
     "output_type": "error",
     "traceback": [
      "\u001b[0;31m---------------------------------------------------------------------------\u001b[0m",
      "\u001b[0;31mUnboundLocalError\u001b[0m                         Traceback (most recent call last)",
      "Cell \u001b[0;32mIn[3], line 32\u001b[0m\n\u001b[1;32m     29\u001b[0m display(img0)\n\u001b[1;32m     31\u001b[0m \u001b[38;5;66;03m# Take action based on current state\u001b[39;00m\n\u001b[0;32m---> 32\u001b[0m action \u001b[38;5;241m=\u001b[39m \u001b[43magent\u001b[49m\u001b[38;5;241;43m.\u001b[39;49m\u001b[43mmodel\u001b[49m\u001b[38;5;241;43m.\u001b[39;49m\u001b[43mtake_action\u001b[49m\u001b[43m(\u001b[49m\u001b[43m[\u001b[49m\u001b[43m]\u001b[49m\u001b[43m)\u001b[49m\n\u001b[1;32m     34\u001b[0m (reward,\n\u001b[1;32m     35\u001b[0m next_state,\n\u001b[1;32m     36\u001b[0m done_\n\u001b[1;32m     37\u001b[0m ) \u001b[38;5;241m=\u001b[39m agent\u001b[38;5;241m.\u001b[39mtransition(env, [], action)\n\u001b[1;32m     39\u001b[0m \u001b[38;5;28;01mif\u001b[39;00m turn \u001b[38;5;241m>\u001b[39m\u001b[38;5;241m=\u001b[39m cfg\u001b[38;5;241m.\u001b[39mexperiment\u001b[38;5;241m.\u001b[39mmax_turns \u001b[38;5;129;01mor\u001b[39;00m done_:\n",
      "File \u001b[0;32m~/Documents/GitHub/agentarium/gem/models/human_player.py:43\u001b[0m, in \u001b[0;36mModelHumanPlayer.take_action\u001b[0;34m(self, state)\u001b[0m\n\u001b[1;32m     41\u001b[0m     \u001b[38;5;28mprint\u001b[39m(\u001b[38;5;28mself\u001b[39m\u001b[38;5;241m.\u001b[39maction_space)\n\u001b[1;32m     42\u001b[0m     \u001b[38;5;66;03m# we can have iinputType above also be joystick, or other controller\u001b[39;00m\n\u001b[0;32m---> 43\u001b[0m \u001b[38;5;28;01mif\u001b[39;00m \u001b[43maction\u001b[49m \u001b[38;5;129;01mis\u001b[39;00m \u001b[38;5;129;01mnot\u001b[39;00m \u001b[38;5;28;01mNone\u001b[39;00m:\n\u001b[1;32m     44\u001b[0m     \u001b[38;5;28;01mif\u001b[39;00m action \u001b[38;5;129;01min\u001b[39;00m \u001b[38;5;28mself\u001b[39m\u001b[38;5;241m.\u001b[39maction_space:\n\u001b[1;32m     45\u001b[0m         done \u001b[38;5;241m=\u001b[39m \u001b[38;5;241m1\u001b[39m\n",
      "\u001b[0;31mUnboundLocalError\u001b[0m: cannot access local variable 'action' where it is not associated with a value"
     ]
    }
   ],
   "source": [
    "for epoch in range(cfg.experiment.epochs):\n",
    "    # Reset the environment at the start of each epoch\n",
    "        for agent in env.agents:\n",
    "            agent.reset()\n",
    "        random.shuffle(agents)\n",
    "\n",
    "        done = 0 \n",
    "        turn = 0\n",
    "        losses = 0\n",
    "        game_points = 0\n",
    "\n",
    "        while not done:\n",
    "\n",
    "            turn = turn + 1\n",
    "\n",
    "            entities = env.get_entities_for_transition()\n",
    "\n",
    "            # Entity transition\n",
    "            for entity in entities:\n",
    "                entity.transition(env)\n",
    "\n",
    "            # Agent transition\n",
    "            for agent in agents:\n",
    "\n",
    "                location_code = positional_embedding(agent.location, env, 3, 3)\n",
    "                img = visual_field_sprite(env.world)\n",
    "                clear_output(wait = True)\n",
    "                img0 = image_from_array(img)\n",
    "                display(img0)\n",
    "\n",
    "                # Take action based on current state\n",
    "                action = agent.model.take_action([])\n",
    "\n",
    "                (reward,\n",
    "                next_state,\n",
    "                done_\n",
    "                ) = agent.transition(env, [], action)\n",
    "\n",
    "                if turn >= cfg.experiment.max_turns or done_:\n",
    "                    done = 1\n",
    "\n",
    "                exp = (1, ([], action, reward, next_state, done))\n",
    "                agent.episode_memory.append(exp)\n",
    "\n",
    "                game_points += reward\n"
   ]
  },
  {
   "cell_type": "code",
   "execution_count": null,
   "metadata": {},
   "outputs": [],
   "source": []
  }
 ],
 "metadata": {
  "kernelspec": {
   "display_name": "Python 3",
   "language": "python",
   "name": "python3"
  },
  "language_info": {
   "codemirror_mode": {
    "name": "ipython",
    "version": 3
   },
   "file_extension": ".py",
   "mimetype": "text/x-python",
   "name": "python",
   "nbconvert_exporter": "python",
   "pygments_lexer": "ipython3",
   "version": "3.12.3+"
  }
 },
 "nbformat": 4,
 "nbformat_minor": 2
}
