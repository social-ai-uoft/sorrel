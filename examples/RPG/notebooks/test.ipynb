{
 "cells": [
  {
   "cell_type": "code",
   "execution_count": 1,
   "metadata": {},
   "outputs": [],
   "source": [
    "%load_ext autoreload\n",
    "\n",
    "# --------------- #\n",
    "# region: Imports #\n",
    "import os\n",
    "import sys\n",
    "module_path = os.path.abspath('../../..')\n",
    "if module_path not in sys.path:\n",
    "    sys.path.insert(0, module_path)\n",
    "# endregion       #\n",
    "# --------------- #"
   ]
  },
  {
   "cell_type": "code",
   "execution_count": 2,
   "metadata": {},
   "outputs": [],
   "source": [
    "# %autoreload 2\n",
    "# from examples.RPG.test import train_transformer_model\n",
    "# from examples.RPG.utils import load_config\n",
    "# import argparse\n",
    "\n",
    "# cfg = load_config(argparse.Namespace(config='../configs/config.yaml'))\n",
    "\n",
    "# train_transformer_model(cfg, 'iRainbowModel_20230916-17091694900425')\n"
   ]
  },
  {
   "cell_type": "code",
   "execution_count": 3,
   "metadata": {},
   "outputs": [],
   "source": [
    "# import argparse\n",
    "# from gem.models.transformer import ViTOneHot\n",
    "# from gem.config import load_config\n",
    "\n",
    "# cfg = load_config(argparse.Namespace(config='../configs/transformer.yaml'))\n",
    "\n",
    "# model = ViTOneHot(**vars(cfg.model))"
   ]
  },
  {
   "cell_type": "code",
   "execution_count": null,
   "metadata": {},
   "outputs": [],
   "source": []
  }
 ],
 "metadata": {
  "kernelspec": {
   "display_name": "Python 3",
   "language": "python",
   "name": "python3"
  },
  "language_info": {
   "codemirror_mode": {
    "name": "ipython",
    "version": 3
   },
   "file_extension": ".py",
   "mimetype": "text/x-python",
   "name": "python",
   "nbconvert_exporter": "python",
   "pygments_lexer": "ipython3",
   "version": "3.12.2"
  },
  "orig_nbformat": 4
 },
 "nbformat": 4,
 "nbformat_minor": 2
}
