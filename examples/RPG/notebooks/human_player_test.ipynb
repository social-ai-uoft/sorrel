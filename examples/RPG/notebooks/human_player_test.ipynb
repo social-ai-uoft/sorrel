{
 "cells": [
  {
   "cell_type": "code",
   "execution_count": 1,
   "metadata": {},
   "outputs": [],
   "source": [
    "%load_ext autoreload\n",
    "\n",
    "# --------------- #\n",
    "# region: Imports #\n",
    "import os\n",
    "import sys\n",
    "module_path = os.path.abspath('../../..')\n",
    "if module_path not in sys.path:\n",
    "    sys.path.insert(0, module_path)\n",
    "# endregion       #\n",
    "# --------------- #"
   ]
  },
  {
   "cell_type": "code",
   "execution_count": 2,
   "metadata": {},
   "outputs": [
    {
     "ename": "ModuleNotFoundError",
     "evalue": "No module named 'examples.RPG.config'",
     "output_type": "error",
     "traceback": [
      "\u001b[0;31m---------------------------------------------------------------------------\u001b[0m",
      "\u001b[0;31mModuleNotFoundError\u001b[0m                       Traceback (most recent call last)",
      "Cell \u001b[0;32mIn[2], line 12\u001b[0m\n\u001b[1;32m      9\u001b[0m \u001b[38;5;28;01mfrom\u001b[39;00m \u001b[38;5;21;01mgem\u001b[39;00m\u001b[38;5;21;01m.\u001b[39;00m\u001b[38;5;21;01mmodels\u001b[39;00m\u001b[38;5;21;01m.\u001b[39;00m\u001b[38;5;21;01mbuffer\u001b[39;00m \u001b[38;5;28;01mimport\u001b[39;00m ActionBatchReplayBuffer \u001b[38;5;28;01mas\u001b[39;00m ABRBuffer\n\u001b[1;32m     11\u001b[0m \u001b[38;5;28;01mfrom\u001b[39;00m \u001b[38;5;21;01mexamples\u001b[39;00m\u001b[38;5;21;01m.\u001b[39;00m\u001b[38;5;21;01mRPG\u001b[39;00m\u001b[38;5;21;01m.\u001b[39;00m\u001b[38;5;21;01menv\u001b[39;00m \u001b[38;5;28;01mimport\u001b[39;00m RPG\n\u001b[0;32m---> 12\u001b[0m \u001b[38;5;28;01mfrom\u001b[39;00m \u001b[38;5;21;01mexamples\u001b[39;00m\u001b[38;5;21;01m.\u001b[39;00m\u001b[38;5;21;01mRPG\u001b[39;00m\u001b[38;5;21;01m.\u001b[39;00m\u001b[38;5;21;01mconfig\u001b[39;00m \u001b[38;5;28;01mimport\u001b[39;00m create_agents, create_entities\n\u001b[1;32m     13\u001b[0m \u001b[38;5;28;01mfrom\u001b[39;00m \u001b[38;5;21;01mexamples\u001b[39;00m\u001b[38;5;21;01m.\u001b[39;00m\u001b[38;5;21;01mtrucks\u001b[39;00m\u001b[38;5;21;01m.\u001b[39;00m\u001b[38;5;21;01mutils\u001b[39;00m \u001b[38;5;28;01mimport\u001b[39;00m color_map\n\u001b[1;32m     15\u001b[0m \u001b[38;5;66;03m# ------------------------------------------------------ #\u001b[39;00m\n\u001b[1;32m     16\u001b[0m \u001b[38;5;66;03m# region: Create the forward model for the animations... #\u001b[39;00m\n\u001b[1;32m     17\u001b[0m \u001b[38;5;66;03m# ------------------------------------------------------ #\u001b[39;00m\n",
      "\u001b[0;31mModuleNotFoundError\u001b[0m: No module named 'examples.RPG.config'"
     ]
    }
   ],
   "source": [
    "import argparse\n",
    "import numpy as np\n",
    "from IPython.display import clear_output\n",
    "from matplotlib import pyplot as plt\n",
    "\n",
    "from gem.utils import fig2img, animate, visual_field\n",
    "from gem.config import load_config\n",
    "from gem.models.humanPlayer import ModelHumanPlayer\n",
    "from gem.models.buffer import ActionBatchReplayBuffer as ABRBuffer\n",
    "\n",
    "from examples.RPG.env import RPG\n",
    "from examples.RPG.config import create_agents, create_entities\n",
    "from examples.trucks.utils import color_map\n",
    "\n",
    "# ------------------------------------------------------ #\n",
    "# region: Create the forward model for the animations... #\n",
    "# ------------------------------------------------------ #\n",
    "\n",
    "cfg = load_config(argparse.Namespace(config='../configs/config.yaml'))\n",
    "models = [\n",
    "  ModelHumanPlayer(action_space=4, memory_size=5)\n",
    "]\n",
    "agents = create_agents(cfg, models)\n",
    "entities = create_entities(cfg)\n",
    "env = RPG(cfg, agents, entities)\n",
    "\n",
    "# ------------------------------------------------------ #\n",
    "# endregion                                              #\n",
    "# ------------------------------------------------------ #"
   ]
  },
  {
   "cell_type": "code",
   "execution_count": 2,
   "metadata": {},
   "outputs": [
    {
     "ename": "NameError",
     "evalue": "name 'env' is not defined",
     "output_type": "error",
     "traceback": [
      "\u001b[0;31m---------------------------------------------------------------------------\u001b[0m",
      "\u001b[0;31mNameError\u001b[0m                                 Traceback (most recent call last)",
      "Cell \u001b[0;32mIn[2], line 1\u001b[0m\n\u001b[0;32m----> 1\u001b[0m \u001b[43menv\u001b[49m\u001b[38;5;241m.\u001b[39mreset()\n\u001b[1;32m      2\u001b[0m \u001b[38;5;28;01mfor\u001b[39;00m agent \u001b[38;5;129;01min\u001b[39;00m agents:\n\u001b[1;32m      3\u001b[0m   agent\u001b[38;5;241m.\u001b[39mreset()\n",
      "\u001b[0;31mNameError\u001b[0m: name 'env' is not defined"
     ]
    }
   ],
   "source": [
    "env.reset()\n",
    "for agent in agents:\n",
    "  agent.reset()\n",
    "\n",
    "done, turn = 0, 0\n",
    "\n",
    "while done == 0:\n",
    "\n",
    "# ----------------- #\n",
    "# region: Turn loop #\n",
    "# ----------------- #\n",
    "\n",
    "  for agent in agents:\n",
    "\n",
    "    fig = visual_field(env.world, color_map=color_map, location = agent.location, vision = agent.vision, return_rgb=False)\n",
    "    clear_output(wait=True)\n",
    "    plt.imshow(fig)\n",
    "    plt.show()\n",
    "\n",
    "    state, action, reward, next_state, done_ = agent.transition(env)\n",
    "\n",
    "    # If agent finished or max turns is reached, end the turn\n",
    "    if turn >= cfg.experiment.max_turns or done_: \n",
    "      done = 1 # End loop if maximum turns have been reached\n",
    "\n",
    "    # Append the experience to the replay\n",
    "    exp = (0, (state, action, reward, next_state, done))\n",
    "    agent.episode_memory.append(exp)\n",
    "\n",
    "# ----------------- #\n",
    "# endregion         #\n",
    "# ----------------- #"
   ]
  },
  {
   "cell_type": "code",
   "execution_count": null,
   "metadata": {},
   "outputs": [],
   "source": []
  }
 ],
 "metadata": {
  "kernelspec": {
   "display_name": "Python 3",
   "language": "python",
   "name": "python3"
  },
  "language_info": {
   "codemirror_mode": {
    "name": "ipython",
    "version": 3
   },
   "file_extension": ".py",
   "mimetype": "text/x-python",
   "name": "python",
   "nbconvert_exporter": "python",
   "pygments_lexer": "ipython3",
   "version": "3.12.2"
  }
 },
 "nbformat": 4,
 "nbformat_minor": 2
}
