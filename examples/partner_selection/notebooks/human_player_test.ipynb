{
 "cells": [
  {
   "cell_type": "code",
   "execution_count": 1,
   "metadata": {},
   "outputs": [],
   "source": [
    "import os\n",
    "import time\n",
    "os.getcwd()\n",
    "import numpy as np\n",
    "import random"
   ]
  },
  {
   "cell_type": "code",
   "execution_count": 2,
   "metadata": {},
   "outputs": [],
   "source": [
    "from scipy.stats import entropy"
   ]
  },
  {
   "cell_type": "code",
   "execution_count": 4,
   "metadata": {},
   "outputs": [
    {
     "data": {
      "text/plain": [
       "0"
      ]
     },
     "execution_count": 4,
     "metadata": {},
     "output_type": "execute_result"
    }
   ],
   "source": [
    "2%1"
   ]
  },
  {
   "cell_type": "code",
   "execution_count": 3,
   "metadata": {},
   "outputs": [
    {
     "data": {
      "text/plain": [
       "np.float64(0.6931471805599453)"
      ]
     },
     "execution_count": 3,
     "metadata": {},
     "output_type": "execute_result"
    }
   ],
   "source": [
    "entropy([0.5, 0.5])"
   ]
  },
  {
   "cell_type": "code",
   "execution_count": 4,
   "metadata": {},
   "outputs": [
    {
     "data": {
      "image/png": "[encoded data removed]",
      "text/plain": [
       "<Figure size 640x480 with 1 Axes>"
      ]
     },
     "metadata": {},
     "output_type": "display_data"
    },
    {
     "name": "stdout",
     "output_type": "stream",
     "text": [
      "[5]\n",
      "Please try again. Possible actions are below.\n",
      "[0 1 2 3]\n"
     ]
    },
    {
     "ename": "UnboundLocalError",
     "evalue": "cannot access local variable 'action' where it is not associated with a value",
     "output_type": "error",
     "traceback": [
      "\u001b[0;31m---------------------------------------------------------------------------\u001b[0m",
      "\u001b[0;31mUnboundLocalError\u001b[0m                         Traceback (most recent call last)",
      "Cell \u001b[0;32mIn[4], line 119\u001b[0m\n\u001b[1;32m    111\u001b[0m \u001b[38;5;66;03m# Agent transition\u001b[39;00m\n\u001b[1;32m    112\u001b[0m \u001b[38;5;28;01mfor\u001b[39;00m agent \u001b[38;5;129;01min\u001b[39;00m agents:\n\u001b[1;32m    114\u001b[0m     (state,\n\u001b[1;32m    115\u001b[0m     action,\n\u001b[1;32m    116\u001b[0m     reward,\n\u001b[1;32m    117\u001b[0m     next_state,\n\u001b[1;32m    118\u001b[0m     done_\n\u001b[0;32m--> 119\u001b[0m     ) \u001b[38;5;241m=\u001b[39m \u001b[43magent\u001b[49m\u001b[38;5;241;43m.\u001b[39;49m\u001b[43mtransition\u001b[49m\u001b[43m(\u001b[49m\u001b[43menv\u001b[49m\u001b[43m)\u001b[49m\n\u001b[1;32m    121\u001b[0m     img \u001b[38;5;241m=\u001b[39m visual_field_sprite(env\u001b[38;5;241m.\u001b[39mworld, tile_size \u001b[38;5;241m=\u001b[39m env\u001b[38;5;241m.\u001b[39mtile_size)\n\u001b[1;32m    122\u001b[0m     img \u001b[38;5;241m=\u001b[39m image_from_array(img)\n",
      "File \u001b[0;32m~/Documents/agentarium/examples/seeing_the_future/agents.py:132\u001b[0m, in \u001b[0;36mAgent.transition\u001b[0;34m(self, env)\u001b[0m\n\u001b[1;32m    129\u001b[0m reward \u001b[38;5;241m=\u001b[39m \u001b[38;5;241m0\u001b[39m\n\u001b[1;32m    131\u001b[0m \u001b[38;5;66;03m# Take action based on current state\u001b[39;00m\n\u001b[0;32m--> 132\u001b[0m action \u001b[38;5;241m=\u001b[39m \u001b[38;5;28;43mself\u001b[39;49m\u001b[38;5;241;43m.\u001b[39;49m\u001b[43mmodel\u001b[49m\u001b[38;5;241;43m.\u001b[39;49m\u001b[43mtake_action\u001b[49m\u001b[43m(\u001b[49m\u001b[43mmodel_input\u001b[49m\u001b[43m)\u001b[49m\n\u001b[1;32m    134\u001b[0m \u001b[38;5;66;03m# Attempt the transition \u001b[39;00m\n\u001b[1;32m    135\u001b[0m attempted_location \u001b[38;5;241m=\u001b[39m \u001b[38;5;28mself\u001b[39m\u001b[38;5;241m.\u001b[39mmovement(action)\n",
      "File \u001b[0;32m~/Documents/agentarium/agentarium/models/human_player.py:55\u001b[0m, in \u001b[0;36mModelHumanPlayer.take_action\u001b[0;34m(self, state)\u001b[0m\n\u001b[1;32m     53\u001b[0m     \u001b[38;5;28mprint\u001b[39m(\u001b[38;5;28mself\u001b[39m\u001b[38;5;241m.\u001b[39maction_space)\n\u001b[1;32m     54\u001b[0m     \u001b[38;5;66;03m# we can have iinputType above also be joystick, or other controller\u001b[39;00m\n\u001b[0;32m---> 55\u001b[0m \u001b[38;5;28;01mif\u001b[39;00m \u001b[43maction\u001b[49m \u001b[38;5;129;01mis\u001b[39;00m \u001b[38;5;129;01mnot\u001b[39;00m \u001b[38;5;28;01mNone\u001b[39;00m:\n\u001b[1;32m     56\u001b[0m     \u001b[38;5;28;01mif\u001b[39;00m action \u001b[38;5;129;01min\u001b[39;00m \u001b[38;5;28mself\u001b[39m\u001b[38;5;241m.\u001b[39maction_space:\n\u001b[1;32m     57\u001b[0m         done \u001b[38;5;241m=\u001b[39m \u001b[38;5;241m1\u001b[39m\n",
      "\u001b[0;31mUnboundLocalError\u001b[0m: cannot access local variable 'action' where it is not associated with a value"
     ]
    }
   ],
   "source": [
    "%load_ext autoreload\n",
    "\n",
    "# --------------- #\n",
    "# region: Imports #\n",
    "import os\n",
    "import sys\n",
    "module_path = os.path.abspath('../../..')\n",
    "if module_path not in sys.path:\n",
    "    sys.path.insert(0, module_path)\n",
    "# endregion       #\n",
    "# --------------- #\n",
    "# np.random.seed(3)\n",
    "# random.seed(3)\n",
    "\n",
    "from examples.partner_selection.utils import (\n",
    "    init_log, parse_args, load_config,\n",
    "    create_models,\n",
    "    create_agents,\n",
    "    create_entities,\n",
    ")\n",
    "config_path = '../configs/records/test_control_no_punishment_oneAs_no_respawn_no_prediction_size7_maxstep20_2resources_channel8_config_backup.yaml'\n",
    "from examples.partner_selection import agents, entities\n",
    "from examples.partner_selection.env import partner_selection\n",
    "from agentarium.logging_utils import GameLogger\n",
    "from agentarium.models import human_player\n",
    "from agentarium.utils import visual_field_sprite, image_from_array\n",
    "from examples.partner_selection.state_sys import state_sys\n",
    "from IPython.display import clear_output\n",
    "from matplotlib import pyplot as plt\n",
    "import random\n",
    "import argparse\n",
    "\n",
    "cfg = load_config(argparse.Namespace(config=config_path))\n",
    "\n",
    "models = create_models(cfg)\n",
    "agents = create_agents(cfg, models)\n",
    "entities = create_entities(cfg)\n",
    "env = partner_selection(cfg, agents, entities)\n",
    "\n",
    "\n",
    "for ixs, agent in enumerate(agents):\n",
    "    agent.model = human_player.ModelHumanPlayer(\n",
    "         action_space=4, \n",
    "         state_size = cfg.model.iqn.parameters.state_size, \n",
    "         extra_percept_size = cfg.model.iqn.parameters.extra_percept_size,\n",
    "         memory_size=1, \n",
    "         name=f'human {ixs}')\n",
    "    # agent.model.load(\n",
    "    #      f'../models/checkpoints/fixed_punishment_rate_0.75_twoAs_extra_percept_v2_higher_harm_gem_has_value_save_model_agent{ixs}_iRainbowModel_20241127-04111732699956.pkl')\n",
    "    # agent.model.load(\n",
    "    #      f'../models/checkpoints/control_no_punishment_oneAs_no_prediction_size7_maxstep20_2resources_agent0_iRainbowModel.pkl'\n",
    "    # )\n",
    "    # agent.model.epsilon = 0.01\n",
    "\n",
    "\n",
    "for epoch in range(1):\n",
    "    # Reset the environment at the start of each epoch\n",
    "        env.reset()\n",
    "        images_anim = []\n",
    "        # for agent in env.agents:\n",
    "        #     agent.reset(env)\n",
    "        random.shuffle(agents)\n",
    "\n",
    "        scores = GameLogger(max_epochs=1)\n",
    "\n",
    "        # cfg.state_sys.prob_list = {'Gem': cfg.state_sys.prob_list.Gem,\n",
    "        #                            'Coin': cfg.state_sys.prob_list.Coin,\n",
    "        #                            'Bone': cfg.state_sys.prob_list.Bone}\n",
    "        # # initialize state system\n",
    "        # state_entity = state_sys(\n",
    "        #     cfg.state_sys.init_prob, \n",
    "        #     cfg.state_sys.prob_list, \n",
    "        #     cfg.state_sys.magnitude, \n",
    "        #     cfg.state_sys.taboo,\n",
    "        #     cfg.state_sys.change_per_vote\n",
    "        #     )\n",
    "        # print(state_entity.prob_list)\n",
    "        env.cache['harm'] = [0 for _ in range(len(agents))]\n",
    "\n",
    "        done = 0 \n",
    "        turn = 0\n",
    "        losses = 0\n",
    "        game_points = [0 for _ in range(len(agents))]\n",
    "\n",
    "        while not done:\n",
    "\n",
    "            turn = turn + 1\n",
    "\n",
    "            entities = env.get_entities_for_transition()\n",
    "            # Entity transition\n",
    "            for entity in entities:\n",
    "                entity.transition(env)\n",
    "\n",
    "            img = visual_field_sprite(env.world, tile_size = env.tile_size)\n",
    "            clear_output(wait = True)\n",
    "            # scores.pretty_print(\n",
    "            #      'jupyter-mode',\n",
    "            #      epoch = epoch,\n",
    "            #      turn = turn,\n",
    "            #      reward = game_points,\n",
    "            # )\n",
    "            \n",
    "            img = image_from_array(img)\n",
    "            time.sleep(0.1)\n",
    "            plt.imshow(img)\n",
    "            plt.show()\n",
    "            images_anim.append(img)\n",
    "            print(game_points)\n",
    "\n",
    "\n",
    "            # Agent transition\n",
    "            for agent in agents:\n",
    "\n",
    "                (state,\n",
    "                action,\n",
    "                reward,\n",
    "                next_state,\n",
    "                done_\n",
    "                ) = agent.transition(env)\n",
    "\n",
    "                img = visual_field_sprite(env.world, tile_size = env.tile_size)\n",
    "                img = image_from_array(img)\n",
    "                # print(agent.model.name)\n",
    "                # plt.imshow(img)\n",
    "                plt.show()\n",
    "                # if agent.ixs == 0:\n",
    "                #      images_anim.append(img)\n",
    "\n",
    "                if turn >= cfg.experiment.max_turns or done_:\n",
    "                    done = 1\n",
    "\n",
    "                exp = (1, (state, action, reward, next_state, done))\n",
    "                # agent.episode_memory.append(exp)\n",
    "\n",
    "                game_points[agent.ixs] += reward"
   ]
  },
  {
   "cell_type": "code",
   "execution_count": 5,
   "metadata": {},
   "outputs": [
    {
     "name": "stdout",
     "output_type": "stream",
     "text": [
      "<class 'examples.seeing_the_future.entities.Wall'> [0, 1.0, 0, 0, 0, 0, 0, 0]\n",
      "<class 'examples.seeing_the_future.entities.Wall'> [0, 1.0, 0, 0, 0, 0, 0, 0]\n",
      "<class 'examples.seeing_the_future.entities.Wall'> [0, 1.0, 0, 0, 0, 0, 0, 0]\n",
      "<class 'examples.seeing_the_future.entities.Wall'> [0, 1.0, 0, 0, 0, 0, 0, 0]\n",
      "<class 'examples.seeing_the_future.entities.Wall'> [0, 1.0, 0, 0, 0, 0, 0, 0]\n",
      "<class 'examples.seeing_the_future.entities.Wall'> [0, 1.0, 0, 0, 0, 0, 0, 0]\n",
      "<class 'examples.seeing_the_future.entities.Wall'> [0, 1.0, 0, 0, 0, 0, 0, 0]\n",
      "<class 'examples.seeing_the_future.entities.Wall'> [0, 1.0, 0, 0, 0, 0, 0, 0]\n",
      "<class 'examples.seeing_the_future.entities.EmptyObject'> [0, 0, 0, 0, 0, 0, 0, 0]\n",
      "<class 'examples.seeing_the_future.entities.EmptyObject'> [0, 0, 0, 0, 0, 0, 0, 0]\n",
      "<class 'examples.seeing_the_future.entities.EmptyObject'> [0, 0, 0, 0, 0, 0, 0, 0]\n",
      "<class 'examples.seeing_the_future.entities.EmptyObject'> [0, 0, 0, 0, 0, 0, 0, 0]\n",
      "<class 'examples.seeing_the_future.entities.Coin'> [0, 0, 0, 1.0, 0, 0, 0, 0]\n",
      "<class 'examples.seeing_the_future.entities.Wall'> [0, 1.0, 0, 0, 0, 0, 0, 0]\n",
      "<class 'examples.seeing_the_future.entities.Wall'> [0, 1.0, 0, 0, 0, 0, 0, 0]\n",
      "<class 'examples.seeing_the_future.entities.EmptyObject'> [0, 0, 0, 0, 0, 0, 0, 0]\n",
      "<class 'examples.seeing_the_future.entities.Gem'> [0, 0, 1.0, 0, 0, 0, 0, 0]\n",
      "<class 'examples.seeing_the_future.entities.EmptyObject'> [0, 0, 0, 0, 0, 0, 0, 0]\n",
      "<class 'examples.seeing_the_future.entities.Coin'> [0, 0, 0, 1.0, 0, 0, 0, 0]\n",
      "<class 'examples.seeing_the_future.entities.EmptyObject'> [0, 0, 0, 0, 0, 0, 0, 0]\n",
      "<class 'examples.seeing_the_future.entities.Wall'> [0, 1.0, 0, 0, 0, 0, 0, 0]\n",
      "<class 'examples.seeing_the_future.entities.Wall'> [0, 1.0, 0, 0, 0, 0, 0, 0]\n",
      "<class 'examples.seeing_the_future.agents.Agent'> [0.0, 0.0, 0.0, 0.0, 1.0, 1.0, 0.0, 0.0]\n",
      "<class 'examples.seeing_the_future.entities.EmptyObject'> [0, 0, 0, 0, 0, 0, 0, 0]\n",
      "<class 'examples.seeing_the_future.entities.EmptyObject'> [0, 0, 0, 0, 0, 0, 0, 0]\n",
      "<class 'examples.seeing_the_future.entities.EmptyObject'> [0, 0, 0, 0, 0, 0, 0, 0]\n",
      "<class 'examples.seeing_the_future.entities.EmptyObject'> [0, 0, 0, 0, 0, 0, 0, 0]\n",
      "<class 'examples.seeing_the_future.entities.Wall'> [0, 1.0, 0, 0, 0, 0, 0, 0]\n",
      "<class 'examples.seeing_the_future.entities.Wall'> [0, 1.0, 0, 0, 0, 0, 0, 0]\n",
      "<class 'examples.seeing_the_future.entities.EmptyObject'> [0, 0, 0, 0, 0, 0, 0, 0]\n",
      "<class 'examples.seeing_the_future.entities.EmptyObject'> [0, 0, 0, 0, 0, 0, 0, 0]\n",
      "<class 'examples.seeing_the_future.entities.EmptyObject'> [0, 0, 0, 0, 0, 0, 0, 0]\n",
      "<class 'examples.seeing_the_future.entities.EmptyObject'> [0, 0, 0, 0, 0, 0, 0, 0]\n",
      "<class 'examples.seeing_the_future.entities.EmptyObject'> [0, 0, 0, 0, 0, 0, 0, 0]\n",
      "<class 'examples.seeing_the_future.entities.Wall'> [0, 1.0, 0, 0, 0, 0, 0, 0]\n",
      "<class 'examples.seeing_the_future.entities.Wall'> [0, 1.0, 0, 0, 0, 0, 0, 0]\n",
      "<class 'examples.seeing_the_future.entities.Gem'> [0, 0, 1.0, 0, 0, 0, 0, 0]\n",
      "<class 'examples.seeing_the_future.entities.Gem'> [0, 0, 1.0, 0, 0, 0, 0, 0]\n",
      "<class 'examples.seeing_the_future.entities.Coin'> [0, 0, 0, 1.0, 0, 0, 0, 0]\n",
      "<class 'examples.seeing_the_future.entities.EmptyObject'> [0, 0, 0, 0, 0, 0, 0, 0]\n",
      "<class 'examples.seeing_the_future.entities.Gem'> [0, 0, 1.0, 0, 0, 0, 0, 0]\n",
      "<class 'examples.seeing_the_future.entities.Wall'> [0, 1.0, 0, 0, 0, 0, 0, 0]\n",
      "<class 'examples.seeing_the_future.entities.Wall'> [0, 1.0, 0, 0, 0, 0, 0, 0]\n",
      "<class 'examples.seeing_the_future.entities.Wall'> [0, 1.0, 0, 0, 0, 0, 0, 0]\n",
      "<class 'examples.seeing_the_future.entities.Wall'> [0, 1.0, 0, 0, 0, 0, 0, 0]\n",
      "<class 'examples.seeing_the_future.entities.Wall'> [0, 1.0, 0, 0, 0, 0, 0, 0]\n",
      "<class 'examples.seeing_the_future.entities.Wall'> [0, 1.0, 0, 0, 0, 0, 0, 0]\n",
      "<class 'examples.seeing_the_future.entities.Wall'> [0, 1.0, 0, 0, 0, 0, 0, 0]\n",
      "<class 'examples.seeing_the_future.entities.Wall'> [0, 1.0, 0, 0, 0, 0, 0, 0]\n"
     ]
    }
   ],
   "source": [
    "for index, _ in np.ndenumerate(env.world[:, :, 0]):\n",
    "    H, W = index  # Get the coordinates\n",
    "    # Return visualization image\n",
    "    print(type(env.world[H, W, 0]), env.world[H, W, 0].appearance)"
   ]
  },
  {
   "cell_type": "code",
   "execution_count": 70,
   "metadata": {},
   "outputs": [],
   "source": [
    "import numpy as np"
   ]
  },
  {
   "cell_type": "code",
   "execution_count": 79,
   "metadata": {},
   "outputs": [],
   "source": [
    "from PIL import Image\n",
    "import imageio.v3 as iio\n",
    "def create_gif_from_arrays(image_arrays, output_path, duration=100, loop=0):\n",
    "    \"\"\"\n",
    "    Create a GIF from a sequence of images in NumPy array format.\n",
    "\n",
    "    Args:\n",
    "        image_arrays (list of np.ndarray): Sequence of images as NumPy arrays.\n",
    "        output_path (str): Path to save the output GIF.\n",
    "        duration (int): Duration of each frame in milliseconds (controls speed).\n",
    "        loop (int): Number of times the GIF should loop (0 for infinite).\n",
    "    \"\"\"\n",
    "    # Convert NumPy arrays to PIL Images\n",
    "    if type(image_arrays[0]) != Image.Image:\n",
    "        pil_images = [Image.fromarray(img) for img in image_arrays]\n",
    "    else:\n",
    "        pil_images = image_arrays\n",
    "    \n",
    "    # Save as GIF\n",
    "    pil_images[0].save(\n",
    "        output_path,\n",
    "        save_all=True,\n",
    "        append_images=pil_images[1:],\n",
    "        duration=duration,\n",
    "        loop=loop\n",
    "    )\n",
    "    print(f\"GIF saved at {output_path}\")\n",
    "\n",
    "\n",
    "def create_gif_iio(images, output_path, fps=10):\n",
    "    \"\"\"\n",
    "    Create a GIF from a list of image arrays using `imageio`.\n",
    "\n",
    "    Args:\n",
    "        images (list of numpy.ndarray): A list of image arrays (e.g., RGB or grayscale).\n",
    "        output_path (str): Path to save the generated GIF.\n",
    "        fps (int): Frames per second, controlling the speed of the GIF.\n",
    "    \"\"\"\n",
    "    # Calculate the duration per frame in seconds\n",
    "    duration_per_frame = 1 / fps\n",
    "    \n",
    "    # Save the GIF\n",
    "    iio.imwrite(output_path, images, format=\"GIF\", duration=duration_per_frame)\n",
    "    print(f\"GIF saved at {output_path}\")\n",
    "\n",
    "\n",
    "from PIL import Image, ImageDraw\n",
    "\n",
    "from PIL import Image\n",
    "\n",
    "def create_gif_from_pil_force_clean(image_list, output_path, duration=100, loop=0, background_color=(0, 0, 0)):\n",
    "    \"\"\"\n",
    "    Create a GIF from a list of `PIL.Image.Image` objects, ensuring no shadow artifacts.\n",
    "    Ensures each frame has a fresh background.\n",
    "\n",
    "    Args:\n",
    "        image_list (list of PIL.Image.Image): Sequence of PIL images.\n",
    "        output_path (str): Path to save the output GIF.\n",
    "        duration (int): Duration of each frame in milliseconds (controls speed).\n",
    "        loop (int): Number of times the GIF should loop (0 for infinite).\n",
    "        background_color (tuple): RGB color to reset the background for each frame.\n",
    "    \"\"\"\n",
    "    # Determine the size of the images\n",
    "    width, height = image_list[0].size\n",
    "\n",
    "    # Ensure all frames are re-rendered on a clean background\n",
    "    cleaned_frames = []\n",
    "    for img in image_list:\n",
    "        # Create a blank canvas for each frame\n",
    "        blank_frame = Image.new(mode=img.mode, size=(width, height), color=background_color)\n",
    "        \n",
    "        # Convert the image to RGBA to handle transparency (if needed)\n",
    "        if img.mode != \"RGBA\":\n",
    "            img = img.convert(\"RGBA\")\n",
    "        \n",
    "        # Paste the current frame onto the blank canvas\n",
    "        blank_frame.paste(img, (0, 0), mask=img if img.mode == \"RGBA\" else None)\n",
    "        cleaned_frames.append(blank_frame)\n",
    "\n",
    "    # Save as GIF\n",
    "    cleaned_frames[0].save(\n",
    "        output_path,\n",
    "        save_all=True,\n",
    "        append_images=cleaned_frames[1:],\n",
    "        duration=duration,\n",
    "        loop=loop\n",
    "    )\n",
    "    print(f\"GIF saved at {output_path}\")\n"
   ]
  },
  {
   "cell_type": "code",
   "execution_count": 80,
   "metadata": {},
   "outputs": [
    {
     "name": "stdout",
     "output_type": "stream",
     "text": [
      "True\n",
      "GIF saved at movie_punishment_0.75_gem_has_value_diff_models.gif\n"
     ]
    }
   ],
   "source": [
    "# from examples.state_punishment.utils import create_gif_from_arrays\n",
    "print(type(images_anim[0]) == Image.Image)\n",
    "create_gif_from_pil_force_clean(images_anim, 'movie_punishment_0.75_gem_has_value_diff_models.gif', 200)\n"
   ]
  }
 ],
 "metadata": {
  "kernelspec": {
   "display_name": "state_punishment",
   "language": "python",
   "name": "python3"
  },
  "language_info": {
   "codemirror_mode": {
    "name": "ipython",
    "version": 3
   },
   "file_extension": ".py",
   "mimetype": "text/x-python",
   "name": "python",
   "nbconvert_exporter": "python",
   "pygments_lexer": "ipython3",
   "version": "3.10.16"
  }
 },
 "nbformat": 4,
 "nbformat_minor": 2
}
