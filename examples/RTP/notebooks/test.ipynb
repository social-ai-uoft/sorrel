{
 "cells": [
  {
   "cell_type": "code",
   "execution_count": 1,
   "metadata": {},
   "outputs": [],
   "source": [
    "# ---------------------------- #\n",
    "#     Fix import structure     #\n",
    "# ---------------------------- #\n",
    "import os\n",
    "import sys\n",
    "os.environ[\"KMP_DUPLICATE_LIB_OK\"]=\"TRUE\"\n",
    "module_path = os.path.abspath('../../..')\n",
    "if module_path not in sys.path:\n",
    "    sys.path.append(module_path)"
   ]
  },
  {
   "cell_type": "code",
   "execution_count": 2,
   "metadata": {},
   "outputs": [
    {
     "name": "stdout",
     "output_type": "stream",
     "text": [
      "Fixing import structure...\n",
      "20 21 -21 [1, 1, 31] 63.18052887171507 0.49895104933529927 0 EWA\n",
      "40 21 -1 [1, 2, 11] 73.76368036866188 0.49795409467505997 0 EWA\n",
      "60 21 1 [1, 3, 9] 77.81131875142455 0.4969591320310634 0 EWA\n",
      "80 21 7 [1, 4, 3] 93.7785490527749 0.4959661574230596 0 EWA\n",
      "100 21 -1 [0, 3, 1] 86.6810362264514 0.4949751668787515 0 EWA\n",
      "120 21 26 [3, 2, 4] 93.8666274137795 0.4939861564337792 0 EWA\n",
      "140 21 7 [1, 3, 3] 109.28589302301407 0.492999122131704 0 EWA\n",
      "160 21 10 [2, 3, 10] 108.58195705711842 0.49201406002399256 0 EWA\n",
      "180 21 -9 [0, 0, 9] 53.39618517458439 0.491030966170001 0 EWA\n",
      "20 21 -47 [0, 3, 47] 20.81485767662525 0.49895104933529927 0 None\n",
      "40 21 -22 [0, 1, 22] 21.0897404178977 0.49795409467505997 0 None\n",
      "60 21 23 [3, 5, 7] 53.610422160476446 0.4969591320310634 0 None\n",
      "80 21 -5 [0, 2, 5] 113.73800137639046 0.4959661574230596 0 None\n",
      "100 21 17 [2, 4, 3] 132.58204170316458 0.4949751668787515 0 None\n",
      "120 21 -7 [0, 2, 7] 66.15830913186073 0.4939861564337792 0 None\n",
      "140 21 -2 [0, 0, 2] 49.75289969146252 0.492999122131704 0 None\n",
      "160 21 0 [2, 5, 20] 36.890643663704395 0.49201406002399256 0 None\n",
      "180 21 -3 [0, 3, 3] 64.80234683305025 0.491030966170001 0 None\n"
     ]
    }
   ],
   "source": [
    "from examples.RTP.env import RTP\n",
    "from examples.RTP.main import run_game, create_models\n",
    "\n",
    "# ---------------------------- #\n",
    "#    Run game test with viz    #\n",
    "# ---------------------------- #\n",
    "\n",
    "parameters = {\n",
    "    'world_size': 25, # Size of the environment\n",
    "    'num_models': 1, # Number of agents. Right now, only supports 1\n",
    "    'sync_freq': 200, # Parameters related to model soft update. TODO: Figure out if these are still needed\n",
    "    'model_update_freq': 4, # Parameters related to model soft update. TODO: Figure out if these are still needed \n",
    "    'epsilon': 0.5, # Exploration parameter\n",
    "    'conditions': ['EWA', 'None'], # Model run conditions\n",
    "    'epsilon_decay': 0.9999, # Exploration decay rate\n",
    "    'episodic_decay_rate': 1.0, # EWA episodic decay rate\n",
    "    'similarity_decay_rate': 1.0,\n",
    "    'epochs': 200, # Number of epochs\n",
    "    'max_turns': 20, # Number of turns per game\n",
    "    'object_memory_size': 12000, # Size of the memory buffer\n",
    "    'knn_size': 5, # Size of the nearest neighbours\n",
    "    'RUN_PROFILING': False, # Whether to time each epoch\n",
    "    'log': False, # Tensorboard support. Currently disabled\n",
    "    'contextual': True # Whether the agents' need changes based on its current resource value or stays static\n",
    "}\n",
    "\n",
    "# Initialize environment\n",
    "env = RTP(\n",
    "    height=parameters['world_size'],\n",
    "    width=parameters['world_size'],\n",
    "    layers=1,\n",
    "    contextual=parameters['contextual']\n",
    ")\n",
    "\n",
    "# Run model with all of the conditions\n",
    "for condition in range(len(parameters['conditions'])):\n",
    "    # Create new models\n",
    "    all_models = create_models(\n",
    "        num_models = 1,\n",
    "        device = 'cpu',\n",
    "        episodic_decay_rate = parameters['episodic_decay_rate'],\n",
    "        similarity_decay_rate = parameters['similarity_decay_rate']\n",
    "    )\n",
    "\n",
    "    all_models, env, turn, epsilon = run_game(\n",
    "        all_models = all_models,\n",
    "        env = env,\n",
    "        condition = parameters['conditions'][condition],\n",
    "        parameters = parameters\n",
    "        )"
   ]
  },
  {
   "cell_type": "code",
   "execution_count": 4,
   "metadata": {},
   "outputs": [
    {
     "name": "stdout",
     "output_type": "stream",
     "text": [
      "Took action: up. Received 0.\n"
     ]
    },
    {
     "data": {
      "image/png": "[encoded data removed]",
      "text/plain": [
       "<Figure size 640x480 with 1 Axes>"
      ]
     },
     "metadata": {},
     "output_type": "display_data"
    },
    {
     "name": "stdout",
     "output_type": "stream",
     "text": [
      "Game over. Received 0 total reward.\n"
     ]
    }
   ],
   "source": [
    "from examples.RTP.utils import run_one_game\n",
    "\n",
    "run_one_game(\n",
    "    all_models,\n",
    "    condition='EWA',\n",
    "    env=env,\n",
    "    max_turns=20,\n",
    "    save = True\n",
    ")"
   ]
  }
 ],
 "metadata": {
  "kernelspec": {
   "display_name": "Python 3",
   "language": "python",
   "name": "python3"
  },
  "language_info": {
   "codemirror_mode": {
    "name": "ipython",
    "version": 3
   },
   "file_extension": ".py",
   "mimetype": "text/x-python",
   "name": "python",
   "nbconvert_exporter": "python",
   "pygments_lexer": "ipython3",
   "version": "3.10.12"
  },
  "orig_nbformat": 4
 },
 "nbformat": 4,
 "nbformat_minor": 2
}
