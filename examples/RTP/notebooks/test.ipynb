{
 "cells": [
  {
   "cell_type": "code",
   "execution_count": 1,
   "metadata": {},
   "outputs": [],
   "source": [
    "# ---------------------------- #\n",
    "#     Fix import structure     #\n",
    "# ---------------------------- #\n",
    "import os\n",
    "import sys\n",
    "os.environ[\"KMP_DUPLICATE_LIB_OK\"]=\"TRUE\"\n",
    "module_path = os.path.abspath('../../..')\n",
    "if module_path not in sys.path:\n",
    "    sys.path.append(module_path)"
   ]
  },
  {
   "cell_type": "code",
   "execution_count": 2,
   "metadata": {},
   "outputs": [
    {
     "name": "stdout",
     "output_type": "stream",
     "text": [
      "Fixing import structure...\n",
      "20 21 -103 [4, 4, 143] 194.73715168237686 0.2937626027894116 0 None\n",
      "40 21 -1 [6, 12, 61] 290.2861512750387 0.28794283215752287 0 None\n",
      "60 21 68 [7, 18, 2] 276.31141632795334 0.2822383577882836 0 None\n",
      "80 21 51 [7, 10, 19] 191.31953611969948 0.27664689553184973 0 None\n",
      "100 21 83 [9, 17, 7] 171.48732045292854 0.2711662064899787 0 None\n",
      "120 21 89 [9, 22, 1] 194.00127869844437 0.26579409611954335 0 None\n",
      "140 21 134 [14, 24, 6] 306.5916958749294 0.2605284133538074 0 None\n",
      "160 21 96 [11, 21, 14] 309.8520406484604 0.2553670497411083 0 None\n",
      "180 21 64 [7, 29, 6] 231.7442517876625 0.25030793860060435 0 None\n"
     ]
    }
   ],
   "source": [
    "from examples.RTP.env import RTP\n",
    "from examples.RTP.main import run_game, create_models\n",
    "\n",
    "# ---------------------------- #\n",
    "#    Run game test with viz    #\n",
    "# ---------------------------- #\n",
    "\n",
    "parameters = {\n",
    "    'world_size': 20, # Size of the environment\n",
    "    'num_models': 1, # Number of agents. Right now, only supports 1\n",
    "    'sync_freq': 200, # Parameters related to model soft update. TODO: Figure out if these are still needed\n",
    "    'model_update_freq': 4, # Parameters related to model soft update. TODO: Figure out if these are still needed \n",
    "    'epsilon': 0.3, # Exploration parameter\n",
    "    'conditions': ['None'], # Model run conditions\n",
    "    'epsilon_decay': 0.999, # Exploration decay rate\n",
    "    'episodic_decay_rate': 1.0, # EWA episodic decay rate\n",
    "    'similarity_decay_rate': 1.0,\n",
    "    'epochs': 200, # Number of epochs\n",
    "    'max_turns': 20, # Number of turns per game\n",
    "    'object_memory_size': 12000, # Size of the memory buffer\n",
    "    'knn_size': 5, # Size of the nearest neighbours\n",
    "    'RUN_PROFILING': False, # Whether to time each epoch\n",
    "    'log': False, # Tensorboard support. Currently disabled\n",
    "    'contextual': True, # Whether the agents' need changes based on its current resource value or stays static\n",
    "    'appearance_size': 20\n",
    "}\n",
    "\n",
    "# Run model with all of the conditions\n",
    "for condition in range(len(parameters['conditions'])):\n",
    "        all_models = create_models(\n",
    "            appearance_size = parameters['appearance_size'],\n",
    "            episodic_decay_rate = parameters['episodic_decay_rate'],\n",
    "            similarity_decay_rate = parameters['similarity_decay_rate'],\n",
    "            knn_size = parameters['knn_size']\n",
    "        )\n",
    "\n",
    "        env = RTP(\n",
    "            height=parameters['world_size'],\n",
    "            width=parameters['world_size'],\n",
    "            layers=1,\n",
    "            contextual=parameters['contextual']\n",
    "        )\n",
    "\n",
    "        all_models, env = run_game(\n",
    "            all_models,\n",
    "            env,\n",
    "            epsilon=parameters['epsilon'],\n",
    "            epochs=parameters['epochs'],\n",
    "            max_turns=parameters['max_turns'],\n",
    "            epsilon_decay=parameters['epsilon_decay'],\n",
    "            condition=parameters['conditions'][condition],\n",
    "            sync_freq=parameters['sync_freq'],\n",
    "            model_update_freq=parameters['model_update_freq'],\n",
    "            RUN_PROFILING=parameters['RUN_PROFILING']\n",
    "        )"
   ]
  },
  {
   "cell_type": "code",
   "execution_count": 31,
   "metadata": {},
   "outputs": [
    {
     "name": "stdout",
     "output_type": "stream",
     "text": [
      "Took action: down. Received -1.\n"
     ]
    },
    {
     "data": {
      "image/png": "[encoded data removed]",
      "text/plain": [
       "<Figure size 640x480 with 1 Axes>"
      ]
     },
     "metadata": {},
     "output_type": "display_data"
    },
    {
     "name": "stdout",
     "output_type": "stream",
     "text": [
      "Game over. Received 4 total reward.\n"
     ]
    }
   ],
   "source": [
    "from examples.RTP.utils import run_one_game\n",
    "\n",
    "run_one_game(\n",
    "    all_models,\n",
    "    condition='None',\n",
    "    env=env,\n",
    "    max_turns=20,\n",
    "    save = False,\n",
    "    run_id=2\n",
    ")"
   ]
  }
 ],
 "metadata": {
  "kernelspec": {
   "display_name": "Python 3",
   "language": "python",
   "name": "python3"
  },
  "language_info": {
   "codemirror_mode": {
    "name": "ipython",
    "version": 3
   },
   "file_extension": ".py",
   "mimetype": "text/x-python",
   "name": "python",
   "nbconvert_exporter": "python",
   "pygments_lexer": "ipython3",
   "version": "3.10.12"
  },
  "orig_nbformat": 4
 },
 "nbformat": 4,
 "nbformat_minor": 2
}
