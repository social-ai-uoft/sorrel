{
 "cells": [
  {
   "cell_type": "code",
   "execution_count": 1,
   "metadata": {},
   "outputs": [],
   "source": [
    "# ---------------------------- #\n",
    "#     Fix import structure     #\n",
    "# ---------------------------- #\n",
    "import os\n",
    "import sys\n",
    "os.environ[\"KMP_DUPLICATE_LIB_OK\"]=\"TRUE\"\n",
    "module_path = os.path.abspath('../../..')\n",
    "if module_path not in sys.path:\n",
    "    sys.path.append(module_path)"
   ]
  },
  {
   "cell_type": "code",
   "execution_count": 2,
   "metadata": {},
   "outputs": [
    {
     "name": "stdout",
     "output_type": "stream",
     "text": [
      "Fixing import structure...\n",
      "20 21 -70 [4, 12, 110] 208.4518958926201 0.2937626027894116 0 EWA\n",
      "40 21 -12 [3, 15, 42] 295.418276488781 0.28794283215752287 0 EWA\n",
      "60 21 66 [7, 15, 4] 282.91120359301567 0.2822383577882836 0 EWA\n",
      "80 21 69 [7, 15, 1] 257.7492200732231 0.27664689553184973 0 EWA\n",
      "100 21 72 [8, 19, 8] 204.4524204134941 0.2711662064899787 0 EWA\n",
      "120 21 43 [5, 9, 7] 163.40108779072762 0.26579409611954335 0 EWA\n",
      "140 21 75 [9, 20, 15] 146.56999769806862 0.2605284133538074 0 EWA\n",
      "160 21 36 [5, 21, 14] 138.20852652192116 0.2553670497411083 0 EWA\n",
      "180 21 96 [10, 23, 4] 144.40096426010132 0.25030793860060435 0 EWA\n",
      "200 21 99 [10, 20, 1] 149.72039330005646 0.2453490541947473 0 EWA\n",
      "220 21 172 [18, 30, 8] 307.28856909275055 0.24048841091814935 0 EWA\n",
      "240 21 95 [10, 17, 5] 276.11522471904755 0.23572406250251945 0 EWA\n",
      "260 21 110 [12, 27, 10] 252.34197866916656 0.23105410123735085 0 EWA\n",
      "280 21 159 [16, 23, 1] 228.53713071346283 0.22647665720604732 0 EWA\n",
      "300 21 181 [19, 30, 9] 287.5132839679718 0.22198989753718318 0 EWA\n",
      "320 21 123 [13, 30, 7] 251.16507136821747 0.21759202567059632 0 EWA\n",
      "340 21 155 [16, 31, 5] 302.228134393692 0.2132812806380208 0 EWA\n",
      "360 21 186 [19, 35, 4] 292.43694615364075 0.20905593635797098 0 EWA\n",
      "380 21 166 [17, 31, 4] 256.47143292427063 0.20491430094459512 0 EWA\n",
      "400 21 144 [15, 34, 6] 249.5393669605255 0.20085471603022034 0 EWA\n"
     ]
    },
    {
     "ename": "KeyboardInterrupt",
     "evalue": "",
     "output_type": "error",
     "traceback": [
      "\u001b[0;31m---------------------------------------------------------------------------\u001b[0m",
      "\u001b[0;31mKeyboardInterrupt\u001b[0m                         Traceback (most recent call last)",
      "Cell \u001b[0;32mIn[2], line 44\u001b[0m\n\u001b[1;32m     30\u001b[0m all_models \u001b[39m=\u001b[39m create_models(\n\u001b[1;32m     31\u001b[0m     appearance_size \u001b[39m=\u001b[39m parameters[\u001b[39m'\u001b[39m\u001b[39mappearance_size\u001b[39m\u001b[39m'\u001b[39m],\n\u001b[1;32m     32\u001b[0m     episodic_decay_rate \u001b[39m=\u001b[39m parameters[\u001b[39m'\u001b[39m\u001b[39mepisodic_decay_rate\u001b[39m\u001b[39m'\u001b[39m],\n\u001b[1;32m     33\u001b[0m     similarity_decay_rate \u001b[39m=\u001b[39m parameters[\u001b[39m'\u001b[39m\u001b[39msimilarity_decay_rate\u001b[39m\u001b[39m'\u001b[39m],\n\u001b[1;32m     34\u001b[0m     knn_size \u001b[39m=\u001b[39m parameters[\u001b[39m'\u001b[39m\u001b[39mknn_size\u001b[39m\u001b[39m'\u001b[39m]\n\u001b[1;32m     35\u001b[0m )\n\u001b[1;32m     37\u001b[0m env \u001b[39m=\u001b[39m RTP(\n\u001b[1;32m     38\u001b[0m     height\u001b[39m=\u001b[39mparameters[\u001b[39m'\u001b[39m\u001b[39mworld_size\u001b[39m\u001b[39m'\u001b[39m],\n\u001b[1;32m     39\u001b[0m     width\u001b[39m=\u001b[39mparameters[\u001b[39m'\u001b[39m\u001b[39mworld_size\u001b[39m\u001b[39m'\u001b[39m],\n\u001b[1;32m     40\u001b[0m     layers\u001b[39m=\u001b[39m\u001b[39m1\u001b[39m,\n\u001b[1;32m     41\u001b[0m     contextual\u001b[39m=\u001b[39mparameters[\u001b[39m'\u001b[39m\u001b[39mcontextual\u001b[39m\u001b[39m'\u001b[39m]\n\u001b[1;32m     42\u001b[0m )\n\u001b[0;32m---> 44\u001b[0m all_models, env \u001b[39m=\u001b[39m run_game(\n\u001b[1;32m     45\u001b[0m     all_models,\n\u001b[1;32m     46\u001b[0m     env,\n\u001b[1;32m     47\u001b[0m     epsilon\u001b[39m=\u001b[39;49mparameters[\u001b[39m'\u001b[39;49m\u001b[39mepsilon\u001b[39;49m\u001b[39m'\u001b[39;49m],\n\u001b[1;32m     48\u001b[0m     epochs\u001b[39m=\u001b[39;49mparameters[\u001b[39m'\u001b[39;49m\u001b[39mepochs\u001b[39;49m\u001b[39m'\u001b[39;49m],\n\u001b[1;32m     49\u001b[0m     max_turns\u001b[39m=\u001b[39;49mparameters[\u001b[39m'\u001b[39;49m\u001b[39mmax_turns\u001b[39;49m\u001b[39m'\u001b[39;49m],\n\u001b[1;32m     50\u001b[0m     epsilon_decay\u001b[39m=\u001b[39;49mparameters[\u001b[39m'\u001b[39;49m\u001b[39mepsilon_decay\u001b[39;49m\u001b[39m'\u001b[39;49m],\n\u001b[1;32m     51\u001b[0m     condition\u001b[39m=\u001b[39;49mparameters[\u001b[39m'\u001b[39;49m\u001b[39mconditions\u001b[39;49m\u001b[39m'\u001b[39;49m][condition],\n\u001b[1;32m     52\u001b[0m     sync_freq\u001b[39m=\u001b[39;49mparameters[\u001b[39m'\u001b[39;49m\u001b[39msync_freq\u001b[39;49m\u001b[39m'\u001b[39;49m],\n\u001b[1;32m     53\u001b[0m     model_update_freq\u001b[39m=\u001b[39;49mparameters[\u001b[39m'\u001b[39;49m\u001b[39mmodel_update_freq\u001b[39;49m\u001b[39m'\u001b[39;49m],\n\u001b[1;32m     54\u001b[0m     RUN_PROFILING\u001b[39m=\u001b[39;49mparameters[\u001b[39m'\u001b[39;49m\u001b[39mRUN_PROFILING\u001b[39;49m\u001b[39m'\u001b[39;49m]\n\u001b[1;32m     55\u001b[0m )\n",
      "File \u001b[0;32m~/Documents/GitHub/transformers/examples/RTP/main.py:261\u001b[0m, in \u001b[0;36mrun_game\u001b[0;34m(all_models, env, epsilon, epochs, max_turns, epsilon_decay, condition, sync_freq, model_update_freq, RUN_PROFILING)\u001b[0m\n\u001b[1;32m    258\u001b[0m     env\u001b[39m.\u001b[39mreset_appearance(loc)\n\u001b[1;32m    260\u001b[0m     \u001b[39m# Update attitude models\u001b[39;00m\n\u001b[0;32m--> 261\u001b[0m     evaluate(\n\u001b[1;32m    262\u001b[0m         env,\n\u001b[1;32m    263\u001b[0m         condition\u001b[39m=\u001b[39;49mcondition,\n\u001b[1;32m    264\u001b[0m         value_model\u001b[39m=\u001b[39;49mvalue_model,\n\u001b[1;32m    265\u001b[0m         resource_model\u001b[39m=\u001b[39;49mresource_model,\n\u001b[1;32m    266\u001b[0m         ewa_model\u001b[39m=\u001b[39;49mewa_model,\n\u001b[1;32m    267\u001b[0m         epoch\u001b[39m=\u001b[39;49mepoch,\n\u001b[1;32m    268\u001b[0m         loc \u001b[39m=\u001b[39;49m loc\n\u001b[1;32m    269\u001b[0m     )\n\u001b[1;32m    271\u001b[0m \u001b[39m# Observation of the environment at agent's location\u001b[39;00m\n\u001b[1;32m    272\u001b[0m state \u001b[39m=\u001b[39m env\u001b[39m.\u001b[39mpov(loc)\n",
      "File \u001b[0;32m~/Documents/GitHub/transformers/examples/RTP/models/attitude_models.py:328\u001b[0m, in \u001b[0;36mevaluate\u001b[0;34m(env, condition, value_model, resource_model, ewa_model, epoch, loc, testing)\u001b[0m\n\u001b[1;32m    322\u001b[0m \u001b[39mfor\u001b[39;00m j \u001b[39min\u001b[39;00m all_js:\n\u001b[1;32m    323\u001b[0m \n\u001b[1;32m    324\u001b[0m     \u001b[39m# Values are only computed within the environment parameters (only relevant when loc is passed in)\u001b[39;00m\n\u001b[1;32m    325\u001b[0m     \u001b[39mif\u001b[39;00m i \u001b[39m>\u001b[39m\u001b[39m=\u001b[39m \u001b[39m0\u001b[39m \u001b[39mand\u001b[39;00m j \u001b[39m>\u001b[39m\u001b[39m=\u001b[39m \u001b[39m0\u001b[39m \u001b[39mand\u001b[39;00m i \u001b[39m<\u001b[39m env\u001b[39m.\u001b[39mheight \u001b[39mand\u001b[39;00m j \u001b[39m<\u001b[39m env\u001b[39m.\u001b[39mwidth:\n\u001b[1;32m    326\u001b[0m \n\u001b[1;32m    327\u001b[0m         \u001b[39m# Get values (0, len - 3) of the appearance to build an attitude\u001b[39;00m\n\u001b[0;32m--> 328\u001b[0m         object_state \u001b[39m=\u001b[39m torch\u001b[39m.\u001b[39;49mtensor(\n\u001b[1;32m    329\u001b[0m             np\u001b[39m.\u001b[39;49marray(env\u001b[39m.\u001b[39;49mworld[i, j, \u001b[39m0\u001b[39;49m]\u001b[39m.\u001b[39;49mappearance[:\u001b[39m-\u001b[39;49m\u001b[39m3\u001b[39;49m])\n\u001b[1;32m    330\u001b[0m         )\u001b[39m.\u001b[39mfloat()\n\u001b[1;32m    332\u001b[0m         \u001b[39m# ----------------- #\u001b[39;00m\n\u001b[1;32m    333\u001b[0m         \u001b[39m# Implicit attitude #\u001b[39;00m\n\u001b[1;32m    334\u001b[0m         \u001b[39m# ----------------- #\u001b[39;00m\n\u001b[1;32m    335\u001b[0m         \u001b[39mif\u001b[39;00m \u001b[39m'\u001b[39m\u001b[39mimplicit\u001b[39m\u001b[39m'\u001b[39m \u001b[39min\u001b[39;00m condition \u001b[39mand\u001b[39;00m epoch \u001b[39m>\u001b[39m \u001b[39m2\u001b[39m:\n\u001b[1;32m    336\u001b[0m \n\u001b[1;32m    337\u001b[0m             \u001b[39m# Get estimated reward associated with the object state\u001b[39;00m\n",
      "\u001b[0;31mKeyboardInterrupt\u001b[0m: "
     ]
    }
   ],
   "source": [
    "from examples.RTP.env import RTP\n",
    "from examples.RTP.main import run_game, create_models\n",
    "\n",
    "# ---------------------------- #\n",
    "#    Run game test with viz    #\n",
    "# ---------------------------- #\n",
    "\n",
    "parameters = {\n",
    "    'world_size': 20, # Size of the environment\n",
    "    'num_models': 1, # Number of agents. Right now, only supports 1\n",
    "    'sync_freq': 200, # Parameters related to model soft update. TODO: Figure out if these are still needed\n",
    "    'model_update_freq': 4, # Parameters related to model soft update. TODO: Figure out if these are still needed \n",
    "    'epsilon': 0.3, # Exploration parameter\n",
    "    'conditions': ['EWA'], # Model run conditions\n",
    "    'epsilon_decay': 0.999, # Exploration decay rate\n",
    "    'episodic_decay_rate': 20.0, # EWA episodic decay rate\n",
    "    'similarity_decay_rate': 20.0,\n",
    "    'epochs': 500, # Number of epochs\n",
    "    'max_turns': 20, # Number of turns per game\n",
    "    'object_memory_size': 12000, # Size of the memory buffer\n",
    "    'knn_size': 5, # Size of the nearest neighbours\n",
    "    'RUN_PROFILING': False, # Whether to time each epoch\n",
    "    'log': False, # Tensorboard support. Currently disabled\n",
    "    'contextual': True, # Whether the agents' need changes based on its current resource value or stays static\n",
    "    'appearance_size': 20\n",
    "}\n",
    "\n",
    "# Run model with all of the conditions\n",
    "for condition in range(len(parameters['conditions'])):\n",
    "        all_models = create_models(\n",
    "            appearance_size = parameters['appearance_size'],\n",
    "            episodic_decay_rate = parameters['episodic_decay_rate'],\n",
    "            similarity_decay_rate = parameters['similarity_decay_rate'],\n",
    "            knn_size = parameters['knn_size']\n",
    "        )\n",
    "\n",
    "        env = RTP(\n",
    "            height=parameters['world_size'],\n",
    "            width=parameters['world_size'],\n",
    "            layers=1,\n",
    "            contextual=parameters['contextual']\n",
    "        )\n",
    "\n",
    "        all_models, env = run_game(\n",
    "            all_models,\n",
    "            env,\n",
    "            epsilon=parameters['epsilon'],\n",
    "            epochs=parameters['epochs'],\n",
    "            max_turns=parameters['max_turns'],\n",
    "            epsilon_decay=parameters['epsilon_decay'],\n",
    "            condition=parameters['conditions'][condition],\n",
    "            sync_freq=parameters['sync_freq'],\n",
    "            model_update_freq=parameters['model_update_freq'],\n",
    "            RUN_PROFILING=parameters['RUN_PROFILING']\n",
    "        )"
   ]
  },
  {
   "cell_type": "code",
   "execution_count": null,
   "metadata": {},
   "outputs": [
    {
     "name": "stdout",
     "output_type": "stream",
     "text": [
      "Took action: right. Received 0.\n"
     ]
    },
    {
     "data": {
      "image/png": "[encoded data removed]",
      "text/plain": [
       "<Figure size 640x480 with 1 Axes>"
      ]
     },
     "metadata": {},
     "output_type": "display_data"
    },
    {
     "name": "stdout",
     "output_type": "stream",
     "text": [
      "Game over. Received 20 total reward.\n"
     ]
    }
   ],
   "source": [
    "from examples.RTP.utils import run_one_game\n",
    "\n",
    "run_one_game(\n",
    "    all_models,\n",
    "    condition='None',\n",
    "    env=env,\n",
    "    max_turns=20,\n",
    "    save = False,\n",
    "    run_id=2\n",
    ")"
   ]
  }
 ],
 "metadata": {
  "kernelspec": {
   "display_name": "Python 3",
   "language": "python",
   "name": "python3"
  },
  "language_info": {
   "codemirror_mode": {
    "name": "ipython",
    "version": 3
   },
   "file_extension": ".py",
   "mimetype": "text/x-python",
   "name": "python",
   "nbconvert_exporter": "python",
   "pygments_lexer": "ipython3",
   "version": "3.10.12"
  },
  "orig_nbformat": 4
 },
 "nbformat": 4,
 "nbformat_minor": 2
}
