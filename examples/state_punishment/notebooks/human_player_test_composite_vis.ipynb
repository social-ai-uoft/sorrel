{
 "cells": [
  {
   "cell_type": "code",
   "execution_count": 1,
   "metadata": {},
   "outputs": [
    {
     "data": {
      "text/plain": [
       "'/Users/socialai/Documents/state_punishment_May6/examples/state_punishment/notebooks'"
      ]
     },
     "execution_count": 1,
     "metadata": {},
     "output_type": "execute_result"
    }
   ],
   "source": [
    "import os\n",
    "import time\n",
    "import numpy as np\n",
    "from scipy.special import softmax\n",
    "from tqdm import tqdm, trange\n",
    "import matplotlib.pyplot as plt\n",
    "import statsmodels.api as sm\n",
    "\n",
    "os.getcwd()"
   ]
  },
  {
   "cell_type": "code",
   "execution_count": 2,
   "metadata": {},
   "outputs": [],
   "source": [
    "# utils\n",
    "\n",
    "def plot_quadratic_curve(x, y, ylabel, xlabel='Punishment level'):\n",
    "    # Fit a quadratic curve (degree=2) to the data\n",
    "    coeffs = np.polyfit(x, y, deg=2)\n",
    "    poly_fn = np.poly1d(coeffs)  # Create a polynomial function\n",
    "\n",
    "    # Generate smooth x-values and corresponding fitted y-values\n",
    "    x_fit = np.linspace(min(x), max(x), 200)\n",
    "    y_fit = poly_fn(x_fit)\n",
    "\n",
    "    # Plot\n",
    "    plt.figure(figsize=(8, 5))\n",
    "    plt.scatter(x, y, color='blue', s=1)\n",
    "    plt.plot(x_fit, y_fit, label='Fitted Quadratic Curve', color='red')\n",
    "    plt.title('Scatter Plot with Fitted Quadratic Curve')\n",
    "    plt.xlabel(xlabel)\n",
    "    plt.ylabel(ylabel)\n",
    "    plt.legend()\n",
    "    plt.grid(True)\n",
    "    plt.tight_layout()\n",
    "    plt.show()"
   ]
  },
  {
   "cell_type": "code",
   "execution_count": 3,
   "metadata": {},
   "outputs": [],
   "source": [
    "# util functions\n",
    "\n",
    "def replace_entity_appearance(env, new, entities):\n",
    "    \"\"\"\n",
    "    Replace the appearance of an entity in the environment.\n",
    "    \"\"\"\n",
    "    # get new entity appearance\n",
    "    for entity in entities:\n",
    "        if entity.type == new:\n",
    "            new_appearance = entity.appearance\n",
    "            break\n",
    "    # find and replace the old entity appearance\n",
    "    for loc, entity in np.ndenumerate(env.world):\n",
    "        if entity.type != new and entity.type != 'wall' and entity.type != 'emptyobject':\n",
    "            entity.appearance = new_appearance"
   ]
  },
  {
   "cell_type": "markdown",
   "metadata": {},
   "source": [
    "Probe test"
   ]
  },
  {
   "cell_type": "code",
   "execution_count": 21,
   "metadata": {},
   "outputs": [],
   "source": [
    "# no visualization, run_test func\n",
    "# composite visualization\n",
    "\n",
    "# --------------- #\n",
    "# region: Imports #\n",
    "import os\n",
    "import sys\n",
    "module_path = os.path.abspath('../../..')\n",
    "if module_path not in sys.path:\n",
    "    sys.path.insert(0, module_path)\n",
    "# endregion       #\n",
    "# --------------- #\n",
    "\n",
    "\n",
    "from agentarium.logging_utils import GameLogger\n",
    "from agentarium.primitives import Entity\n",
    "from examples.state_punishment.agents import Agent\n",
    "from examples.state_punishment.env import state_punishment\n",
    "from examples.state_punishment.state_sys import state_sys\n",
    "from examples.state_punishment.utils import (create_agents, create_entities, create_models,\n",
    "                                init_log, load_config, save_config_backup)\n",
    "from IPython.display import clear_output\n",
    "from agentarium.models import human_player\n",
    "\n",
    "from matplotlib import pyplot as plt\n",
    "import random\n",
    "import argparse\n",
    "from copy import deepcopy\n",
    "import torch\n",
    "\n",
    "def test_resource_valuation(\n",
    "        seed,\n",
    "        clear_world, \n",
    "        max_turns, \n",
    "        state_punishment_prob,\n",
    "        entity_to_keep,\n",
    "        model_prefix,\n",
    "        config_path,\n",
    "        algo\n",
    "        ):\n",
    "    config_path = config_path\n",
    "\n",
    "    cfg = load_config(argparse.Namespace(config=config_path))\n",
    "    cfg.env.prob.respawn_rate = 0.0\n",
    "    cfg.experiment.max_turns = max_turns\n",
    "    cfg.seed = seed\n",
    "    clear_world = clear_world\n",
    "    cfg.algo = algo\n",
    "\n",
    "    # set seed \n",
    "    random.seed(cfg.seed)\n",
    "    np.random.seed(cfg.seed)\n",
    "    torch.manual_seed(cfg.seed)\n",
    "    torch.cuda.manual_seed_all(cfg.seed)\n",
    "\n",
    "    models = create_models(cfg)\n",
    "   \n",
    "    agents = create_agents(cfg, models)\n",
    "    entities = create_entities(cfg)\n",
    "    envs = []\n",
    "    for i in range(len(agents)):\n",
    "        envs.append(\n",
    "            state_punishment(cfg, [agents[i]], deepcopy(entities))\n",
    "        )\n",
    "    # replace entity appearance\n",
    "    for env_isx, env in enumerate(envs):\n",
    "        replace_entity_appearance(\n",
    "            env, \n",
    "            entity_to_keep, \n",
    "            entities\n",
    "        )\n",
    "\n",
    "\n",
    "    for ixs, agent in enumerate(agents):\n",
    "        if agent.ixs > -1:\n",
    "            agent.model.load(\n",
    "                f'../models/checkpoints/{model_prefix}_agent{agent.ixs}_iRainbowModel.pkl'\n",
    "            )\n",
    "        else:\n",
    "            agent.model = human_player.ModelHumanPlayer(\n",
    "                action_space=4, \n",
    "                state_size = cfg.model.iqn.parameters.state_size, \n",
    "                extra_percept_size = cfg.model.iqn.parameters.extra_percept_size,\n",
    "                memory_size=1, \n",
    "                name=f'human {ixs}')\n",
    "\n",
    "\n",
    "    for epoch in range(1):\n",
    "        # Reset the environment at the start of each epoch\n",
    "        for env_ixs, env in enumerate(envs):\n",
    "            env.reset(state_mode='composite')\n",
    "            if env_ixs in clear_world:\n",
    "                env.clear_world(keep_agents=True)\n",
    "            env.cache['harm'] = [0 for _ in range(len(agents))]\n",
    "\n",
    "        random.shuffle(agents)\n",
    "    \n",
    "        fixed_prob_dict = {'Gem': cfg.state_sys.prob_list.Gem,\n",
    "                            'Coin': cfg.state_sys.prob_list.Coin,\n",
    "                            'Bone': cfg.state_sys.prob_list.Bone}\n",
    "        \n",
    "        # initialize state system\n",
    "        state_entity = state_sys(\n",
    "                cfg.state_sys.init_prob, \n",
    "                fixed_prob_dict,\n",
    "                cfg.state_sys.magnitude, \n",
    "                cfg.state_sys.taboo,\n",
    "                cfg.state_sys.resource_punishment_is_ambiguous,\n",
    "                cfg.state_sys.potential_taboo,\n",
    "                cfg.state_sys.only_punish_taboo,\n",
    "                cfg = cfg\n",
    "                )\n",
    "        \n",
    "\n",
    "        env.cache['harm'] = [0 for _ in range(len(agents))]\n",
    "\n",
    "        done = 0 \n",
    "        turn = 0\n",
    "        losses = 0\n",
    "        game_points = [0 for _ in range(len(agents))]\n",
    "        vote_for = [0 for _ in range(len(agents))]\n",
    "        vote_against = [0 for _ in range(len(agents))]\n",
    "        action_values_lst = [[] for _ in range(len(agents))]\n",
    "\n",
    "        while not done:\n",
    "\n",
    "            turn = turn + 1\n",
    "\n",
    "            for env in envs:\n",
    "                entities = env.get_entities_for_transition()\n",
    "                # Entity transition\n",
    "                for entity in entities:\n",
    "                    entity.transition(env)\n",
    "\n",
    "\n",
    "            # Agent transition\n",
    "            for ixs, agent in enumerate(agents):\n",
    "\n",
    "                # manually set state\n",
    "                if state_punishment_prob is not None:\n",
    "                    state_entity.prob = state_punishment_prob\n",
    "\n",
    "                (state, action, reward, next_state, done_, action_values) = agent.transition(\n",
    "                        envs[agent.ixs], \n",
    "                        state_entity, \n",
    "                        'certain', \n",
    "                        action_mode=cfg.action_mode,\n",
    "                        state_is_composite=cfg.state_mode=='composite',\n",
    "                        envs=envs,\n",
    "                        is_eval=True\n",
    "                        )\n",
    "\n",
    "                action_values_lst[agent.ixs].append(action_values)\n",
    "                # record vote\n",
    "                if action == 4:\n",
    "                    vote_for[agent.ixs] += 1\n",
    "                elif action == 5:\n",
    "                    vote_against[agent.ixs] += 1\n",
    "\n",
    "            \n",
    "                if turn >= cfg.experiment.max_turns or done_:\n",
    "                    done = 1\n",
    "\n",
    "                agent.add_memory(state, action, reward, done)\n",
    "\n",
    "                game_points[agent.ixs] += reward\n",
    "\n",
    "    return vote_for, vote_against, action_values_lst\n"
   ]
  },
  {
   "cell_type": "code",
   "execution_count": 24,
   "metadata": {},
   "outputs": [],
   "source": [
    "# no visualization, run_test func\n",
    "# composite visualization\n",
    "\n",
    "# --------------- #\n",
    "# region: Imports #\n",
    "import os\n",
    "import sys\n",
    "module_path = os.path.abspath('../../..')\n",
    "if module_path not in sys.path:\n",
    "    sys.path.insert(0, module_path)\n",
    "# endregion       #\n",
    "# --------------- #\n",
    "\n",
    "from examples.state_punishment.utils import (\n",
    "    init_log, parse_args, load_config,\n",
    "    create_models,\n",
    "    create_agents,\n",
    "    create_entities,\n",
    ")\n",
    "from examples.state_punishment import agents, entities\n",
    "from examples.state_punishment.env import state_punishment\n",
    "from agentarium.logging_utils import GameLogger\n",
    "from agentarium.models import human_player\n",
    "from agentarium.utils import visual_field_sprite, image_from_array, composite_visualization\n",
    "from examples.state_punishment.state_sys import state_sys\n",
    "from IPython.display import clear_output\n",
    "from matplotlib import pyplot as plt\n",
    "import random\n",
    "import argparse\n",
    "from copy import deepcopy\n",
    "import torch\n",
    "\n",
    "def run_test(\n",
    "        seed,\n",
    "        clear_world, \n",
    "        max_turns, \n",
    "        state_punishment_prob,\n",
    "        model_prefix,\n",
    "        config_path,\n",
    "        algo,\n",
    "        clear_entities = None\n",
    "        ):\n",
    "    config_path = config_path\n",
    "\n",
    "    cfg = load_config(argparse.Namespace(config=config_path))\n",
    "    cfg.env.prob.respawn_rate = 0.0\n",
    "    cfg.experiment.max_turns = max_turns\n",
    "    cfg.seed = seed\n",
    "    clear_world = clear_world\n",
    "    cfg.algo = algo\n",
    "\n",
    "    # set seed \n",
    "    random.seed(cfg.seed)\n",
    "    np.random.seed(cfg.seed)\n",
    "    torch.manual_seed(cfg.seed)\n",
    "    torch.cuda.manual_seed_all(cfg.seed)\n",
    "\n",
    "    models = create_models(cfg)\n",
    "    agents = create_agents(cfg, models)\n",
    "    entities = create_entities(cfg)\n",
    "    envs = []\n",
    "    for i in range(len(agents)):\n",
    "        envs.append(\n",
    "            state_punishment(cfg, [agents[i]], deepcopy(entities))\n",
    "        )\n",
    "\n",
    "\n",
    "    for ixs, agent in enumerate(agents):\n",
    "        if agent.ixs > -1:\n",
    "            agent.model.load(\n",
    "                f'../models/checkpoints/{model_prefix}_agent{agent.ixs}_iRainbowModel.pkl'\n",
    "            )\n",
    "        else:\n",
    "            agent.model = human_player.ModelHumanPlayer(\n",
    "                action_space=4, \n",
    "                state_size = cfg.model.iqn.parameters.state_size, \n",
    "                extra_percept_size = cfg.model.iqn.parameters.extra_percept_size,\n",
    "                memory_size=1, \n",
    "                name=f'human {ixs}')\n",
    "\n",
    "\n",
    "    for epoch in range(1):\n",
    "        # Reset the environment at the start of each epoch\n",
    "        for env_ixs, env in enumerate(envs):\n",
    "            env.reset(state_mode='composite')\n",
    "            if env_ixs in clear_world:\n",
    "                env.clear_world(keep_agents=True)\n",
    "            env.cache['harm'] = [0 for _ in range(len(agents))]\n",
    "\n",
    "        random.shuffle(agents)\n",
    "    \n",
    "        fixed_prob_dict = {'Gem': cfg.state_sys.prob_list.Gem,\n",
    "                            'Coin': cfg.state_sys.prob_list.Coin,\n",
    "                            'Bone': cfg.state_sys.prob_list.Bone}\n",
    "        \n",
    "        # initialize state system\n",
    "        state_entity = state_sys(\n",
    "                cfg.state_sys.init_prob, \n",
    "                fixed_prob_dict,\n",
    "                cfg.state_sys.magnitude, \n",
    "                cfg.state_sys.taboo,\n",
    "                cfg.state_sys.resource_punishment_is_ambiguous,\n",
    "                cfg.state_sys.potential_taboo,\n",
    "                cfg.state_sys.only_punish_taboo,\n",
    "                cfg = cfg\n",
    "                )\n",
    "        \n",
    "\n",
    "        env.cache['harm'] = [0 for _ in range(len(agents))]\n",
    "\n",
    "        done = 0 \n",
    "        turn = 0\n",
    "        losses = 0\n",
    "        game_points = [0 for _ in range(len(agents))]\n",
    "        vote_for = [0 for _ in range(len(agents))]\n",
    "        vote_against = [0 for _ in range(len(agents))]\n",
    "        action_values_lst = [[] for _ in range(len(agents))]\n",
    "\n",
    "        while not done:\n",
    "\n",
    "            turn = turn + 1\n",
    "\n",
    "            for env in envs:\n",
    "                entities = env.get_entities_for_transition()\n",
    "                # Entity transition\n",
    "                for entity in entities:\n",
    "                    entity.transition(env)\n",
    "\n",
    "\n",
    "            # Agent transition\n",
    "            for ixs, agent in enumerate(agents):\n",
    "\n",
    "                # manually set state\n",
    "                if state_punishment_prob is not None:\n",
    "                    state_entity.prob = state_punishment_prob\n",
    "\n",
    "                (state, action, reward, next_state, done_, action_values) = agent.transition(\n",
    "                        envs[agent.ixs], \n",
    "                        state_entity, \n",
    "                        'certain', \n",
    "                        action_mode=cfg.action_mode,\n",
    "                        state_is_composite=cfg.state_mode=='composite',\n",
    "                        envs=envs,\n",
    "                        is_eval=True\n",
    "                        )\n",
    "\n",
    "                action_values_lst[agent.ixs].append(action_values)\n",
    "                # record vote\n",
    "                if action == 4:\n",
    "                    vote_for[agent.ixs] += 1\n",
    "                elif action == 5:\n",
    "                    vote_against[agent.ixs] += 1\n",
    "\n",
    "            \n",
    "                if turn >= cfg.experiment.max_turns or done_:\n",
    "                    done = 1\n",
    "\n",
    "                agent.add_memory(state, action, reward, done)\n",
    "\n",
    "                game_points[agent.ixs] += reward\n",
    "\n",
    "    return vote_for, vote_against, action_values_lst\n"
   ]
  },
  {
   "cell_type": "code",
   "execution_count": 20,
   "metadata": {},
   "outputs": [],
   "source": [
    "model_name = \"Study1_experiment_cond_v3_one_voter_stacked_view_simple_actions_memory_issue_solved_3agents_respawn_0.04_s1_r1_seed3\""
   ]
  },
  {
   "cell_type": "code",
   "execution_count": 23,
   "metadata": {},
   "outputs": [
    {
     "name": "stderr",
     "output_type": "stream",
     "text": [
      "  0%|          | 0/25 [00:00<?, ?it/s]"
     ]
    },
    {
     "name": "stdout",
     "output_type": "stream",
     "text": [
      "here\n",
      "here\n",
      "here\n",
      "here\n",
      "here\n",
      "here\n",
      "here\n",
      "here\n",
      "here\n",
      "here\n",
      "here\n",
      "here\n",
      "here\n",
      "here\n",
      "here\n",
      "here\n",
      "here\n",
      "here\n",
      "here\n",
      "here\n",
      "here\n",
      "here\n",
      "here\n",
      "here\n",
      "here\n",
      "here\n",
      "here\n",
      "here\n",
      "here\n",
      "here\n",
      "here\n",
      "here\n",
      "here\n",
      "here\n",
      "here\n",
      "here\n",
      "here\n",
      "here\n",
      "here\n",
      "here\n",
      "here\n",
      "here\n",
      "here\n",
      "here\n",
      "here\n",
      "here\n",
      "here\n",
      "here\n",
      "here\n",
      "here\n",
      "here\n",
      "here\n",
      "here\n",
      "here\n",
      "here\n"
     ]
    },
    {
     "name": "stderr",
     "output_type": "stream",
     "text": [
      "  4%|▍         | 1/25 [00:16<06:31, 16.33s/it]"
     ]
    },
    {
     "name": "stdout",
     "output_type": "stream",
     "text": [
      "here\n",
      "here\n",
      "here\n",
      "here\n",
      "here\n",
      "here\n",
      "here\n",
      "here\n",
      "here\n",
      "here\n",
      "here\n",
      "here\n",
      "here\n",
      "here\n",
      "here\n",
      "here\n",
      "here\n",
      "here\n",
      "here\n",
      "here\n",
      "here\n",
      "here\n",
      "here\n",
      "here\n",
      "here\n",
      "here\n",
      "here\n",
      "here\n",
      "here\n",
      "here\n",
      "here\n",
      "here\n",
      "here\n",
      "here\n",
      "here\n",
      "here\n",
      "here\n",
      "here\n",
      "here\n",
      "here\n",
      "here\n",
      "here\n",
      "here\n",
      "here\n",
      "here\n",
      "here\n",
      "here\n",
      "here\n",
      "here\n",
      "here\n",
      "here\n",
      "here\n",
      "here\n",
      "here\n",
      "here\n"
     ]
    },
    {
     "name": "stderr",
     "output_type": "stream",
     "text": [
      "  8%|▊         | 2/25 [00:32<06:14, 16.28s/it]"
     ]
    },
    {
     "name": "stdout",
     "output_type": "stream",
     "text": [
      "here\n",
      "here\n",
      "here\n",
      "here\n",
      "here\n",
      "here\n",
      "here\n",
      "here\n",
      "here\n",
      "here\n",
      "here\n",
      "here\n",
      "here\n",
      "here\n",
      "here\n",
      "here\n",
      "here\n",
      "here\n",
      "here\n",
      "here\n",
      "here\n",
      "here\n",
      "here\n",
      "here\n",
      "here\n",
      "here\n",
      "here\n",
      "here\n",
      "here\n",
      "here\n",
      "here\n",
      "here\n",
      "here\n",
      "here\n",
      "here\n",
      "here\n",
      "here\n",
      "here\n",
      "here\n",
      "here\n",
      "here\n",
      "here\n",
      "here\n",
      "here\n",
      "here\n",
      "here\n",
      "here\n",
      "here\n",
      "here\n",
      "here\n",
      "here\n",
      "here\n",
      "here\n",
      "here\n",
      "here\n"
     ]
    },
    {
     "name": "stderr",
     "output_type": "stream",
     "text": [
      " 12%|█▏        | 3/25 [00:48<05:56, 16.22s/it]"
     ]
    },
    {
     "name": "stdout",
     "output_type": "stream",
     "text": [
      "here\n",
      "here\n",
      "here\n",
      "here\n",
      "here\n",
      "here\n",
      "here\n",
      "here\n",
      "here\n",
      "here\n",
      "here\n",
      "here\n",
      "here\n",
      "here\n",
      "here\n",
      "here\n",
      "here\n",
      "here\n",
      "here\n",
      "here\n",
      "here\n",
      "here\n",
      "here\n",
      "here\n",
      "here\n",
      "here\n",
      "here\n",
      "here\n",
      "here\n",
      "here\n",
      "here\n",
      "here\n",
      "here\n",
      "here\n",
      "here\n",
      "here\n",
      "here\n",
      "here\n",
      "here\n",
      "here\n",
      "here\n",
      "here\n",
      "here\n",
      "here\n",
      "here\n",
      "here\n",
      "here\n",
      "here\n",
      "here\n",
      "here\n",
      "here\n",
      "here\n",
      "here\n",
      "here\n",
      "here\n"
     ]
    },
    {
     "name": "stderr",
     "output_type": "stream",
     "text": [
      " 16%|█▌        | 4/25 [01:05<05:45, 16.44s/it]"
     ]
    },
    {
     "name": "stdout",
     "output_type": "stream",
     "text": [
      "here\n",
      "here\n",
      "here\n",
      "here\n",
      "here\n",
      "here\n",
      "here\n",
      "here\n",
      "here\n",
      "here\n",
      "here\n",
      "here\n",
      "here\n",
      "here\n",
      "here\n",
      "here\n",
      "here\n",
      "here\n",
      "here\n",
      "here\n",
      "here\n",
      "here\n",
      "here\n",
      "here\n",
      "here\n",
      "here\n",
      "here\n",
      "here\n",
      "here\n",
      "here\n",
      "here\n",
      "here\n",
      "here\n",
      "here\n",
      "here\n",
      "here\n",
      "here\n",
      "here\n",
      "here\n",
      "here\n",
      "here\n",
      "here\n",
      "here\n",
      "here\n",
      "here\n",
      "here\n",
      "here\n",
      "here\n",
      "here\n",
      "here\n",
      "here\n",
      "here\n",
      "here\n",
      "here\n",
      "here\n"
     ]
    },
    {
     "name": "stderr",
     "output_type": "stream",
     "text": [
      " 20%|██        | 5/25 [01:21<05:26, 16.34s/it]"
     ]
    },
    {
     "name": "stdout",
     "output_type": "stream",
     "text": [
      "here\n",
      "here\n",
      "here\n",
      "here\n",
      "here\n",
      "here\n",
      "here\n",
      "here\n",
      "here\n",
      "here\n",
      "here\n",
      "here\n",
      "here\n",
      "here\n",
      "here\n",
      "here\n",
      "here\n",
      "here\n",
      "here\n",
      "here\n",
      "here\n",
      "here\n",
      "here\n",
      "here\n",
      "here\n",
      "here\n",
      "here\n",
      "here\n",
      "here\n",
      "here\n",
      "here\n",
      "here\n",
      "here\n",
      "here\n",
      "here\n",
      "here\n",
      "here\n",
      "here\n",
      "here\n",
      "here\n",
      "here\n",
      "here\n",
      "here\n",
      "here\n",
      "here\n",
      "here\n",
      "here\n",
      "here\n",
      "here\n",
      "here\n",
      "here\n",
      "here\n",
      "here\n",
      "here\n",
      "here\n"
     ]
    },
    {
     "name": "stderr",
     "output_type": "stream",
     "text": [
      " 24%|██▍       | 6/25 [01:38<05:13, 16.51s/it]"
     ]
    },
    {
     "name": "stdout",
     "output_type": "stream",
     "text": [
      "here\n",
      "here\n",
      "here\n",
      "here\n",
      "here\n",
      "here\n",
      "here\n",
      "here\n",
      "here\n",
      "here\n",
      "here\n",
      "here\n",
      "here\n",
      "here\n",
      "here\n",
      "here\n",
      "here\n",
      "here\n",
      "here\n",
      "here\n",
      "here\n",
      "here\n",
      "here\n",
      "here\n",
      "here\n",
      "here\n",
      "here\n",
      "here\n",
      "here\n",
      "here\n",
      "here\n",
      "here\n",
      "here\n",
      "here\n",
      "here\n",
      "here\n",
      "here\n",
      "here\n",
      "here\n",
      "here\n",
      "here\n",
      "here\n",
      "here\n",
      "here\n",
      "here\n",
      "here\n",
      "here\n",
      "here\n",
      "here\n",
      "here\n",
      "here\n",
      "here\n",
      "here\n",
      "here\n",
      "here\n"
     ]
    },
    {
     "name": "stderr",
     "output_type": "stream",
     "text": [
      " 28%|██▊       | 7/25 [01:55<04:57, 16.55s/it]"
     ]
    },
    {
     "name": "stdout",
     "output_type": "stream",
     "text": [
      "here\n",
      "here\n",
      "here\n",
      "here\n",
      "here\n",
      "here\n",
      "here\n",
      "here\n",
      "here\n",
      "here\n",
      "here\n",
      "here\n",
      "here\n",
      "here\n",
      "here\n",
      "here\n",
      "here\n",
      "here\n",
      "here\n",
      "here\n",
      "here\n",
      "here\n",
      "here\n",
      "here\n",
      "here\n",
      "here\n",
      "here\n",
      "here\n",
      "here\n",
      "here\n",
      "here\n",
      "here\n",
      "here\n",
      "here\n",
      "here\n",
      "here\n",
      "here\n",
      "here\n",
      "here\n",
      "here\n",
      "here\n",
      "here\n",
      "here\n",
      "here\n",
      "here\n",
      "here\n",
      "here\n",
      "here\n",
      "here\n",
      "here\n",
      "here\n",
      "here\n",
      "here\n",
      "here\n",
      "here\n"
     ]
    },
    {
     "name": "stderr",
     "output_type": "stream",
     "text": [
      " 32%|███▏      | 8/25 [02:11<04:42, 16.61s/it]"
     ]
    },
    {
     "name": "stdout",
     "output_type": "stream",
     "text": [
      "here\n",
      "here\n",
      "here\n",
      "here\n",
      "here\n",
      "here\n",
      "here\n",
      "here\n",
      "here\n",
      "here\n",
      "here\n",
      "here\n",
      "here\n",
      "here\n",
      "here\n",
      "here\n",
      "here\n",
      "here\n",
      "here\n",
      "here\n",
      "here\n",
      "here\n",
      "here\n",
      "here\n",
      "here\n",
      "here\n",
      "here\n",
      "here\n",
      "here\n",
      "here\n",
      "here\n",
      "here\n",
      "here\n",
      "here\n",
      "here\n",
      "here\n",
      "here\n",
      "here\n",
      "here\n",
      "here\n",
      "here\n",
      "here\n",
      "here\n",
      "here\n",
      "here\n",
      "here\n",
      "here\n",
      "here\n",
      "here\n",
      "here\n",
      "here\n",
      "here\n",
      "here\n",
      "here\n",
      "here\n"
     ]
    },
    {
     "name": "stderr",
     "output_type": "stream",
     "text": [
      " 36%|███▌      | 9/25 [02:28<04:25, 16.62s/it]"
     ]
    },
    {
     "name": "stdout",
     "output_type": "stream",
     "text": [
      "here\n",
      "here\n",
      "here\n",
      "here\n",
      "here\n",
      "here\n",
      "here\n",
      "here\n",
      "here\n",
      "here\n",
      "here\n",
      "here\n",
      "here\n",
      "here\n",
      "here\n",
      "here\n",
      "here\n",
      "here\n",
      "here\n",
      "here\n",
      "here\n",
      "here\n",
      "here\n",
      "here\n",
      "here\n",
      "here\n",
      "here\n",
      "here\n",
      "here\n",
      "here\n",
      "here\n",
      "here\n",
      "here\n",
      "here\n",
      "here\n",
      "here\n",
      "here\n",
      "here\n",
      "here\n",
      "here\n",
      "here\n",
      "here\n",
      "here\n",
      "here\n",
      "here\n",
      "here\n",
      "here\n",
      "here\n",
      "here\n",
      "here\n",
      "here\n",
      "here\n",
      "here\n",
      "here\n",
      "here\n"
     ]
    },
    {
     "name": "stderr",
     "output_type": "stream",
     "text": [
      " 40%|████      | 10/25 [02:45<04:08, 16.60s/it]"
     ]
    },
    {
     "name": "stdout",
     "output_type": "stream",
     "text": [
      "here\n",
      "here\n",
      "here\n",
      "here\n",
      "here\n",
      "here\n",
      "here\n",
      "here\n",
      "here\n",
      "here\n",
      "here\n",
      "here\n",
      "here\n",
      "here\n",
      "here\n",
      "here\n",
      "here\n",
      "here\n",
      "here\n",
      "here\n",
      "here\n",
      "here\n",
      "here\n",
      "here\n",
      "here\n",
      "here\n",
      "here\n",
      "here\n",
      "here\n",
      "here\n",
      "here\n",
      "here\n",
      "here\n",
      "here\n",
      "here\n",
      "here\n",
      "here\n",
      "here\n",
      "here\n",
      "here\n",
      "here\n",
      "here\n",
      "here\n",
      "here\n",
      "here\n",
      "here\n",
      "here\n",
      "here\n",
      "here\n",
      "here\n",
      "here\n",
      "here\n",
      "here\n",
      "here\n",
      "here\n"
     ]
    },
    {
     "name": "stderr",
     "output_type": "stream",
     "text": [
      " 44%|████▍     | 11/25 [03:01<03:51, 16.56s/it]"
     ]
    },
    {
     "name": "stdout",
     "output_type": "stream",
     "text": [
      "here\n",
      "here\n",
      "here\n",
      "here\n",
      "here\n",
      "here\n",
      "here\n",
      "here\n",
      "here\n",
      "here\n",
      "here\n",
      "here\n",
      "here\n",
      "here\n",
      "here\n",
      "here\n",
      "here\n",
      "here\n",
      "here\n",
      "here\n",
      "here\n",
      "here\n",
      "here\n",
      "here\n",
      "here\n",
      "here\n",
      "here\n",
      "here\n",
      "here\n",
      "here\n",
      "here\n",
      "here\n",
      "here\n",
      "here\n",
      "here\n",
      "here\n",
      "here\n",
      "here\n",
      "here\n",
      "here\n",
      "here\n",
      "here\n",
      "here\n",
      "here\n",
      "here\n",
      "here\n",
      "here\n",
      "here\n",
      "here\n",
      "here\n",
      "here\n",
      "here\n",
      "here\n",
      "here\n",
      "here\n"
     ]
    },
    {
     "name": "stderr",
     "output_type": "stream",
     "text": [
      " 48%|████▊     | 12/25 [03:17<03:34, 16.49s/it]"
     ]
    },
    {
     "name": "stdout",
     "output_type": "stream",
     "text": [
      "here\n",
      "here\n",
      "here\n",
      "here\n",
      "here\n",
      "here\n",
      "here\n",
      "here\n",
      "here\n",
      "here\n",
      "here\n",
      "here\n",
      "here\n",
      "here\n",
      "here\n",
      "here\n",
      "here\n",
      "here\n",
      "here\n",
      "here\n",
      "here\n",
      "here\n",
      "here\n",
      "here\n",
      "here\n",
      "here\n",
      "here\n",
      "here\n",
      "here\n",
      "here\n",
      "here\n",
      "here\n",
      "here\n",
      "here\n",
      "here\n",
      "here\n",
      "here\n",
      "here\n",
      "here\n",
      "here\n",
      "here\n",
      "here\n",
      "here\n",
      "here\n",
      "here\n",
      "here\n",
      "here\n",
      "here\n",
      "here\n",
      "here\n",
      "here\n",
      "here\n",
      "here\n",
      "here\n",
      "here\n"
     ]
    },
    {
     "name": "stderr",
     "output_type": "stream",
     "text": [
      " 52%|█████▏    | 13/25 [03:34<03:18, 16.52s/it]"
     ]
    },
    {
     "name": "stdout",
     "output_type": "stream",
     "text": [
      "here\n",
      "here\n",
      "here\n",
      "here\n",
      "here\n",
      "here\n",
      "here\n",
      "here\n",
      "here\n",
      "here\n",
      "here\n",
      "here\n",
      "here\n",
      "here\n",
      "here\n",
      "here\n",
      "here\n",
      "here\n",
      "here\n",
      "here\n",
      "here\n",
      "here\n",
      "here\n",
      "here\n",
      "here\n",
      "here\n",
      "here\n",
      "here\n",
      "here\n",
      "here\n",
      "here\n",
      "here\n",
      "here\n",
      "here\n",
      "here\n",
      "here\n",
      "here\n",
      "here\n",
      "here\n",
      "here\n",
      "here\n",
      "here\n",
      "here\n",
      "here\n",
      "here\n",
      "here\n",
      "here\n",
      "here\n",
      "here\n",
      "here\n",
      "here\n",
      "here\n",
      "here\n",
      "here\n",
      "here\n"
     ]
    },
    {
     "name": "stderr",
     "output_type": "stream",
     "text": [
      " 56%|█████▌    | 14/25 [03:51<03:02, 16.62s/it]"
     ]
    },
    {
     "name": "stdout",
     "output_type": "stream",
     "text": [
      "here\n",
      "here\n",
      "here\n",
      "here\n",
      "here\n",
      "here\n",
      "here\n",
      "here\n",
      "here\n",
      "here\n",
      "here\n",
      "here\n",
      "here\n",
      "here\n",
      "here\n",
      "here\n",
      "here\n",
      "here\n",
      "here\n",
      "here\n",
      "here\n",
      "here\n",
      "here\n",
      "here\n",
      "here\n",
      "here\n",
      "here\n",
      "here\n",
      "here\n",
      "here\n",
      "here\n",
      "here\n",
      "here\n",
      "here\n",
      "here\n",
      "here\n",
      "here\n",
      "here\n",
      "here\n",
      "here\n",
      "here\n",
      "here\n",
      "here\n",
      "here\n",
      "here\n",
      "here\n",
      "here\n",
      "here\n",
      "here\n",
      "here\n",
      "here\n",
      "here\n",
      "here\n",
      "here\n",
      "here\n"
     ]
    },
    {
     "name": "stderr",
     "output_type": "stream",
     "text": [
      " 60%|██████    | 15/25 [04:07<02:43, 16.35s/it]"
     ]
    },
    {
     "name": "stdout",
     "output_type": "stream",
     "text": [
      "here\n",
      "here\n",
      "here\n",
      "here\n",
      "here\n",
      "here\n",
      "here\n",
      "here\n",
      "here\n",
      "here\n",
      "here\n",
      "here\n",
      "here\n",
      "here\n",
      "here\n",
      "here\n",
      "here\n",
      "here\n",
      "here\n",
      "here\n",
      "here\n",
      "here\n",
      "here\n",
      "here\n",
      "here\n",
      "here\n",
      "here\n",
      "here\n",
      "here\n",
      "here\n",
      "here\n",
      "here\n",
      "here\n",
      "here\n",
      "here\n",
      "here\n",
      "here\n",
      "here\n",
      "here\n",
      "here\n",
      "here\n",
      "here\n",
      "here\n",
      "here\n",
      "here\n",
      "here\n",
      "here\n",
      "here\n",
      "here\n",
      "here\n",
      "here\n",
      "here\n",
      "here\n",
      "here\n",
      "here\n"
     ]
    },
    {
     "name": "stderr",
     "output_type": "stream",
     "text": [
      " 64%|██████▍   | 16/25 [04:22<02:25, 16.22s/it]"
     ]
    },
    {
     "name": "stdout",
     "output_type": "stream",
     "text": [
      "here\n",
      "here\n",
      "here\n",
      "here\n",
      "here\n",
      "here\n",
      "here\n",
      "here\n",
      "here\n",
      "here\n",
      "here\n",
      "here\n",
      "here\n",
      "here\n",
      "here\n",
      "here\n",
      "here\n",
      "here\n",
      "here\n",
      "here\n",
      "here\n",
      "here\n",
      "here\n",
      "here\n",
      "here\n",
      "here\n",
      "here\n",
      "here\n",
      "here\n",
      "here\n",
      "here\n",
      "here\n",
      "here\n",
      "here\n",
      "here\n",
      "here\n",
      "here\n",
      "here\n",
      "here\n",
      "here\n",
      "here\n",
      "here\n",
      "here\n",
      "here\n",
      "here\n",
      "here\n",
      "here\n",
      "here\n",
      "here\n",
      "here\n",
      "here\n",
      "here\n",
      "here\n",
      "here\n",
      "here\n"
     ]
    },
    {
     "name": "stderr",
     "output_type": "stream",
     "text": [
      " 68%|██████▊   | 17/25 [04:39<02:10, 16.31s/it]"
     ]
    },
    {
     "name": "stdout",
     "output_type": "stream",
     "text": [
      "here\n",
      "here\n",
      "here\n",
      "here\n",
      "here\n",
      "here\n",
      "here\n",
      "here\n",
      "here\n",
      "here\n",
      "here\n",
      "here\n",
      "here\n",
      "here\n",
      "here\n",
      "here\n",
      "here\n",
      "here\n",
      "here\n",
      "here\n",
      "here\n",
      "here\n",
      "here\n",
      "here\n",
      "here\n",
      "here\n",
      "here\n",
      "here\n",
      "here\n",
      "here\n",
      "here\n",
      "here\n",
      "here\n",
      "here\n",
      "here\n",
      "here\n",
      "here\n",
      "here\n",
      "here\n",
      "here\n",
      "here\n",
      "here\n",
      "here\n",
      "here\n",
      "here\n",
      "here\n",
      "here\n",
      "here\n",
      "here\n",
      "here\n",
      "here\n",
      "here\n",
      "here\n",
      "here\n",
      "here\n"
     ]
    },
    {
     "name": "stderr",
     "output_type": "stream",
     "text": [
      " 72%|███████▏  | 18/25 [04:55<01:54, 16.32s/it]"
     ]
    },
    {
     "name": "stdout",
     "output_type": "stream",
     "text": [
      "here\n",
      "here\n",
      "here\n",
      "here\n",
      "here\n",
      "here\n",
      "here\n",
      "here\n",
      "here\n",
      "here\n",
      "here\n",
      "here\n",
      "here\n",
      "here\n",
      "here\n",
      "here\n",
      "here\n",
      "here\n",
      "here\n",
      "here\n",
      "here\n",
      "here\n",
      "here\n",
      "here\n",
      "here\n",
      "here\n",
      "here\n",
      "here\n",
      "here\n",
      "here\n",
      "here\n",
      "here\n",
      "here\n",
      "here\n",
      "here\n",
      "here\n",
      "here\n",
      "here\n",
      "here\n",
      "here\n",
      "here\n",
      "here\n",
      "here\n",
      "here\n",
      "here\n",
      "here\n",
      "here\n",
      "here\n",
      "here\n",
      "here\n",
      "here\n",
      "here\n",
      "here\n",
      "here\n",
      "here\n"
     ]
    },
    {
     "name": "stderr",
     "output_type": "stream",
     "text": [
      " 76%|███████▌  | 19/25 [05:12<01:38, 16.41s/it]"
     ]
    },
    {
     "name": "stdout",
     "output_type": "stream",
     "text": [
      "here\n",
      "here\n",
      "here\n",
      "here\n",
      "here\n",
      "here\n",
      "here\n",
      "here\n",
      "here\n",
      "here\n",
      "here\n",
      "here\n",
      "here\n",
      "here\n",
      "here\n",
      "here\n",
      "here\n",
      "here\n",
      "here\n",
      "here\n",
      "here\n",
      "here\n",
      "here\n",
      "here\n",
      "here\n",
      "here\n",
      "here\n",
      "here\n",
      "here\n",
      "here\n",
      "here\n",
      "here\n",
      "here\n",
      "here\n",
      "here\n",
      "here\n",
      "here\n",
      "here\n",
      "here\n",
      "here\n",
      "here\n",
      "here\n",
      "here\n",
      "here\n",
      "here\n",
      "here\n",
      "here\n",
      "here\n",
      "here\n",
      "here\n",
      "here\n",
      "here\n",
      "here\n",
      "here\n",
      "here\n"
     ]
    },
    {
     "name": "stderr",
     "output_type": "stream",
     "text": [
      " 80%|████████  | 20/25 [05:28<01:22, 16.44s/it]"
     ]
    },
    {
     "name": "stdout",
     "output_type": "stream",
     "text": [
      "here\n",
      "here\n",
      "here\n",
      "here\n",
      "here\n",
      "here\n",
      "here\n",
      "here\n",
      "here\n",
      "here\n",
      "here\n",
      "here\n",
      "here\n",
      "here\n",
      "here\n",
      "here\n",
      "here\n",
      "here\n",
      "here\n",
      "here\n",
      "here\n",
      "here\n",
      "here\n",
      "here\n",
      "here\n",
      "here\n",
      "here\n",
      "here\n",
      "here\n",
      "here\n",
      "here\n",
      "here\n",
      "here\n",
      "here\n",
      "here\n",
      "here\n",
      "here\n",
      "here\n",
      "here\n",
      "here\n",
      "here\n",
      "here\n",
      "here\n",
      "here\n",
      "here\n",
      "here\n",
      "here\n",
      "here\n",
      "here\n",
      "here\n",
      "here\n",
      "here\n",
      "here\n",
      "here\n",
      "here\n"
     ]
    },
    {
     "name": "stderr",
     "output_type": "stream",
     "text": [
      " 84%|████████▍ | 21/25 [05:45<01:05, 16.33s/it]"
     ]
    },
    {
     "name": "stdout",
     "output_type": "stream",
     "text": [
      "here\n",
      "here\n",
      "here\n",
      "here\n",
      "here\n",
      "here\n",
      "here\n",
      "here\n",
      "here\n",
      "here\n",
      "here\n",
      "here\n",
      "here\n",
      "here\n",
      "here\n",
      "here\n",
      "here\n",
      "here\n",
      "here\n",
      "here\n",
      "here\n",
      "here\n",
      "here\n",
      "here\n",
      "here\n",
      "here\n",
      "here\n",
      "here\n",
      "here\n",
      "here\n",
      "here\n",
      "here\n",
      "here\n",
      "here\n",
      "here\n",
      "here\n",
      "here\n",
      "here\n",
      "here\n",
      "here\n",
      "here\n",
      "here\n",
      "here\n",
      "here\n",
      "here\n",
      "here\n",
      "here\n",
      "here\n",
      "here\n",
      "here\n",
      "here\n",
      "here\n",
      "here\n",
      "here\n",
      "here\n"
     ]
    },
    {
     "name": "stderr",
     "output_type": "stream",
     "text": [
      " 88%|████████▊ | 22/25 [06:01<00:48, 16.32s/it]"
     ]
    },
    {
     "name": "stdout",
     "output_type": "stream",
     "text": [
      "here\n",
      "here\n",
      "here\n",
      "here\n",
      "here\n",
      "here\n",
      "here\n",
      "here\n",
      "here\n",
      "here\n",
      "here\n",
      "here\n",
      "here\n",
      "here\n",
      "here\n",
      "here\n",
      "here\n",
      "here\n",
      "here\n",
      "here\n",
      "here\n",
      "here\n",
      "here\n",
      "here\n",
      "here\n",
      "here\n",
      "here\n",
      "here\n",
      "here\n",
      "here\n",
      "here\n",
      "here\n",
      "here\n",
      "here\n",
      "here\n",
      "here\n",
      "here\n",
      "here\n",
      "here\n",
      "here\n",
      "here\n",
      "here\n",
      "here\n",
      "here\n",
      "here\n",
      "here\n",
      "here\n",
      "here\n",
      "here\n",
      "here\n",
      "here\n",
      "here\n",
      "here\n",
      "here\n",
      "here\n"
     ]
    },
    {
     "name": "stderr",
     "output_type": "stream",
     "text": [
      " 92%|█████████▏| 23/25 [06:17<00:32, 16.23s/it]"
     ]
    },
    {
     "name": "stdout",
     "output_type": "stream",
     "text": [
      "here\n",
      "here\n",
      "here\n",
      "here\n",
      "here\n",
      "here\n",
      "here\n",
      "here\n",
      "here\n",
      "here\n",
      "here\n",
      "here\n",
      "here\n",
      "here\n",
      "here\n",
      "here\n",
      "here\n",
      "here\n",
      "here\n",
      "here\n",
      "here\n",
      "here\n",
      "here\n",
      "here\n",
      "here\n",
      "here\n",
      "here\n",
      "here\n",
      "here\n",
      "here\n",
      "here\n",
      "here\n",
      "here\n",
      "here\n",
      "here\n",
      "here\n",
      "here\n",
      "here\n",
      "here\n",
      "here\n",
      "here\n",
      "here\n",
      "here\n",
      "here\n",
      "here\n",
      "here\n",
      "here\n",
      "here\n",
      "here\n",
      "here\n",
      "here\n",
      "here\n",
      "here\n",
      "here\n",
      "here\n"
     ]
    },
    {
     "name": "stderr",
     "output_type": "stream",
     "text": [
      " 96%|█████████▌| 24/25 [06:33<00:16, 16.27s/it]"
     ]
    },
    {
     "name": "stdout",
     "output_type": "stream",
     "text": [
      "here\n",
      "here\n",
      "here\n",
      "here\n",
      "here\n",
      "here\n",
      "here\n",
      "here\n",
      "here\n",
      "here\n",
      "here\n",
      "here\n",
      "here\n",
      "here\n",
      "here\n",
      "here\n",
      "here\n",
      "here\n",
      "here\n",
      "here\n",
      "here\n",
      "here\n",
      "here\n",
      "here\n",
      "here\n",
      "here\n",
      "here\n",
      "here\n",
      "here\n",
      "here\n",
      "here\n",
      "here\n",
      "here\n",
      "here\n",
      "here\n",
      "here\n",
      "here\n",
      "here\n",
      "here\n",
      "here\n",
      "here\n",
      "here\n",
      "here\n",
      "here\n",
      "here\n",
      "here\n",
      "here\n",
      "here\n",
      "here\n",
      "here\n",
      "here\n",
      "here\n",
      "here\n",
      "here\n",
      "here\n"
     ]
    },
    {
     "name": "stderr",
     "output_type": "stream",
     "text": [
      "100%|██████████| 25/25 [06:50<00:00, 16.44s/it]\n"
     ]
    }
   ],
   "source": [
    "# valuation of each resource\n",
    "resources = ['A', 'B', 'C', 'D', 'E']\n",
    "v_vals_mean = {key: [] for key in resources}\n",
    "probs = {key: [] for key in resources}\n",
    "\n",
    "for trial in trange(25):\n",
    "    for resource in resources:\n",
    "        for prob in np.arange(0, 1.1, 0.1):\n",
    "            _, _, action_values_lst = test_resource_valuation(\n",
    "                seed=trial,\n",
    "                clear_world=[], \n",
    "                max_turns=1, \n",
    "                state_punishment_prob=prob,\n",
    "                entity_to_keep=resource,\n",
    "                model_prefix=model_name,\n",
    "                algo='iqn',\n",
    "                config_path='../configs/config_with_vote_composite_study1_probe_test.yaml',\n",
    "            )\n",
    "            action_values_lst = [val[0].mean() for val in action_values_lst]\n",
    "            v_vals_mean[resource].append(torch.stack(action_values_lst).numpy().mean())\n",
    "            probs[resource].append(prob)"
   ]
  },
  {
   "cell_type": "code",
   "execution_count": 109,
   "metadata": {},
   "outputs": [
    {
     "data": {
      "text/plain": [
       "(110, 553)"
      ]
     },
     "execution_count": 109,
     "metadata": {},
     "output_type": "execute_result"
    }
   ],
   "source": [
    "len(v_vals_mean['E']), len(probs)"
   ]
  },
  {
   "cell_type": "code",
   "execution_count": 25,
   "metadata": {},
   "outputs": [
    {
     "data": {
      "image/png": "[encoded data removed]",
      "text/plain": [
       "<Figure size 640x480 with 1 Axes>"
      ]
     },
     "metadata": {},
     "output_type": "display_data"
    }
   ],
   "source": [
    "# plot \n",
    "for resource in resources:\n",
    "    # plot_quadratic_curve(probs[resource], v_vals_mean[resource], ylabel=f'Value of {resource}')\n",
    "    x = probs[resource]\n",
    "    y = v_vals_mean[resource]\n",
    "    coeffs = np.polyfit(x, y, deg=2)\n",
    "    poly_fn = np.poly1d(coeffs)  # Create a polynomial function\n",
    "\n",
    "    # Generate smooth x-values and corresponding fitted y-values\n",
    "    x_fit = np.linspace(min(x), max(x), 200)\n",
    "    y_fit = poly_fn(x_fit)\n",
    "    plt.plot(x_fit, y_fit, label=resource)\n",
    "plt.xlabel('Punishment level')\n",
    "plt.ylabel('Value')\n",
    "plt.title('Resource valuation at different punishment levels')\n",
    "plt.legend()\n",
    "plt.show()"
   ]
  },
  {
   "cell_type": "code",
   "execution_count": 26,
   "metadata": {},
   "outputs": [
    {
     "name": "stderr",
     "output_type": "stream",
     "text": [
      "  0%|          | 0/50 [00:00<?, ?it/s]"
     ]
    },
    {
     "name": "stdout",
     "output_type": "stream",
     "text": [
      "here\n",
      "here\n",
      "here\n",
      "here\n",
      "here\n",
      "here\n",
      "here\n",
      "here\n",
      "here\n",
      "here\n",
      "here\n"
     ]
    },
    {
     "name": "stderr",
     "output_type": "stream",
     "text": [
      "  2%|▏         | 1/50 [00:03<02:34,  3.16s/it]"
     ]
    },
    {
     "name": "stdout",
     "output_type": "stream",
     "text": [
      "here\n",
      "here\n",
      "here\n",
      "here\n",
      "here\n",
      "here\n",
      "here\n",
      "here\n",
      "here\n",
      "here\n",
      "here\n"
     ]
    },
    {
     "name": "stderr",
     "output_type": "stream",
     "text": [
      "  4%|▍         | 2/50 [00:06<02:37,  3.29s/it]"
     ]
    },
    {
     "name": "stdout",
     "output_type": "stream",
     "text": [
      "here\n",
      "here\n",
      "here\n",
      "here\n",
      "here\n",
      "here\n",
      "here\n",
      "here\n",
      "here\n",
      "here\n",
      "here\n"
     ]
    },
    {
     "name": "stderr",
     "output_type": "stream",
     "text": [
      "  6%|▌         | 3/50 [00:09<02:31,  3.21s/it]"
     ]
    },
    {
     "name": "stdout",
     "output_type": "stream",
     "text": [
      "here\n",
      "here\n",
      "here\n",
      "here\n",
      "here\n",
      "here\n",
      "here\n",
      "here\n",
      "here\n",
      "here\n",
      "here\n"
     ]
    },
    {
     "name": "stderr",
     "output_type": "stream",
     "text": [
      "  8%|▊         | 4/50 [00:13<02:31,  3.29s/it]"
     ]
    },
    {
     "name": "stdout",
     "output_type": "stream",
     "text": [
      "here\n",
      "here\n",
      "here\n",
      "here\n",
      "here\n",
      "here\n",
      "here\n",
      "here\n",
      "here\n",
      "here\n",
      "here\n"
     ]
    },
    {
     "name": "stderr",
     "output_type": "stream",
     "text": [
      " 10%|█         | 5/50 [00:16<02:30,  3.35s/it]"
     ]
    },
    {
     "name": "stdout",
     "output_type": "stream",
     "text": [
      "here\n",
      "here\n",
      "here\n",
      "here\n",
      "here\n",
      "here\n",
      "here\n",
      "here\n",
      "here\n",
      "here\n",
      "here\n"
     ]
    },
    {
     "name": "stderr",
     "output_type": "stream",
     "text": [
      " 12%|█▏        | 6/50 [00:19<02:26,  3.34s/it]"
     ]
    },
    {
     "name": "stdout",
     "output_type": "stream",
     "text": [
      "here\n",
      "here\n",
      "here\n",
      "here\n",
      "here\n",
      "here\n",
      "here\n",
      "here\n",
      "here\n",
      "here\n",
      "here\n"
     ]
    },
    {
     "name": "stderr",
     "output_type": "stream",
     "text": [
      " 14%|█▍        | 7/50 [00:23<02:23,  3.33s/it]"
     ]
    },
    {
     "name": "stdout",
     "output_type": "stream",
     "text": [
      "here\n",
      "here\n",
      "here\n",
      "here\n",
      "here\n",
      "here\n",
      "here\n",
      "here\n",
      "here\n",
      "here\n",
      "here\n"
     ]
    },
    {
     "name": "stderr",
     "output_type": "stream",
     "text": [
      " 16%|█▌        | 8/50 [00:26<02:24,  3.44s/it]"
     ]
    },
    {
     "name": "stdout",
     "output_type": "stream",
     "text": [
      "here\n",
      "here\n",
      "here\n",
      "here\n",
      "here\n",
      "here\n",
      "here\n",
      "here\n",
      "here\n",
      "here\n",
      "here\n"
     ]
    },
    {
     "name": "stderr",
     "output_type": "stream",
     "text": [
      " 18%|█▊        | 9/50 [00:29<02:14,  3.28s/it]"
     ]
    },
    {
     "name": "stdout",
     "output_type": "stream",
     "text": [
      "here\n",
      "here\n",
      "here\n",
      "here\n",
      "here\n",
      "here\n",
      "here\n",
      "here\n",
      "here\n",
      "here\n",
      "here\n"
     ]
    },
    {
     "name": "stderr",
     "output_type": "stream",
     "text": [
      " 20%|██        | 10/50 [00:32<02:08,  3.21s/it]"
     ]
    },
    {
     "name": "stdout",
     "output_type": "stream",
     "text": [
      "here\n",
      "here\n",
      "here\n",
      "here\n",
      "here\n",
      "here\n",
      "here\n",
      "here\n",
      "here\n",
      "here\n",
      "here\n"
     ]
    },
    {
     "name": "stderr",
     "output_type": "stream",
     "text": [
      " 22%|██▏       | 11/50 [00:35<02:01,  3.13s/it]"
     ]
    },
    {
     "name": "stdout",
     "output_type": "stream",
     "text": [
      "here\n",
      "here\n",
      "here\n",
      "here\n",
      "here\n",
      "here\n",
      "here\n",
      "here\n",
      "here\n",
      "here\n",
      "here\n"
     ]
    },
    {
     "name": "stderr",
     "output_type": "stream",
     "text": [
      " 24%|██▍       | 12/50 [00:38<01:56,  3.08s/it]"
     ]
    },
    {
     "name": "stdout",
     "output_type": "stream",
     "text": [
      "here\n",
      "here\n",
      "here\n",
      "here\n",
      "here\n",
      "here\n",
      "here\n",
      "here\n",
      "here\n",
      "here\n",
      "here\n"
     ]
    },
    {
     "name": "stderr",
     "output_type": "stream",
     "text": [
      " 26%|██▌       | 13/50 [00:42<02:02,  3.31s/it]"
     ]
    },
    {
     "name": "stdout",
     "output_type": "stream",
     "text": [
      "here\n",
      "here\n",
      "here\n",
      "here\n",
      "here\n",
      "here\n",
      "here\n",
      "here\n",
      "here\n",
      "here\n",
      "here\n"
     ]
    },
    {
     "name": "stderr",
     "output_type": "stream",
     "text": [
      " 28%|██▊       | 14/50 [00:45<01:56,  3.24s/it]"
     ]
    },
    {
     "name": "stdout",
     "output_type": "stream",
     "text": [
      "here\n",
      "here\n",
      "here\n",
      "here\n",
      "here\n",
      "here\n",
      "here\n",
      "here\n",
      "here\n",
      "here\n",
      "here\n"
     ]
    },
    {
     "name": "stderr",
     "output_type": "stream",
     "text": [
      " 30%|███       | 15/50 [00:48<01:49,  3.14s/it]"
     ]
    },
    {
     "name": "stdout",
     "output_type": "stream",
     "text": [
      "here\n",
      "here\n",
      "here\n",
      "here\n",
      "here\n",
      "here\n",
      "here\n",
      "here\n",
      "here\n",
      "here\n",
      "here\n"
     ]
    },
    {
     "name": "stderr",
     "output_type": "stream",
     "text": [
      " 32%|███▏      | 16/50 [00:51<01:49,  3.23s/it]"
     ]
    },
    {
     "name": "stdout",
     "output_type": "stream",
     "text": [
      "here\n",
      "here\n",
      "here\n",
      "here\n",
      "here\n",
      "here\n",
      "here\n",
      "here\n",
      "here\n",
      "here\n",
      "here\n"
     ]
    },
    {
     "name": "stderr",
     "output_type": "stream",
     "text": [
      " 34%|███▍      | 17/50 [00:54<01:41,  3.08s/it]"
     ]
    },
    {
     "name": "stdout",
     "output_type": "stream",
     "text": [
      "here\n",
      "here\n",
      "here\n",
      "here\n",
      "here\n",
      "here\n",
      "here\n",
      "here\n",
      "here\n",
      "here\n",
      "here\n"
     ]
    },
    {
     "name": "stderr",
     "output_type": "stream",
     "text": [
      " 36%|███▌      | 18/50 [00:58<01:42,  3.22s/it]"
     ]
    },
    {
     "name": "stdout",
     "output_type": "stream",
     "text": [
      "here\n",
      "here\n",
      "here\n",
      "here\n",
      "here\n",
      "here\n",
      "here\n",
      "here\n",
      "here\n",
      "here\n",
      "here\n"
     ]
    },
    {
     "name": "stderr",
     "output_type": "stream",
     "text": [
      " 38%|███▊      | 19/50 [01:01<01:36,  3.11s/it]"
     ]
    },
    {
     "name": "stdout",
     "output_type": "stream",
     "text": [
      "here\n",
      "here\n",
      "here\n",
      "here\n",
      "here\n",
      "here\n",
      "here\n",
      "here\n",
      "here\n",
      "here\n",
      "here\n"
     ]
    },
    {
     "name": "stderr",
     "output_type": "stream",
     "text": [
      " 40%|████      | 20/50 [01:04<01:39,  3.30s/it]"
     ]
    },
    {
     "name": "stdout",
     "output_type": "stream",
     "text": [
      "here\n",
      "here\n",
      "here\n",
      "here\n",
      "here\n",
      "here\n",
      "here\n",
      "here\n",
      "here\n",
      "here\n",
      "here\n"
     ]
    },
    {
     "name": "stderr",
     "output_type": "stream",
     "text": [
      " 42%|████▏     | 21/50 [01:07<01:32,  3.18s/it]"
     ]
    },
    {
     "name": "stdout",
     "output_type": "stream",
     "text": [
      "here\n",
      "here\n",
      "here\n",
      "here\n",
      "here\n",
      "here\n",
      "here\n",
      "here\n",
      "here\n",
      "here\n",
      "here\n"
     ]
    },
    {
     "name": "stderr",
     "output_type": "stream",
     "text": [
      " 44%|████▍     | 22/50 [01:11<01:32,  3.31s/it]"
     ]
    },
    {
     "name": "stdout",
     "output_type": "stream",
     "text": [
      "here\n",
      "here\n",
      "here\n",
      "here\n",
      "here\n",
      "here\n",
      "here\n",
      "here\n",
      "here\n",
      "here\n",
      "here\n"
     ]
    },
    {
     "name": "stderr",
     "output_type": "stream",
     "text": [
      " 46%|████▌     | 23/50 [01:15<01:32,  3.44s/it]"
     ]
    },
    {
     "name": "stdout",
     "output_type": "stream",
     "text": [
      "here\n",
      "here\n",
      "here\n",
      "here\n",
      "here\n",
      "here\n",
      "here\n",
      "here\n",
      "here\n",
      "here\n",
      "here\n"
     ]
    },
    {
     "name": "stderr",
     "output_type": "stream",
     "text": [
      " 48%|████▊     | 24/50 [01:18<01:28,  3.39s/it]"
     ]
    },
    {
     "name": "stdout",
     "output_type": "stream",
     "text": [
      "here\n",
      "here\n",
      "here\n",
      "here\n",
      "here\n",
      "here\n",
      "here\n",
      "here\n",
      "here\n",
      "here\n",
      "here\n"
     ]
    },
    {
     "name": "stderr",
     "output_type": "stream",
     "text": [
      " 50%|█████     | 25/50 [01:21<01:21,  3.25s/it]"
     ]
    },
    {
     "name": "stdout",
     "output_type": "stream",
     "text": [
      "here\n",
      "here\n",
      "here\n",
      "here\n",
      "here\n",
      "here\n",
      "here\n",
      "here\n",
      "here\n",
      "here\n",
      "here\n"
     ]
    },
    {
     "name": "stderr",
     "output_type": "stream",
     "text": [
      " 52%|█████▏    | 26/50 [01:24<01:15,  3.16s/it]"
     ]
    },
    {
     "name": "stdout",
     "output_type": "stream",
     "text": [
      "here\n",
      "here\n",
      "here\n",
      "here\n",
      "here\n",
      "here\n",
      "here\n",
      "here\n",
      "here\n",
      "here\n",
      "here\n"
     ]
    },
    {
     "name": "stderr",
     "output_type": "stream",
     "text": [
      " 54%|█████▍    | 27/50 [01:27<01:11,  3.12s/it]"
     ]
    },
    {
     "name": "stdout",
     "output_type": "stream",
     "text": [
      "here\n",
      "here\n",
      "here\n",
      "here\n",
      "here\n",
      "here\n",
      "here\n",
      "here\n",
      "here\n",
      "here\n",
      "here\n"
     ]
    },
    {
     "name": "stderr",
     "output_type": "stream",
     "text": [
      " 56%|█████▌    | 28/50 [01:30<01:07,  3.09s/it]"
     ]
    },
    {
     "name": "stdout",
     "output_type": "stream",
     "text": [
      "here\n",
      "here\n",
      "here\n",
      "here\n",
      "here\n",
      "here\n",
      "here\n",
      "here\n",
      "here\n",
      "here\n",
      "here\n"
     ]
    },
    {
     "name": "stderr",
     "output_type": "stream",
     "text": [
      " 58%|█████▊    | 29/50 [01:33<01:08,  3.25s/it]"
     ]
    },
    {
     "name": "stdout",
     "output_type": "stream",
     "text": [
      "here\n",
      "here\n",
      "here\n",
      "here\n",
      "here\n",
      "here\n",
      "here\n",
      "here\n",
      "here\n",
      "here\n",
      "here\n"
     ]
    },
    {
     "name": "stderr",
     "output_type": "stream",
     "text": [
      " 60%|██████    | 30/50 [01:36<01:03,  3.17s/it]"
     ]
    },
    {
     "name": "stdout",
     "output_type": "stream",
     "text": [
      "here\n",
      "here\n",
      "here\n",
      "here\n",
      "here\n",
      "here\n",
      "here\n",
      "here\n",
      "here\n",
      "here\n",
      "here\n"
     ]
    },
    {
     "name": "stderr",
     "output_type": "stream",
     "text": [
      " 62%|██████▏   | 31/50 [01:40<01:00,  3.16s/it]"
     ]
    },
    {
     "name": "stdout",
     "output_type": "stream",
     "text": [
      "here\n",
      "here\n",
      "here\n",
      "here\n",
      "here\n",
      "here\n",
      "here\n",
      "here\n",
      "here\n",
      "here\n",
      "here\n"
     ]
    },
    {
     "name": "stderr",
     "output_type": "stream",
     "text": [
      " 64%|██████▍   | 32/50 [01:43<00:57,  3.17s/it]"
     ]
    },
    {
     "name": "stdout",
     "output_type": "stream",
     "text": [
      "here\n",
      "here\n",
      "here\n",
      "here\n",
      "here\n",
      "here\n",
      "here\n",
      "here\n",
      "here\n",
      "here\n",
      "here\n"
     ]
    },
    {
     "name": "stderr",
     "output_type": "stream",
     "text": [
      " 66%|██████▌   | 33/50 [01:46<00:53,  3.14s/it]"
     ]
    },
    {
     "name": "stdout",
     "output_type": "stream",
     "text": [
      "here\n",
      "here\n",
      "here\n",
      "here\n",
      "here\n",
      "here\n",
      "here\n",
      "here\n",
      "here\n",
      "here\n",
      "here\n"
     ]
    },
    {
     "name": "stderr",
     "output_type": "stream",
     "text": [
      " 68%|██████▊   | 34/50 [01:49<00:51,  3.22s/it]"
     ]
    },
    {
     "name": "stdout",
     "output_type": "stream",
     "text": [
      "here\n",
      "here\n",
      "here\n",
      "here\n",
      "here\n",
      "here\n",
      "here\n",
      "here\n",
      "here\n",
      "here\n",
      "here\n"
     ]
    },
    {
     "name": "stderr",
     "output_type": "stream",
     "text": [
      " 70%|███████   | 35/50 [01:52<00:47,  3.17s/it]"
     ]
    },
    {
     "name": "stdout",
     "output_type": "stream",
     "text": [
      "here\n",
      "here\n",
      "here\n",
      "here\n",
      "here\n",
      "here\n",
      "here\n",
      "here\n",
      "here\n",
      "here\n",
      "here\n"
     ]
    },
    {
     "name": "stderr",
     "output_type": "stream",
     "text": [
      " 72%|███████▏  | 36/50 [01:56<00:46,  3.30s/it]"
     ]
    },
    {
     "name": "stdout",
     "output_type": "stream",
     "text": [
      "here\n",
      "here\n",
      "here\n",
      "here\n",
      "here\n",
      "here\n",
      "here\n",
      "here\n",
      "here\n",
      "here\n",
      "here\n"
     ]
    },
    {
     "name": "stderr",
     "output_type": "stream",
     "text": [
      " 74%|███████▍  | 37/50 [01:59<00:42,  3.23s/it]"
     ]
    },
    {
     "name": "stdout",
     "output_type": "stream",
     "text": [
      "here\n",
      "here\n",
      "here\n",
      "here\n",
      "here\n",
      "here\n",
      "here\n",
      "here\n",
      "here\n",
      "here\n",
      "here\n"
     ]
    },
    {
     "name": "stderr",
     "output_type": "stream",
     "text": [
      " 76%|███████▌  | 38/50 [02:02<00:39,  3.29s/it]"
     ]
    },
    {
     "name": "stdout",
     "output_type": "stream",
     "text": [
      "here\n",
      "here\n",
      "here\n",
      "here\n",
      "here\n",
      "here\n",
      "here\n",
      "here\n",
      "here\n",
      "here\n",
      "here\n"
     ]
    },
    {
     "name": "stderr",
     "output_type": "stream",
     "text": [
      " 78%|███████▊  | 39/50 [02:05<00:35,  3.23s/it]"
     ]
    },
    {
     "name": "stdout",
     "output_type": "stream",
     "text": [
      "here\n",
      "here\n",
      "here\n",
      "here\n",
      "here\n",
      "here\n",
      "here\n",
      "here\n",
      "here\n",
      "here\n",
      "here\n"
     ]
    },
    {
     "name": "stderr",
     "output_type": "stream",
     "text": [
      " 80%|████████  | 40/50 [02:08<00:31,  3.14s/it]"
     ]
    },
    {
     "name": "stdout",
     "output_type": "stream",
     "text": [
      "here\n",
      "here\n",
      "here\n",
      "here\n",
      "here\n",
      "here\n",
      "here\n",
      "here\n",
      "here\n",
      "here\n",
      "here\n"
     ]
    },
    {
     "name": "stderr",
     "output_type": "stream",
     "text": [
      " 82%|████████▏ | 41/50 [02:11<00:27,  3.11s/it]"
     ]
    },
    {
     "name": "stdout",
     "output_type": "stream",
     "text": [
      "here\n",
      "here\n",
      "here\n",
      "here\n",
      "here\n",
      "here\n",
      "here\n",
      "here\n",
      "here\n",
      "here\n",
      "here\n"
     ]
    },
    {
     "name": "stderr",
     "output_type": "stream",
     "text": [
      " 84%|████████▍ | 42/50 [02:15<00:24,  3.10s/it]"
     ]
    },
    {
     "name": "stdout",
     "output_type": "stream",
     "text": [
      "here\n",
      "here\n",
      "here\n",
      "here\n",
      "here\n",
      "here\n",
      "here\n",
      "here\n",
      "here\n",
      "here\n",
      "here\n"
     ]
    },
    {
     "name": "stderr",
     "output_type": "stream",
     "text": [
      " 86%|████████▌ | 43/50 [02:18<00:21,  3.10s/it]"
     ]
    },
    {
     "name": "stdout",
     "output_type": "stream",
     "text": [
      "here\n",
      "here\n",
      "here\n",
      "here\n",
      "here\n",
      "here\n",
      "here\n",
      "here\n",
      "here\n",
      "here\n",
      "here\n"
     ]
    },
    {
     "name": "stderr",
     "output_type": "stream",
     "text": [
      " 88%|████████▊ | 44/50 [02:21<00:19,  3.27s/it]"
     ]
    },
    {
     "name": "stdout",
     "output_type": "stream",
     "text": [
      "here\n",
      "here\n",
      "here\n",
      "here\n",
      "here\n",
      "here\n",
      "here\n",
      "here\n",
      "here\n",
      "here\n",
      "here\n"
     ]
    },
    {
     "name": "stderr",
     "output_type": "stream",
     "text": [
      " 90%|█████████ | 45/50 [02:24<00:15,  3.16s/it]"
     ]
    },
    {
     "name": "stdout",
     "output_type": "stream",
     "text": [
      "here\n",
      "here\n",
      "here\n",
      "here\n",
      "here\n",
      "here\n",
      "here\n",
      "here\n",
      "here\n",
      "here\n",
      "here\n"
     ]
    },
    {
     "name": "stderr",
     "output_type": "stream",
     "text": [
      " 92%|█████████▏| 46/50 [02:28<00:13,  3.31s/it]"
     ]
    },
    {
     "name": "stdout",
     "output_type": "stream",
     "text": [
      "here\n",
      "here\n",
      "here\n",
      "here\n",
      "here\n",
      "here\n",
      "here\n",
      "here\n",
      "here\n",
      "here\n",
      "here\n"
     ]
    },
    {
     "name": "stderr",
     "output_type": "stream",
     "text": [
      " 94%|█████████▍| 47/50 [02:31<00:09,  3.27s/it]"
     ]
    },
    {
     "name": "stdout",
     "output_type": "stream",
     "text": [
      "here\n",
      "here\n",
      "here\n",
      "here\n",
      "here\n",
      "here\n",
      "here\n",
      "here\n",
      "here\n",
      "here\n",
      "here\n"
     ]
    },
    {
     "name": "stderr",
     "output_type": "stream",
     "text": [
      " 96%|█████████▌| 48/50 [02:34<00:06,  3.32s/it]"
     ]
    },
    {
     "name": "stdout",
     "output_type": "stream",
     "text": [
      "here\n",
      "here\n",
      "here\n",
      "here\n",
      "here\n",
      "here\n",
      "here\n",
      "here\n",
      "here\n",
      "here\n",
      "here\n"
     ]
    },
    {
     "name": "stderr",
     "output_type": "stream",
     "text": [
      " 98%|█████████▊| 49/50 [02:38<00:03,  3.26s/it]"
     ]
    },
    {
     "name": "stdout",
     "output_type": "stream",
     "text": [
      "here\n",
      "here\n",
      "here\n",
      "here\n",
      "here\n",
      "here\n",
      "here\n",
      "here\n",
      "here\n",
      "here\n",
      "here\n"
     ]
    },
    {
     "name": "stderr",
     "output_type": "stream",
     "text": [
      "100%|██████████| 50/50 [02:41<00:00,  3.24s/it]\n"
     ]
    }
   ],
   "source": [
    "# state punishment level ~ state value estimation\n",
    "v_vals_mean = []\n",
    "probs = []\n",
    "for seed in trange(50):\n",
    "    for prob in np.arange(0, 1.1, 0.1):\n",
    "        _, _, action_values_lst = run_test(\n",
    "            seed=seed,\n",
    "            clear_world=[], \n",
    "            max_turns=1, \n",
    "            state_punishment_prob=prob,\n",
    "            model_prefix=model_name,\n",
    "            algo='iqn',\n",
    "            config_path='../configs/config_with_vote_composite_study1_probe_test.yaml',\n",
    "            )\n",
    "        action_values_lst = [val[0].max() for val in action_values_lst]\n",
    "        v_vals_mean.append(torch.stack(action_values_lst).numpy().mean())\n",
    "        probs.append(prob)\n",
    "# plt.plot(np.arange(0, 1.1, 0.1), v_vals_mean, 'o-')"
   ]
  },
  {
   "cell_type": "code",
   "execution_count": 27,
   "metadata": {},
   "outputs": [
    {
     "data": {
      "image/png": "[encoded data removed]",
      "text/plain": [
       "<Figure size 800x500 with 1 Axes>"
      ]
     },
     "metadata": {},
     "output_type": "display_data"
    }
   ],
   "source": [
    "x = probs\n",
    "y = v_vals_mean\n",
    "\n",
    "plot_quadratic_curve(x, y, ylabel='State value estimation')"
   ]
  },
  {
   "cell_type": "code",
   "execution_count": 14,
   "metadata": {},
   "outputs": [
    {
     "name": "stderr",
     "output_type": "stream",
     "text": [
      "  0%|          | 0/50 [00:00<?, ?it/s]"
     ]
    },
    {
     "name": "stdout",
     "output_type": "stream",
     "text": [
      "here\n",
      "here\n",
      "here\n",
      "here\n",
      "here\n",
      "here\n",
      "here\n",
      "here\n",
      "here\n",
      "here\n",
      "here\n"
     ]
    },
    {
     "name": "stderr",
     "output_type": "stream",
     "text": [
      "  2%|▏         | 1/50 [00:03<02:48,  3.44s/it]"
     ]
    },
    {
     "name": "stdout",
     "output_type": "stream",
     "text": [
      "here\n",
      "here\n",
      "here\n",
      "here\n",
      "here\n",
      "here\n",
      "here\n",
      "here\n",
      "here\n",
      "here\n",
      "here\n"
     ]
    },
    {
     "name": "stderr",
     "output_type": "stream",
     "text": [
      "  4%|▍         | 2/50 [00:06<02:29,  3.11s/it]"
     ]
    },
    {
     "name": "stdout",
     "output_type": "stream",
     "text": [
      "here\n",
      "here\n",
      "here\n",
      "here\n",
      "here\n",
      "here\n",
      "here\n",
      "here\n",
      "here\n",
      "here\n",
      "here\n"
     ]
    },
    {
     "name": "stderr",
     "output_type": "stream",
     "text": [
      "  6%|▌         | 3/50 [00:09<02:30,  3.21s/it]"
     ]
    },
    {
     "name": "stdout",
     "output_type": "stream",
     "text": [
      "here\n",
      "here\n",
      "here\n",
      "here\n",
      "here\n",
      "here\n",
      "here\n",
      "here\n",
      "here\n",
      "here\n",
      "here\n"
     ]
    },
    {
     "name": "stderr",
     "output_type": "stream",
     "text": [
      "  8%|▊         | 4/50 [00:12<02:19,  3.04s/it]"
     ]
    },
    {
     "name": "stdout",
     "output_type": "stream",
     "text": [
      "here\n",
      "here\n",
      "here\n",
      "here\n",
      "here\n",
      "here\n",
      "here\n",
      "here\n",
      "here\n",
      "here\n",
      "here\n"
     ]
    },
    {
     "name": "stderr",
     "output_type": "stream",
     "text": [
      " 10%|█         | 5/50 [00:15<02:15,  3.00s/it]"
     ]
    },
    {
     "name": "stdout",
     "output_type": "stream",
     "text": [
      "here\n",
      "here\n",
      "here\n",
      "here\n",
      "here\n",
      "here\n",
      "here\n",
      "here\n",
      "here\n",
      "here\n",
      "here\n"
     ]
    },
    {
     "name": "stderr",
     "output_type": "stream",
     "text": [
      " 12%|█▏        | 6/50 [00:18<02:10,  2.98s/it]"
     ]
    },
    {
     "name": "stdout",
     "output_type": "stream",
     "text": [
      "here\n",
      "here\n",
      "here\n",
      "here\n",
      "here\n",
      "here\n",
      "here\n",
      "here\n",
      "here\n",
      "here\n",
      "here\n"
     ]
    },
    {
     "name": "stderr",
     "output_type": "stream",
     "text": [
      " 14%|█▍        | 7/50 [00:21<02:09,  3.02s/it]"
     ]
    },
    {
     "name": "stdout",
     "output_type": "stream",
     "text": [
      "here\n",
      "here\n",
      "here\n",
      "here\n",
      "here\n",
      "here\n",
      "here\n",
      "here\n",
      "here\n",
      "here\n",
      "here\n"
     ]
    },
    {
     "name": "stderr",
     "output_type": "stream",
     "text": [
      " 16%|█▌        | 8/50 [00:25<02:15,  3.22s/it]"
     ]
    },
    {
     "name": "stdout",
     "output_type": "stream",
     "text": [
      "here\n",
      "here\n",
      "here\n",
      "here\n",
      "here\n",
      "here\n",
      "here\n",
      "here\n",
      "here\n",
      "here\n",
      "here\n"
     ]
    },
    {
     "name": "stderr",
     "output_type": "stream",
     "text": [
      " 18%|█▊        | 9/50 [00:28<02:15,  3.31s/it]"
     ]
    },
    {
     "name": "stdout",
     "output_type": "stream",
     "text": [
      "here\n",
      "here\n",
      "here\n",
      "here\n",
      "here\n",
      "here\n",
      "here\n",
      "here\n",
      "here\n",
      "here\n",
      "here\n"
     ]
    },
    {
     "name": "stderr",
     "output_type": "stream",
     "text": [
      " 20%|██        | 10/50 [00:31<02:05,  3.14s/it]"
     ]
    },
    {
     "name": "stdout",
     "output_type": "stream",
     "text": [
      "here\n",
      "here\n",
      "here\n",
      "here\n",
      "here\n",
      "here\n",
      "here\n",
      "here\n",
      "here\n",
      "here\n",
      "here\n"
     ]
    },
    {
     "name": "stderr",
     "output_type": "stream",
     "text": [
      " 22%|██▏       | 11/50 [00:34<01:58,  3.04s/it]"
     ]
    },
    {
     "name": "stdout",
     "output_type": "stream",
     "text": [
      "here\n",
      "here\n",
      "here\n",
      "here\n",
      "here\n",
      "here\n",
      "here\n",
      "here\n",
      "here\n",
      "here\n",
      "here\n"
     ]
    },
    {
     "name": "stderr",
     "output_type": "stream",
     "text": [
      " 24%|██▍       | 12/50 [00:37<02:01,  3.19s/it]"
     ]
    },
    {
     "name": "stdout",
     "output_type": "stream",
     "text": [
      "here\n",
      "here\n",
      "here\n",
      "here\n",
      "here\n",
      "here\n",
      "here\n",
      "here\n",
      "here\n",
      "here\n",
      "here\n"
     ]
    },
    {
     "name": "stderr",
     "output_type": "stream",
     "text": [
      " 26%|██▌       | 13/50 [00:40<01:54,  3.09s/it]"
     ]
    },
    {
     "name": "stdout",
     "output_type": "stream",
     "text": [
      "here\n",
      "here\n",
      "here\n",
      "here\n",
      "here\n",
      "here\n",
      "here\n",
      "here\n",
      "here\n",
      "here\n",
      "here\n"
     ]
    },
    {
     "name": "stderr",
     "output_type": "stream",
     "text": [
      " 28%|██▊       | 14/50 [00:43<01:49,  3.03s/it]"
     ]
    },
    {
     "name": "stdout",
     "output_type": "stream",
     "text": [
      "here\n",
      "here\n",
      "here\n",
      "here\n",
      "here\n",
      "here\n",
      "here\n",
      "here\n",
      "here\n",
      "here\n",
      "here\n"
     ]
    },
    {
     "name": "stderr",
     "output_type": "stream",
     "text": [
      " 30%|███       | 15/50 [00:47<01:52,  3.22s/it]"
     ]
    },
    {
     "name": "stdout",
     "output_type": "stream",
     "text": [
      "here\n",
      "here\n",
      "here\n",
      "here\n",
      "here\n",
      "here\n",
      "here\n",
      "here\n",
      "here\n",
      "here\n",
      "here\n"
     ]
    },
    {
     "name": "stderr",
     "output_type": "stream",
     "text": [
      " 32%|███▏      | 16/50 [00:50<01:47,  3.16s/it]"
     ]
    },
    {
     "name": "stdout",
     "output_type": "stream",
     "text": [
      "here\n",
      "here\n",
      "here\n",
      "here\n",
      "here\n",
      "here\n",
      "here\n",
      "here\n",
      "here\n",
      "here\n",
      "here\n"
     ]
    },
    {
     "name": "stderr",
     "output_type": "stream",
     "text": [
      " 34%|███▍      | 17/50 [00:53<01:45,  3.18s/it]"
     ]
    },
    {
     "name": "stdout",
     "output_type": "stream",
     "text": [
      "here\n",
      "here\n",
      "here\n",
      "here\n",
      "here\n",
      "here\n",
      "here\n",
      "here\n",
      "here\n",
      "here\n",
      "here\n"
     ]
    },
    {
     "name": "stderr",
     "output_type": "stream",
     "text": [
      " 36%|███▌      | 18/50 [00:56<01:43,  3.23s/it]"
     ]
    },
    {
     "name": "stdout",
     "output_type": "stream",
     "text": [
      "here\n",
      "here\n",
      "here\n",
      "here\n",
      "here\n",
      "here\n",
      "here\n",
      "here\n",
      "here\n",
      "here\n",
      "here\n"
     ]
    },
    {
     "name": "stderr",
     "output_type": "stream",
     "text": [
      " 38%|███▊      | 19/50 [00:59<01:37,  3.13s/it]"
     ]
    },
    {
     "name": "stdout",
     "output_type": "stream",
     "text": [
      "here\n",
      "here\n",
      "here\n",
      "here\n",
      "here\n",
      "here\n",
      "here\n",
      "here\n",
      "here\n",
      "here\n",
      "here\n"
     ]
    },
    {
     "name": "stderr",
     "output_type": "stream",
     "text": [
      " 40%|████      | 20/50 [01:02<01:35,  3.17s/it]"
     ]
    },
    {
     "name": "stdout",
     "output_type": "stream",
     "text": [
      "here\n",
      "here\n",
      "here\n",
      "here\n",
      "here\n",
      "here\n",
      "here\n",
      "here\n",
      "here\n",
      "here\n",
      "here\n"
     ]
    },
    {
     "name": "stderr",
     "output_type": "stream",
     "text": [
      " 42%|████▏     | 21/50 [01:05<01:30,  3.10s/it]"
     ]
    },
    {
     "name": "stdout",
     "output_type": "stream",
     "text": [
      "here\n",
      "here\n",
      "here\n",
      "here\n",
      "here\n",
      "here\n",
      "here\n",
      "here\n",
      "here\n",
      "here\n",
      "here\n"
     ]
    },
    {
     "name": "stderr",
     "output_type": "stream",
     "text": [
      " 44%|████▍     | 22/50 [01:09<01:29,  3.20s/it]"
     ]
    },
    {
     "name": "stdout",
     "output_type": "stream",
     "text": [
      "here\n",
      "here\n",
      "here\n",
      "here\n",
      "here\n",
      "here\n",
      "here\n",
      "here\n",
      "here\n",
      "here\n",
      "here\n"
     ]
    },
    {
     "name": "stderr",
     "output_type": "stream",
     "text": [
      " 46%|████▌     | 23/50 [01:12<01:31,  3.37s/it]"
     ]
    },
    {
     "name": "stdout",
     "output_type": "stream",
     "text": [
      "here\n",
      "here\n",
      "here\n",
      "here\n",
      "here\n",
      "here\n",
      "here\n",
      "here\n",
      "here\n",
      "here\n",
      "here\n"
     ]
    },
    {
     "name": "stderr",
     "output_type": "stream",
     "text": [
      " 48%|████▊     | 24/50 [01:15<01:24,  3.25s/it]"
     ]
    },
    {
     "name": "stdout",
     "output_type": "stream",
     "text": [
      "here\n",
      "here\n",
      "here\n",
      "here\n",
      "here\n",
      "here\n",
      "here\n",
      "here\n",
      "here\n",
      "here\n",
      "here\n"
     ]
    },
    {
     "name": "stderr",
     "output_type": "stream",
     "text": [
      " 50%|█████     | 25/50 [01:19<01:20,  3.21s/it]"
     ]
    },
    {
     "name": "stdout",
     "output_type": "stream",
     "text": [
      "here\n",
      "here\n",
      "here\n",
      "here\n",
      "here\n",
      "here\n",
      "here\n",
      "here\n",
      "here\n",
      "here\n",
      "here\n"
     ]
    },
    {
     "name": "stderr",
     "output_type": "stream",
     "text": [
      " 52%|█████▏    | 26/50 [01:22<01:16,  3.19s/it]"
     ]
    },
    {
     "name": "stdout",
     "output_type": "stream",
     "text": [
      "here\n",
      "here\n",
      "here\n",
      "here\n",
      "here\n",
      "here\n",
      "here\n",
      "here\n",
      "here\n",
      "here\n",
      "here\n"
     ]
    },
    {
     "name": "stderr",
     "output_type": "stream",
     "text": [
      " 54%|█████▍    | 27/50 [01:25<01:11,  3.09s/it]"
     ]
    },
    {
     "name": "stdout",
     "output_type": "stream",
     "text": [
      "here\n",
      "here\n",
      "here\n",
      "here\n",
      "here\n",
      "here\n",
      "here\n",
      "here\n",
      "here\n",
      "here\n",
      "here\n"
     ]
    },
    {
     "name": "stderr",
     "output_type": "stream",
     "text": [
      " 56%|█████▌    | 28/50 [01:28<01:10,  3.19s/it]"
     ]
    },
    {
     "name": "stdout",
     "output_type": "stream",
     "text": [
      "here\n",
      "here\n",
      "here\n",
      "here\n",
      "here\n",
      "here\n",
      "here\n",
      "here\n",
      "here\n",
      "here\n",
      "here\n"
     ]
    },
    {
     "name": "stderr",
     "output_type": "stream",
     "text": [
      " 58%|█████▊    | 29/50 [01:31<01:05,  3.13s/it]"
     ]
    },
    {
     "name": "stdout",
     "output_type": "stream",
     "text": [
      "here\n",
      "here\n",
      "here\n",
      "here\n",
      "here\n",
      "here\n",
      "here\n",
      "here\n",
      "here\n",
      "here\n",
      "here\n"
     ]
    },
    {
     "name": "stderr",
     "output_type": "stream",
     "text": [
      " 60%|██████    | 30/50 [01:34<01:03,  3.19s/it]"
     ]
    },
    {
     "name": "stdout",
     "output_type": "stream",
     "text": [
      "here\n",
      "here\n",
      "here\n",
      "here\n",
      "here\n",
      "here\n",
      "here\n",
      "here\n",
      "here\n",
      "here\n",
      "here\n"
     ]
    },
    {
     "name": "stderr",
     "output_type": "stream",
     "text": [
      " 62%|██████▏   | 31/50 [01:38<01:00,  3.20s/it]"
     ]
    },
    {
     "name": "stdout",
     "output_type": "stream",
     "text": [
      "here\n",
      "here\n",
      "here\n",
      "here\n",
      "here\n",
      "here\n",
      "here\n",
      "here\n",
      "here\n",
      "here\n",
      "here\n"
     ]
    },
    {
     "name": "stderr",
     "output_type": "stream",
     "text": [
      " 64%|██████▍   | 32/50 [01:41<00:56,  3.15s/it]"
     ]
    },
    {
     "name": "stdout",
     "output_type": "stream",
     "text": [
      "here\n",
      "here\n",
      "here\n",
      "here\n",
      "here\n",
      "here\n",
      "here\n",
      "here\n",
      "here\n",
      "here\n",
      "here\n"
     ]
    },
    {
     "name": "stderr",
     "output_type": "stream",
     "text": [
      " 66%|██████▌   | 33/50 [01:44<00:55,  3.25s/it]"
     ]
    },
    {
     "name": "stdout",
     "output_type": "stream",
     "text": [
      "here\n",
      "here\n",
      "here\n",
      "here\n",
      "here\n",
      "here\n",
      "here\n",
      "here\n",
      "here\n",
      "here\n",
      "here\n"
     ]
    },
    {
     "name": "stderr",
     "output_type": "stream",
     "text": [
      " 68%|██████▊   | 34/50 [01:47<00:49,  3.08s/it]"
     ]
    },
    {
     "name": "stdout",
     "output_type": "stream",
     "text": [
      "here\n",
      "here\n",
      "here\n",
      "here\n",
      "here\n",
      "here\n",
      "here\n",
      "here\n",
      "here\n",
      "here\n",
      "here\n"
     ]
    },
    {
     "name": "stderr",
     "output_type": "stream",
     "text": [
      " 70%|███████   | 35/50 [01:50<00:47,  3.16s/it]"
     ]
    },
    {
     "name": "stdout",
     "output_type": "stream",
     "text": [
      "here\n",
      "here\n",
      "here\n",
      "here\n",
      "here\n",
      "here\n",
      "here\n",
      "here\n",
      "here\n",
      "here\n"
     ]
    },
    {
     "name": "stderr",
     "output_type": "stream",
     "text": [
      " 72%|███████▏  | 36/50 [01:53<00:43,  3.10s/it]"
     ]
    },
    {
     "name": "stdout",
     "output_type": "stream",
     "text": [
      "here\n",
      "here\n",
      "here\n",
      "here\n",
      "here\n",
      "here\n",
      "here\n",
      "here\n",
      "here\n",
      "here\n",
      "here\n",
      "here\n"
     ]
    },
    {
     "name": "stderr",
     "output_type": "stream",
     "text": [
      " 74%|███████▍  | 37/50 [01:56<00:40,  3.11s/it]"
     ]
    },
    {
     "name": "stdout",
     "output_type": "stream",
     "text": [
      "here\n",
      "here\n",
      "here\n",
      "here\n",
      "here\n",
      "here\n",
      "here\n",
      "here\n",
      "here\n",
      "here\n",
      "here\n"
     ]
    },
    {
     "name": "stderr",
     "output_type": "stream",
     "text": [
      " 76%|███████▌  | 38/50 [01:59<00:37,  3.16s/it]"
     ]
    },
    {
     "name": "stdout",
     "output_type": "stream",
     "text": [
      "here\n",
      "here\n",
      "here\n",
      "here\n",
      "here\n",
      "here\n",
      "here\n",
      "here\n",
      "here\n",
      "here\n",
      "here\n"
     ]
    },
    {
     "name": "stderr",
     "output_type": "stream",
     "text": [
      " 78%|███████▊  | 39/50 [02:03<00:36,  3.27s/it]"
     ]
    },
    {
     "name": "stdout",
     "output_type": "stream",
     "text": [
      "here\n",
      "here\n",
      "here\n",
      "here\n",
      "here\n",
      "here\n",
      "here\n",
      "here\n",
      "here\n",
      "here\n",
      "here\n"
     ]
    },
    {
     "name": "stderr",
     "output_type": "stream",
     "text": [
      " 80%|████████  | 40/50 [02:06<00:31,  3.18s/it]"
     ]
    },
    {
     "name": "stdout",
     "output_type": "stream",
     "text": [
      "here\n",
      "here\n",
      "here\n",
      "here\n",
      "here\n",
      "here\n",
      "here\n",
      "here\n",
      "here\n",
      "here\n",
      "here\n"
     ]
    },
    {
     "name": "stderr",
     "output_type": "stream",
     "text": [
      " 82%|████████▏ | 41/50 [02:09<00:28,  3.13s/it]"
     ]
    },
    {
     "name": "stdout",
     "output_type": "stream",
     "text": [
      "here\n",
      "here\n",
      "here\n",
      "here\n",
      "here\n",
      "here\n",
      "here\n",
      "here\n",
      "here\n",
      "here\n",
      "here\n"
     ]
    },
    {
     "name": "stderr",
     "output_type": "stream",
     "text": [
      " 84%|████████▍ | 42/50 [02:13<00:26,  3.28s/it]"
     ]
    },
    {
     "name": "stdout",
     "output_type": "stream",
     "text": [
      "here\n",
      "here\n",
      "here\n",
      "here\n",
      "here\n",
      "here\n",
      "here\n",
      "here\n",
      "here\n",
      "here\n",
      "here\n"
     ]
    },
    {
     "name": "stderr",
     "output_type": "stream",
     "text": [
      " 86%|████████▌ | 43/50 [02:15<00:22,  3.16s/it]"
     ]
    },
    {
     "name": "stdout",
     "output_type": "stream",
     "text": [
      "here\n",
      "here\n",
      "here\n",
      "here\n",
      "here\n",
      "here\n",
      "here\n",
      "here\n",
      "here\n",
      "here\n",
      "here\n"
     ]
    },
    {
     "name": "stderr",
     "output_type": "stream",
     "text": [
      " 88%|████████▊ | 44/50 [02:18<00:18,  3.05s/it]"
     ]
    },
    {
     "name": "stdout",
     "output_type": "stream",
     "text": [
      "here\n",
      "here\n",
      "here\n",
      "here\n",
      "here\n",
      "here\n",
      "here\n",
      "here\n",
      "here\n",
      "here\n",
      "here\n"
     ]
    },
    {
     "name": "stderr",
     "output_type": "stream",
     "text": [
      " 90%|█████████ | 45/50 [02:22<00:16,  3.20s/it]"
     ]
    },
    {
     "name": "stdout",
     "output_type": "stream",
     "text": [
      "here\n",
      "here\n",
      "here\n",
      "here\n",
      "here\n",
      "here\n",
      "here\n",
      "here\n",
      "here\n",
      "here\n",
      "here\n"
     ]
    },
    {
     "name": "stderr",
     "output_type": "stream",
     "text": [
      " 92%|█████████▏| 46/50 [02:25<00:12,  3.13s/it]"
     ]
    },
    {
     "name": "stdout",
     "output_type": "stream",
     "text": [
      "here\n",
      "here\n",
      "here\n",
      "here\n",
      "here\n",
      "here\n",
      "here\n",
      "here\n",
      "here\n",
      "here\n",
      "here\n"
     ]
    },
    {
     "name": "stderr",
     "output_type": "stream",
     "text": [
      " 94%|█████████▍| 47/50 [02:28<00:09,  3.04s/it]"
     ]
    },
    {
     "name": "stdout",
     "output_type": "stream",
     "text": [
      "here\n",
      "here\n",
      "here\n",
      "here\n",
      "here\n",
      "here\n",
      "here\n",
      "here\n",
      "here\n",
      "here\n",
      "here\n"
     ]
    },
    {
     "name": "stderr",
     "output_type": "stream",
     "text": [
      " 96%|█████████▌| 48/50 [02:31<00:06,  3.04s/it]"
     ]
    },
    {
     "name": "stdout",
     "output_type": "stream",
     "text": [
      "here\n",
      "here\n",
      "here\n",
      "here\n",
      "here\n",
      "here\n",
      "here\n",
      "here\n",
      "here\n",
      "here\n",
      "here\n"
     ]
    },
    {
     "name": "stderr",
     "output_type": "stream",
     "text": [
      " 98%|█████████▊| 49/50 [02:33<00:02,  2.95s/it]"
     ]
    },
    {
     "name": "stdout",
     "output_type": "stream",
     "text": [
      "here\n",
      "here\n",
      "here\n",
      "here\n",
      "here\n",
      "here\n",
      "here\n",
      "here\n",
      "here\n",
      "here\n",
      "here\n"
     ]
    },
    {
     "name": "stderr",
     "output_type": "stream",
     "text": [
      "100%|██████████| 50/50 [02:37<00:00,  3.15s/it]\n"
     ]
    }
   ],
   "source": [
    "# punishment level ~ voting intention\n",
    "vote_for_prob = []\n",
    "vote_against_prob = []\n",
    "probs = []\n",
    "\n",
    "for seed in trange(50):\n",
    "    for prob in np.arange(0, 1.1, 0.1):\n",
    "        _, _, action_values_lst = run_test(\n",
    "            seed=seed, \n",
    "            clear_world=[], \n",
    "            max_turns=1, \n",
    "            state_punishment_prob=prob,\n",
    "            model_prefix=model_name,\n",
    "            config_path='../configs/config_with_vote_composite_study1_probe_test.yaml'\n",
    "        )\n",
    "        action_values_lst = [val[0] for val in action_values_lst]\n",
    "        vote_for_prob_val_mean = softmax(torch.stack(action_values_lst).numpy().squeeze(), axis=-1)[:, 4].mean()\n",
    "        vote_against_prob_val_mean = softmax(torch.stack(action_values_lst).numpy().squeeze(), axis=-1)[:, 5].mean()\n",
    "        vote_for_prob.append(vote_for_prob_val_mean)\n",
    "        vote_against_prob.append(vote_against_prob_val_mean)\n",
    "        probs.append(prob)\n"
   ]
  },
  {
   "cell_type": "code",
   "execution_count": 15,
   "metadata": {},
   "outputs": [
    {
     "name": "stdout",
     "output_type": "stream",
     "text": [
      "                                 OLS Regression Results                                \n",
      "=======================================================================================\n",
      "Dep. Variable:                      y   R-squared (uncentered):                   0.372\n",
      "Model:                            OLS   Adj. R-squared (uncentered):              0.371\n",
      "Method:                 Least Squares   F-statistic:                              325.9\n",
      "Date:                Fri, 08 Aug 2025   Prob (F-statistic):                    1.57e-57\n",
      "Time:                        13:09:12   Log-Likelihood:                          430.02\n",
      "No. Observations:                 550   AIC:                                     -858.0\n",
      "Df Residuals:                     549   BIC:                                     -853.7\n",
      "Df Model:                           1                                                  \n",
      "Covariance Type:            nonrobust                                                  \n",
      "==============================================================================\n",
      "                 coef    std err          t      P>|t|      [0.025      0.975]\n",
      "------------------------------------------------------------------------------\n",
      "x1             0.1442      0.008     18.052      0.000       0.128       0.160\n",
      "==============================================================================\n",
      "Omnibus:                       81.606   Durbin-Watson:                   0.245\n",
      "Prob(Omnibus):                  0.000   Jarque-Bera (JB):               36.094\n",
      "Skew:                           0.444   Prob(JB):                     1.45e-08\n",
      "Kurtosis:                       2.113   Cond. No.                         1.00\n",
      "==============================================================================\n",
      "\n",
      "Notes:\n",
      "[1] R² is computed without centering (uncentered) since the model does not contain a constant.\n",
      "[2] Standard Errors assume that the covariance matrix of the errors is correctly specified.\n"
     ]
    },
    {
     "data": {
      "image/png": "[encoded data removed]",
      "text/plain": [
       "<Figure size 800x500 with 1 Axes>"
      ]
     },
     "metadata": {},
     "output_type": "display_data"
    },
    {
     "name": "stdout",
     "output_type": "stream",
     "text": [
      "                                 OLS Regression Results                                \n",
      "=======================================================================================\n",
      "Dep. Variable:                      y   R-squared (uncentered):                   0.474\n",
      "Model:                            OLS   Adj. R-squared (uncentered):              0.473\n",
      "Method:                 Least Squares   F-statistic:                              493.9\n",
      "Date:                Fri, 08 Aug 2025   Prob (F-statistic):                    1.57e-78\n",
      "Time:                        13:09:12   Log-Likelihood:                          1061.5\n",
      "No. Observations:                 550   AIC:                                     -2121.\n",
      "Df Residuals:                     549   BIC:                                     -2117.\n",
      "Df Model:                           1                                                  \n",
      "Covariance Type:            nonrobust                                                  \n",
      "==============================================================================\n",
      "                 coef    std err          t      P>|t|      [0.025      0.975]\n",
      "------------------------------------------------------------------------------\n",
      "x1             0.0563      0.003     22.224      0.000       0.051       0.061\n",
      "==============================================================================\n",
      "Omnibus:                       23.667   Durbin-Watson:                   0.348\n",
      "Prob(Omnibus):                  0.000   Jarque-Bera (JB):               22.092\n",
      "Skew:                           0.436   Prob(JB):                     1.60e-05\n",
      "Kurtosis:                       2.549   Cond. No.                         1.00\n",
      "==============================================================================\n",
      "\n",
      "Notes:\n",
      "[1] R² is computed without centering (uncentered) since the model does not contain a constant.\n",
      "[2] Standard Errors assume that the covariance matrix of the errors is correctly specified.\n"
     ]
    },
    {
     "data": {
      "image/png": "[encoded data removed]",
      "text/plain": [
       "<Figure size 800x500 with 1 Axes>"
      ]
     },
     "metadata": {},
     "output_type": "display_data"
    }
   ],
   "source": [
    "x = probs\n",
    "y = vote_for_prob\n",
    "# Fit OLS model\n",
    "model = sm.OLS(y, x).fit()\n",
    "\n",
    "# Print summary, includes p-values\n",
    "print(model.summary())\n",
    "plot_quadratic_curve(x, y, ylabel='increase')\n",
    "\n",
    "y = vote_against_prob\n",
    "# Fit OLS model\n",
    "model = sm.OLS(y, x).fit()\n",
    "\n",
    "# Print summary, includes p-values\n",
    "print(model.summary())\n",
    "plot_quadratic_curve(x, y, ylabel='decrease')"
   ]
  },
  {
   "cell_type": "code",
   "execution_count": null,
   "metadata": {},
   "outputs": [
    {
     "data": {
      "text/plain": [
       "<matplotlib.legend.Legend at 0x2d0160dd0>"
      ]
     },
     "execution_count": 71,
     "metadata": {},
     "output_type": "execute_result"
    },
    {
     "data": {
      "image/png": "[encoded data removed]",
      "text/plain": [
       "<Figure size 640x480 with 1 Axes>"
      ]
     },
     "metadata": {},
     "output_type": "display_data"
    }
   ],
   "source": [
    "# punishment level ~ voting intention\n",
    "vote_for_prob = []\n",
    "vote_against_prob = []\n",
    "\n",
    "for prob in np.arange(0, 1.1, 0.1):\n",
    "    _, _, action_values_lst = run_test(\n",
    "        clear_world=[], max_turns=1, state_punishment_prob=prob,\n",
    "        model_prefix=model_name,\n",
    "        config_path='../configs/config_with_vote_composite_study1_probe_test.yaml'\n",
    "    )\n",
    "    action_values_lst = [val[0] for val in action_values_lst]\n",
    "    vote_for_prob_val_mean = softmax(torch.stack(action_values_lst).numpy().squeeze(), axis=-1)[:, 4].mean()\n",
    "    vote_against_prob_val_mean = softmax(torch.stack(action_values_lst).numpy().squeeze(), axis=-1)[:, 5].mean()\n",
    "    vote_for_prob.append(vote_for_prob_val_mean)\n",
    "    vote_against_prob.append(vote_against_prob_val_mean)\n",
    "plt.plot(np.arange(0, 1.1, 0.1), vote_for_prob, 'o-', label='vote for')\n",
    "plt.plot(np.arange(0, 1.1, 0.1), vote_against_prob, 'o-', label='vote against')\n",
    "plt.legend()"
   ]
  },
  {
   "cell_type": "code",
   "execution_count": 28,
   "metadata": {},
   "outputs": [
    {
     "name": "stdout",
     "output_type": "stream",
     "text": [
      "vote for [1, 30, 16]\n",
      "vote against [26, 0, 10]\n"
     ]
    }
   ],
   "source": [
    "vote_for, vote_against = run_test(True)\n",
    "print('vote for', vote_for)\n",
    "print('vote against', vote_against)"
   ]
  },
  {
   "cell_type": "code",
   "execution_count": 29,
   "metadata": {},
   "outputs": [
    {
     "name": "stdout",
     "output_type": "stream",
     "text": [
      "vote for [24, 30, 3]\n",
      "vote against [5, 0, 26]\n"
     ]
    }
   ],
   "source": [
    "vote_for, vote_against = run_test(False)\n",
    "print('vote for', vote_for)\n",
    "print('vote against', vote_against)"
   ]
  },
  {
   "cell_type": "markdown",
   "metadata": {},
   "source": [
    "Visualization"
   ]
  },
  {
   "cell_type": "code",
   "execution_count": 33,
   "metadata": {},
   "outputs": [
    {
     "data": {
      "image/png": "[encoded data removed]",
      "text/plain": [
       "<Figure size 640x480 with 1 Axes>"
      ]
     },
     "metadata": {},
     "output_type": "display_data"
    },
    {
     "name": "stdout",
     "output_type": "stream",
     "text": [
      "0.1\n",
      "[0, 0, 0]\n",
      "punishment level 0\n",
      "5\n"
     ]
    },
    {
     "ename": "KeyboardInterrupt",
     "evalue": "",
     "output_type": "error",
     "traceback": [
      "\u001b[0;31m---------------------------------------------------------------------------\u001b[0m",
      "\u001b[0;31mKeyboardInterrupt\u001b[0m                         Traceback (most recent call last)",
      "Cell \u001b[0;32mIn[33], line 163\u001b[0m\n\u001b[1;32m    161\u001b[0m composite_state \u001b[38;5;241m=\u001b[39m agent\u001b[38;5;241m.\u001b[39mgenerate_composite_state(envs)\n\u001b[1;32m    162\u001b[0m \u001b[38;5;66;03m# img = visual_field_sprite(env.world, tile_size = env.tile_size)\u001b[39;00m\n\u001b[0;32m--> 163\u001b[0m img \u001b[38;5;241m=\u001b[39m \u001b[43mcomposite_visualization\u001b[49m\u001b[43m(\u001b[49m\u001b[43menvs\u001b[49m\u001b[43m,\u001b[49m\u001b[43m \u001b[49m\u001b[43mtile_size\u001b[49m\u001b[43m \u001b[49m\u001b[38;5;241;43m=\u001b[39;49m\u001b[43m \u001b[49m\u001b[43mtile_size\u001b[49m\u001b[43m)\u001b[49m\n\u001b[1;32m    164\u001b[0m img \u001b[38;5;241m=\u001b[39m image_from_array(img)\n\u001b[1;32m    165\u001b[0m \u001b[38;5;66;03m# print(agent.model.name)\u001b[39;00m\n\u001b[1;32m    166\u001b[0m \u001b[38;5;66;03m# plt.imshow(img)\u001b[39;00m\n",
      "File \u001b[0;32m~/Documents/state_punishment_May6/agentarium/utils.py:248\u001b[0m, in \u001b[0;36mcomposite_visualization\u001b[0;34m(envs, tile_size)\u001b[0m\n\u001b[1;32m    246\u001b[0m vis_worlds \u001b[38;5;241m=\u001b[39m []\n\u001b[1;32m    247\u001b[0m \u001b[38;5;28;01mfor\u001b[39;00m count, env \u001b[38;5;129;01min\u001b[39;00m \u001b[38;5;28menumerate\u001b[39m(envs):\n\u001b[0;32m--> 248\u001b[0m     vis \u001b[38;5;241m=\u001b[39m \u001b[43mvisual_field_sprite\u001b[49m\u001b[43m(\u001b[49m\u001b[43menv\u001b[49m\u001b[38;5;241;43m.\u001b[39;49m\u001b[43mworld\u001b[49m\u001b[43m,\u001b[49m\u001b[43m \u001b[49m\u001b[43mtile_size\u001b[49m\u001b[38;5;241;43m=\u001b[39;49m\u001b[43menv\u001b[49m\u001b[38;5;241;43m.\u001b[39;49m\u001b[43mtile_size\u001b[49m\u001b[43m)\u001b[49m\n\u001b[1;32m    249\u001b[0m     vis_worlds\u001b[38;5;241m.\u001b[39mappend(vis[\u001b[38;5;241m0\u001b[39m])\n\u001b[1;32m    250\u001b[0m template \u001b[38;5;241m=\u001b[39m np\u001b[38;5;241m.\u001b[39mzeros(vis_worlds[\u001b[38;5;241m0\u001b[39m]\u001b[38;5;241m.\u001b[39mshape, dtype\u001b[38;5;241m=\u001b[39mnp\u001b[38;5;241m.\u001b[39muint8)\n",
      "File \u001b[0;32m~/Documents/state_punishment_May6/agentarium/utils.py:99\u001b[0m, in \u001b[0;36mvisual_field_sprite\u001b[0;34m(world, location, vision, tile_size)\u001b[0m\n\u001b[1;32m     96\u001b[0m \u001b[38;5;28;01melse\u001b[39;00m:\n\u001b[1;32m     97\u001b[0m     tile_appearance \u001b[38;5;241m=\u001b[39m world[i, j, z]\u001b[38;5;241m.\u001b[39msprite\n\u001b[1;32m     98\u001b[0m     tile_image \u001b[38;5;241m=\u001b[39m (\n\u001b[0;32m---> 99\u001b[0m         \u001b[43mImage\u001b[49m\u001b[38;5;241;43m.\u001b[39;49m\u001b[43mopen\u001b[49m\u001b[43m(\u001b[49m\u001b[43mos\u001b[49m\u001b[38;5;241;43m.\u001b[39;49m\u001b[43mpath\u001b[49m\u001b[38;5;241;43m.\u001b[39;49m\u001b[43mexpanduser\u001b[49m\u001b[43m(\u001b[49m\u001b[43mtile_appearance\u001b[49m\u001b[43m)\u001b[49m\u001b[43m)\u001b[49m\n\u001b[1;32m    100\u001b[0m         \u001b[38;5;241m.\u001b[39mresize(tile_size)\n\u001b[1;32m    101\u001b[0m         \u001b[38;5;241m.\u001b[39mconvert(\u001b[38;5;124m\"\u001b[39m\u001b[38;5;124mRGBA\u001b[39m\u001b[38;5;124m\"\u001b[39m)\n\u001b[1;32m    102\u001b[0m     )\n\u001b[1;32m    104\u001b[0m tile_image_array \u001b[38;5;241m=\u001b[39m np\u001b[38;5;241m.\u001b[39marray(tile_image)\n\u001b[1;32m    105\u001b[0m alpha \u001b[38;5;241m=\u001b[39m tile_image_array[:, :, \u001b[38;5;241m3\u001b[39m]\n",
      "File \u001b[0;32m/opt/homebrew/lib/python3.11/site-packages/PIL/Image.py:3218\u001b[0m, in \u001b[0;36mopen\u001b[0;34m(fp, mode, formats)\u001b[0m\n\u001b[1;32m   3215\u001b[0m     filename \u001b[38;5;241m=\u001b[39m fp\n\u001b[1;32m   3217\u001b[0m \u001b[38;5;28;01mif\u001b[39;00m filename:\n\u001b[0;32m-> 3218\u001b[0m     fp \u001b[38;5;241m=\u001b[39m builtins\u001b[38;5;241m.\u001b[39mopen(filename, \u001b[38;5;124m\"\u001b[39m\u001b[38;5;124mrb\u001b[39m\u001b[38;5;124m\"\u001b[39m)\n\u001b[1;32m   3219\u001b[0m     exclusive_fp \u001b[38;5;241m=\u001b[39m \u001b[38;5;28;01mTrue\u001b[39;00m\n\u001b[1;32m   3221\u001b[0m \u001b[38;5;28;01mtry\u001b[39;00m:\n",
      "\u001b[0;31mKeyboardInterrupt\u001b[0m: "
     ]
    }
   ],
   "source": [
    "# composite visualization\n",
    "\n",
    "# --------------- #\n",
    "# region: Imports #\n",
    "import os\n",
    "import sys\n",
    "module_path = os.path.abspath('../../..')\n",
    "if module_path not in sys.path:\n",
    "    sys.path.insert(0, module_path)\n",
    "# endregion       #\n",
    "# --------------- #\n",
    "\n",
    "from examples.state_punishment.utils import (\n",
    "    init_log, parse_args, load_config,\n",
    "    create_models,\n",
    "    create_agents,\n",
    "    create_entities,\n",
    ")\n",
    "config_path = '../configs/config_with_vote_composite_study1.yaml'\n",
    "from examples.state_punishment import agents, entities\n",
    "from examples.state_punishment.env import state_punishment\n",
    "from agentarium.logging_utils import GameLogger\n",
    "from agentarium.models import human_player\n",
    "from agentarium.utils import visual_field_sprite, image_from_array, composite_visualization\n",
    "from examples.state_punishment.state_sys import state_sys\n",
    "from IPython.display import clear_output\n",
    "from matplotlib import pyplot as plt\n",
    "import random\n",
    "import argparse\n",
    "from copy import deepcopy\n",
    "import torch\n",
    "\n",
    "\n",
    "\n",
    "tile_size = 32\n",
    "cfg = load_config(argparse.Namespace(config=config_path))\n",
    "cfg.env.prob.respawn_rate = 0.0\n",
    "cfg.experiment.max_turns = 30\n",
    "clear_world = False\n",
    "\n",
    "# set seed \n",
    "random.seed(cfg.seed)\n",
    "np.random.seed(cfg.seed)\n",
    "torch.manual_seed(cfg.seed)\n",
    "torch.cuda.manual_seed_all(cfg.seed)\n",
    "\n",
    "models = create_models(cfg)\n",
    "agents = create_agents(cfg, models)\n",
    "entities = create_entities(cfg)\n",
    "envs = []\n",
    "for i in range(len(agents)):\n",
    "    envs.append(\n",
    "        state_punishment(cfg, [agents[i]], deepcopy(entities))\n",
    "    )\n",
    "\n",
    "\n",
    "for ixs, agent in enumerate(agents):\n",
    "    if agent.ixs > -1:\n",
    "        agent.model.load(\n",
    "            f'../models/checkpoints/Study1_experiment_cond_v2_improved_punishment_scheme_stacked_view_simple_actions_3agents_respawn_0.04_s1_r1_seed3_agent{agent.ixs}_iRainbowModel.pkl'\n",
    "        )\n",
    "    else:\n",
    "        agent.model = human_player.ModelHumanPlayer(\n",
    "            action_space=4, \n",
    "            state_size = cfg.model.iqn.parameters.state_size, \n",
    "            extra_percept_size = cfg.model.iqn.parameters.extra_percept_size,\n",
    "            memory_size=1, \n",
    "            name=f'human {ixs}')\n",
    "\n",
    "\n",
    "for epoch in range(1):\n",
    "    # Reset the environment at the start of each epoch\n",
    "    for env_ixs, env in enumerate(envs):\n",
    "        env.reset(state_mode='composite')\n",
    "        if clear_world and env_ixs == 1:\n",
    "            env.clear_world(keep_agents=True)\n",
    "        env.cache['harm'] = [0 for _ in range(len(agents))]\n",
    "    images_anim = []\n",
    "    # for agent in env.agents:\n",
    "    #     agent.reset(env)\n",
    "    random.shuffle(agents)\n",
    "\n",
    "    scores = GameLogger(max_epochs=1)\n",
    "\n",
    "   \n",
    "    fixed_prob_dict = {'Gem': cfg.state_sys.prob_list.Gem,\n",
    "                        'Coin': cfg.state_sys.prob_list.Coin,\n",
    "                        'Bone': cfg.state_sys.prob_list.Bone}\n",
    "    \n",
    "    # initialize state system\n",
    "    state_entity = state_sys(\n",
    "            cfg.state_sys.init_prob, \n",
    "            fixed_prob_dict,\n",
    "            cfg.state_sys.magnitude, \n",
    "            cfg.state_sys.taboo,\n",
    "            cfg.state_sys.resource_punishment_is_ambiguous,\n",
    "            cfg.state_sys.potential_taboo,\n",
    "            cfg.state_sys.only_punish_taboo,\n",
    "            cfg = cfg\n",
    "            )\n",
    "\n",
    "    env.cache['harm'] = [0 for _ in range(len(agents))]\n",
    "\n",
    "    done = 0 \n",
    "    turn = 0\n",
    "    losses = 0\n",
    "    game_points = [0 for _ in range(len(agents))]\n",
    "    vote_for = [0 for _ in range(len(agents))]\n",
    "    vote_against = [0 for _ in range(len(agents))]\n",
    "\n",
    "    while not done:\n",
    "\n",
    "        turn = turn + 1\n",
    "\n",
    "        for env in envs:\n",
    "            entities = env.get_entities_for_transition()\n",
    "            # Entity transition\n",
    "            for entity in entities:\n",
    "                entity.transition(env)\n",
    "\n",
    "        # img = visual_field_sprite(env.world, tile_size = env.tile_size)\n",
    "        img = composite_visualization(envs, tile_size = tile_size)\n",
    "        clear_output(wait = True)\n",
    "        # scores.pretty_print(\n",
    "        #      'jupyter-mode',\n",
    "        #      epoch = epoch,\n",
    "        #      turn = turn,\n",
    "        #      reward = game_points,\n",
    "        # )\n",
    "        \n",
    "        img = image_from_array(img)\n",
    "        time.sleep(0.1)\n",
    "        plt.imshow(img)\n",
    "        plt.show()\n",
    "        images_anim.append(img)\n",
    "        print(state_entity.prob)\n",
    "        print(game_points)\n",
    "\n",
    "\n",
    "        # Agent transition\n",
    "        for ixs, agent in enumerate(agents):\n",
    "\n",
    "            (state, action, reward, next_state, done_) = agent.transition(\n",
    "                    envs[agent.ixs], \n",
    "                    state_entity, \n",
    "                    'certain', \n",
    "                    action_mode=cfg.action_mode,\n",
    "                    state_is_composite=cfg.state_mode=='composite',\n",
    "                    envs=envs\n",
    "                    )\n",
    "            # record vote\n",
    "            if action == 4:\n",
    "                vote_for[agent.ixs] += 1\n",
    "            elif action == 5:\n",
    "                vote_against[agent.ixs] += 1\n",
    "\n",
    "            # update state system\n",
    "            print('punishment level', state_entity.level)\n",
    "            if agent.ixs == 0:\n",
    "                print(action)\n",
    "            composite_state = agent.generate_composite_state(envs)\n",
    "            # img = visual_field_sprite(env.world, tile_size = env.tile_size)\n",
    "            img = composite_visualization(envs, tile_size = tile_size)\n",
    "            img = image_from_array(img)\n",
    "            # print(agent.model.name)\n",
    "            # plt.imshow(img)\n",
    "            plt.show()\n",
    "            # if agent.ixs == 0:\n",
    "            #      images_anim.append(img)\n",
    "\n",
    "            if turn >= cfg.experiment.max_turns or done_:\n",
    "                done = 1\n",
    "\n",
    "            exp = (1, (composite_state, action, reward, next_state, done))\n",
    "            # agent.episode_memory.append(exp)\n",
    "            agent.add_memory(state, action, reward, done)\n",
    "\n",
    "            game_points[agent.ixs] += reward\n",
    "\n",
    "print('vote for', vote_for)\n",
    "print('vote against', vote_against)\n"
   ]
  },
  {
   "cell_type": "code",
   "execution_count": 2,
   "metadata": {},
   "outputs": [
    {
     "data": {
      "image/png": "[encoded data removed]",
      "text/plain": [
       "<Figure size 640x480 with 1 Axes>"
      ]
     },
     "metadata": {},
     "output_type": "display_data"
    },
    {
     "name": "stdout",
     "output_type": "stream",
     "text": [
      "0.0\n",
      "[5, 10]\n",
      "Please try again. Possible actions are below.\n",
      "[0 1 2 3 4 5 6 7]\n"
     ]
    },
    {
     "ename": "UnboundLocalError",
     "evalue": "local variable 'action' referenced before assignment",
     "output_type": "error",
     "traceback": [
      "\u001b[0;31m---------------------------------------------------------------------------\u001b[0m",
      "\u001b[0;31mUnboundLocalError\u001b[0m                         Traceback (most recent call last)",
      "Cell \u001b[0;32mIn[2], line 128\u001b[0m\n\u001b[1;32m    120\u001b[0m \u001b[38;5;66;03m# Agent transition\u001b[39;00m\n\u001b[1;32m    121\u001b[0m \u001b[38;5;28;01mfor\u001b[39;00m agent \u001b[38;5;129;01min\u001b[39;00m agents:\n\u001b[1;32m    123\u001b[0m     (state,\n\u001b[1;32m    124\u001b[0m     action,\n\u001b[1;32m    125\u001b[0m     reward,\n\u001b[1;32m    126\u001b[0m     next_state,\n\u001b[1;32m    127\u001b[0m     done_\n\u001b[0;32m--> 128\u001b[0m     ) \u001b[38;5;241m=\u001b[39m \u001b[43magent\u001b[49m\u001b[38;5;241;43m.\u001b[39;49m\u001b[43mtransition\u001b[49m\u001b[43m(\u001b[49m\u001b[43menv\u001b[49m\u001b[43m,\u001b[49m\u001b[43m \u001b[49m\u001b[43mstate_entity\u001b[49m\u001b[43m)\u001b[49m\n\u001b[1;32m    130\u001b[0m     img \u001b[38;5;241m=\u001b[39m visual_field_sprite(env\u001b[38;5;241m.\u001b[39mworld, tile_size \u001b[38;5;241m=\u001b[39m env\u001b[38;5;241m.\u001b[39mtile_size)\n\u001b[1;32m    131\u001b[0m     img \u001b[38;5;241m=\u001b[39m image_from_array(img)\n",
      "File \u001b[0;32m~/Documents/GitHub/agentarium/examples/state_punishment/agents.py:179\u001b[0m, in \u001b[0;36mAgent.transition\u001b[0;34m(self, env, state_sys)\u001b[0m\n\u001b[1;32m    176\u001b[0m reward \u001b[38;5;241m=\u001b[39m \u001b[38;5;241m0\u001b[39m\n\u001b[1;32m    178\u001b[0m \u001b[38;5;66;03m# Take action based on current state\u001b[39;00m\n\u001b[0;32m--> 179\u001b[0m action \u001b[38;5;241m=\u001b[39m \u001b[38;5;28;43mself\u001b[39;49m\u001b[38;5;241;43m.\u001b[39;49m\u001b[43mmodel\u001b[49m\u001b[38;5;241;43m.\u001b[39;49m\u001b[43mtake_action\u001b[49m\u001b[43m(\u001b[49m\u001b[43mmodel_input\u001b[49m\u001b[43m)\u001b[49m\n\u001b[1;32m    181\u001b[0m \u001b[38;5;66;03m# Attempt the transition \u001b[39;00m\n\u001b[1;32m    182\u001b[0m attempted_location \u001b[38;5;241m=\u001b[39m \u001b[38;5;28mself\u001b[39m\u001b[38;5;241m.\u001b[39mmovement(action, state_sys)\n",
      "File \u001b[0;32m~/Documents/GitHub/agentarium/agentarium/models/human_player.py:55\u001b[0m, in \u001b[0;36mModelHumanPlayer.take_action\u001b[0;34m(self, state)\u001b[0m\n\u001b[1;32m     53\u001b[0m     \u001b[38;5;28mprint\u001b[39m(\u001b[38;5;28mself\u001b[39m\u001b[38;5;241m.\u001b[39maction_space)\n\u001b[1;32m     54\u001b[0m     \u001b[38;5;66;03m# we can have iinputType above also be joystick, or other controller\u001b[39;00m\n\u001b[0;32m---> 55\u001b[0m \u001b[38;5;28;01mif\u001b[39;00m \u001b[43maction\u001b[49m \u001b[38;5;129;01mis\u001b[39;00m \u001b[38;5;129;01mnot\u001b[39;00m \u001b[38;5;28;01mNone\u001b[39;00m:\n\u001b[1;32m     56\u001b[0m     \u001b[38;5;28;01mif\u001b[39;00m action \u001b[38;5;129;01min\u001b[39;00m \u001b[38;5;28mself\u001b[39m\u001b[38;5;241m.\u001b[39maction_space:\n\u001b[1;32m     57\u001b[0m         done \u001b[38;5;241m=\u001b[39m \u001b[38;5;241m1\u001b[39m\n",
      "\u001b[0;31mUnboundLocalError\u001b[0m: local variable 'action' referenced before assignment"
     ]
    }
   ],
   "source": [
    "%load_ext autoreload\n",
    "\n",
    "# --------------- #\n",
    "# region: Imports #\n",
    "import os\n",
    "import sys\n",
    "module_path = os.path.abspath('../../..')\n",
    "if module_path not in sys.path:\n",
    "    sys.path.insert(0, module_path)\n",
    "# endregion       #\n",
    "# --------------- #\n",
    "\n",
    "from examples.state_punishment.utils import (\n",
    "    init_log, parse_args, load_config,\n",
    "    create_models,\n",
    "    create_agents,\n",
    "    create_entities,\n",
    ")\n",
    "config_path = '../configs/config_fixed_rate_no_vote.yaml'\n",
    "from examples.state_punishment import agents, entities\n",
    "from examples.state_punishment.env import state_punishment\n",
    "from examples.state_punishment.utils import inspect_the_env\n",
    "from agentarium.logging_utils import GameLogger\n",
    "from agentarium.models import human_player\n",
    "from agentarium.utils import visual_field_sprite, image_from_array\n",
    "from examples.state_punishment.state_sys import state_sys, Monitor\n",
    "from IPython.display import clear_output\n",
    "from matplotlib import pyplot as plt\n",
    "import random\n",
    "import argparse\n",
    "\n",
    "cfg = load_config(argparse.Namespace(config=config_path))\n",
    "\n",
    "models = create_models(cfg)\n",
    "agents = create_agents(cfg, models)\n",
    "entities = create_entities(cfg)\n",
    "env = state_punishment(cfg, agents, entities)\n",
    "\n",
    "\n",
    "for ixs, agent in enumerate(agents):\n",
    "    agent.model = human_player.ModelHumanPlayer(\n",
    "         action_space=8, \n",
    "         state_size = cfg.model.iqn.parameters.state_size, \n",
    "         extra_percept_size = cfg.model.iqn.parameters.extra_percept_size,\n",
    "         memory_size=1, \n",
    "         name=f'human {ixs}')\n",
    "    # agent.model.load(\n",
    "    #      f'../models/checkpoints/fixed_punishment_rate_0.75_twoAs_extra_percept_v2_higher_harm_gem_has_value_save_model_agent{ixs}_iRainbowModel_20241127-04111732699956.pkl')\n",
    "    # agent.model.load(\n",
    "    #      '../models/checkpoints/fixed_punishment_rate_1.0_oneAs_size15_init_spawn_0.2_agent0_iRainbowModel.pkl'\n",
    "    # )\n",
    "    # agent.model.epsilon = 0.01\n",
    "\n",
    "\n",
    "for epoch in range(1):\n",
    "    # Reset the environment at the start of each epoch\n",
    "        env.reset()\n",
    "        images_anim = []\n",
    "        # for agent in env.agents:\n",
    "        #     agent.reset(env)\n",
    "        random.shuffle(agents)\n",
    "\n",
    "        scores = GameLogger(max_epochs=1)\n",
    "\n",
    "        cfg.state_sys.prob_list = {'Gem': cfg.state_sys.prob_list.Gem,\n",
    "                                   'Coin': cfg.state_sys.prob_list.Coin,\n",
    "                                   'Bone': cfg.state_sys.prob_list.Bone}\n",
    "        # initialize state system\n",
    "        state_entity = state_sys(\n",
    "            cfg.state_sys.init_prob, \n",
    "            cfg.state_sys.prob_list, \n",
    "            cfg.state_sys.magnitude, \n",
    "            cfg.state_sys.taboo,\n",
    "            cfg.state_sys.change_per_vote\n",
    "            )\n",
    "        print(state_entity.prob_list)\n",
    "        \n",
    "        monitor = Monitor(2, ['gem'], 15) # initiate monitor\n",
    "        \n",
    "        env.cache['harm'] = [0 for _ in range(len(agents))]\n",
    "\n",
    "        done = 0 \n",
    "        turn = 0\n",
    "        losses = 0\n",
    "        game_points = [0 for _ in range(len(agents))]\n",
    "\n",
    "        while not done:\n",
    "\n",
    "            turn = turn + 1\n",
    "\n",
    "            entities = env.get_entities_for_transition()\n",
    "            # Entity transition\n",
    "            for entity in entities:\n",
    "                entity.transition(env)\n",
    "\n",
    "            img = visual_field_sprite(env.world, tile_size = env.tile_size)\n",
    "            clear_output(wait = True)\n",
    "            # scores.pretty_print(\n",
    "            #      'jupyter-mode',\n",
    "            #      epoch = epoch,\n",
    "            #      turn = turn,\n",
    "            #      reward = game_points,\n",
    "            # )\n",
    "            \n",
    "            img = image_from_array(img)\n",
    "            time.sleep(0.1)\n",
    "            plt.imshow(img)\n",
    "            plt.show()\n",
    "            images_anim.append(img)\n",
    "            print(state_entity.prob)\n",
    "            print(game_points)\n",
    "\n",
    "            # update the record of the monitor\n",
    "            if monitor.time == 0:\n",
    "                new_data = monitor.collect_new_state_info(env, types=None, turn=monitor.time, done=done) ##\n",
    "                \n",
    "                monitor.time_of_next_check()\n",
    "                monitor.update(new_data) ##\n",
    "                print(monitor.wait_time, monitor.check_time)\n",
    "            # Agent transition\n",
    "            for agent in agents:\n",
    "\n",
    "                (state,\n",
    "                action,\n",
    "                reward,\n",
    "                next_state,\n",
    "                done_\n",
    "                ) = agent.transition(env, state_entity)\n",
    "\n",
    "                img = visual_field_sprite(env.world, tile_size = env.tile_size)\n",
    "                img = image_from_array(img)\n",
    "                # print(agent.model.name)\n",
    "                # plt.imshow(img)\n",
    "                plt.show()\n",
    "                # if agent.ixs == 0:\n",
    "                #      images_anim.append(img)\n",
    "\n",
    "                if turn >= cfg.experiment.max_turns or done_:\n",
    "                    done = 1\n",
    "\n",
    "                exp = (1, (state, action, reward, next_state, done))\n",
    "                # agent.episode_memory.append(exp)\n",
    "\n",
    "                game_points[agent.ixs] += reward\n",
    "\n",
    "                print(agent.location)\n",
    "\n",
    "            img = visual_field_sprite(env.world, tile_size = env.tile_size)\n",
    "            clear_output(wait = True)\n",
    "            img = image_from_array(img)\n",
    "            time.sleep(0.1)\n",
    "            plt.imshow(img)\n",
    "            plt.show()\n",
    "\n",
    "            # regular check all resources being monitored\n",
    "            \n",
    "            monitor.time += 1\n",
    "            print(monitor.time, monitor.check_time)\n",
    "            new_data = monitor.collect_new_state_info(env, types=None, turn=monitor.time, done=done) ##\n",
    "            monitor.update(new_data) ##\n",
    "            monitor.regular_check_all_resources(turn, state_entity, agents) ##\n",
    "            monitor.time_of_next_check()\n",
    "            # monitor.time_of_next_check() ##"
   ]
  },
  {
   "cell_type": "code",
   "execution_count": null,
   "metadata": {},
   "outputs": [],
   "source": [
    "for index, _ in np.ndenumerate(env.world[:, :, 0]):\n",
    "    H, W = index  # Get the coordinates\n",
    "    # Return visualization image\n",
    "    print(type(env.world[H, W, 0]), env.world[H, W, 0].appearance)"
   ]
  },
  {
   "cell_type": "code",
   "execution_count": 5,
   "metadata": {},
   "outputs": [],
   "source": [
    "from PIL import Image\n",
    "import imageio.v3 as iio\n",
    "def create_gif_from_arrays(image_arrays, output_path, duration=100, loop=0):\n",
    "    \"\"\"\n",
    "    Create a GIF from a sequence of images in NumPy array format.\n",
    "\n",
    "    Args:\n",
    "        image_arrays (list of np.ndarray): Sequence of images as NumPy arrays.\n",
    "        output_path (str): Path to save the output GIF.\n",
    "        duration (int): Duration of each frame in milliseconds (controls speed).\n",
    "        loop (int): Number of times the GIF should loop (0 for infinite).\n",
    "    \"\"\"\n",
    "    # Convert NumPy arrays to PIL Images\n",
    "    if type(image_arrays[0]) != Image.Image:\n",
    "        pil_images = [Image.fromarray(img) for img in image_arrays]\n",
    "    else:\n",
    "        pil_images = image_arrays\n",
    "    \n",
    "    # Save as GIF\n",
    "    pil_images[0].save(\n",
    "        output_path,\n",
    "        save_all=True,\n",
    "        append_images=pil_images[1:],\n",
    "        duration=duration,\n",
    "        loop=loop\n",
    "    )\n",
    "    print(f\"GIF saved at {output_path}\")\n",
    "\n",
    "\n",
    "def create_gif_iio(images, output_path, fps=10):\n",
    "    \"\"\"\n",
    "    Create a GIF from a list of image arrays using `imageio`.\n",
    "\n",
    "    Args:\n",
    "        images (list of numpy.ndarray): A list of image arrays (e.g., RGB or grayscale).\n",
    "        output_path (str): Path to save the generated GIF.\n",
    "        fps (int): Frames per second, controlling the speed of the GIF.\n",
    "    \"\"\"\n",
    "    # Calculate the duration per frame in seconds\n",
    "    duration_per_frame = 1 / fps\n",
    "    \n",
    "    # Save the GIF\n",
    "    iio.imwrite(output_path, images, format=\"GIF\", duration=duration_per_frame)\n",
    "    print(f\"GIF saved at {output_path}\")\n",
    "\n",
    "\n",
    "from PIL import Image, ImageDraw\n",
    "\n",
    "from PIL import Image\n",
    "\n",
    "def create_gif_from_pil_force_clean(image_list, output_path, duration=100, loop=0, background_color=(255, 255, 255)):\n",
    "    \"\"\"\n",
    "    Create a GIF from a list of `PIL.Image.Image` objects, ensuring no shadow artifacts.\n",
    "    Ensures each frame has a fresh background.\n",
    "\n",
    "    Args:\n",
    "        image_list (list of PIL.Image.Image): Sequence of PIL images.\n",
    "        output_path (str): Path to save the output GIF.\n",
    "        duration (int): Duration of each frame in milliseconds (controls speed).\n",
    "        loop (int): Number of times the GIF should loop (0 for infinite).\n",
    "        background_color (tuple): RGB color to reset the background for each frame.\n",
    "    \"\"\"\n",
    "    # Determine the size of the images\n",
    "    width, height = image_list[0].size\n",
    "\n",
    "    # Ensure all frames are re-rendered on a clean background\n",
    "    cleaned_frames = []\n",
    "    for img in image_list:\n",
    "        # Create a blank canvas for each frame\n",
    "        blank_frame = Image.new(mode=img.mode, size=(width, height), color=background_color)\n",
    "        \n",
    "        # Convert the image to RGBA to handle transparency (if needed)\n",
    "        if img.mode != \"RGBA\":\n",
    "            img = img.convert(\"RGBA\")\n",
    "        \n",
    "        # Paste the current frame onto the blank canvas\n",
    "        blank_frame.paste(img, (0, 0), mask=img if img.mode == \"RGBA\" else None)\n",
    "        cleaned_frames.append(blank_frame)\n",
    "\n",
    "    # Save as GIF\n",
    "    cleaned_frames[0].save(\n",
    "        output_path,\n",
    "        save_all=True,\n",
    "        append_images=cleaned_frames[1:],\n",
    "        duration=duration,\n",
    "        loop=loop\n",
    "    )\n",
    "    print(f\"GIF saved at {output_path}\")\n"
   ]
  },
  {
   "cell_type": "code",
   "execution_count": 6,
   "metadata": {},
   "outputs": [
    {
     "name": "stdout",
     "output_type": "stream",
     "text": [
      "True\n",
      "GIF saved at test_parallel_envs.gif\n"
     ]
    }
   ],
   "source": [
    "# from examples.state_punishment.utils import create_gif_from_arrays\n",
    "print(type(images_anim[0]) == Image.Image)\n",
    "create_gif_from_pil_force_clean(images_anim, 'test_parallel_envs.gif', 200)\n"
   ]
  }
 ],
 "metadata": {
  "kernelspec": {
   "display_name": "Python 3",
   "language": "python",
   "name": "python3"
  },
  "language_info": {
   "codemirror_mode": {
    "name": "ipython",
    "version": 3
   },
   "file_extension": ".py",
   "mimetype": "text/x-python",
   "name": "python",
   "nbconvert_exporter": "python",
   "pygments_lexer": "ipython3",
   "version": "3.11.7"
  }
 },
 "nbformat": 4,
 "nbformat_minor": 2
}
