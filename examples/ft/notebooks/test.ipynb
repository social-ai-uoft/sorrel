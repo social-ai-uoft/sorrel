{
 "cells": [
  {
   "cell_type": "code",
   "execution_count": 1,
   "metadata": {},
   "outputs": [],
   "source": [
    "%load_ext autoreload\n",
    "\n",
    "# --------------- #\n",
    "# region: Imports #\n",
    "import os\n",
    "import sys\n",
    "module_path = os.path.abspath('../../..')\n",
    "if module_path not in sys.path:\n",
    "    sys.path.insert(0, module_path)\n",
    "# endregion       #\n",
    "# --------------- #"
   ]
  },
  {
   "cell_type": "code",
   "execution_count": 2,
   "metadata": {},
   "outputs": [],
   "source": [
    "%autoreload 2\n",
    "from examples.ft.env import FoodTrucks\n",
    "from examples.ft.config import load_config\n",
    "from examples.ft.utils import visual_field, add_models\n",
    "from examples.ft.models.humanplayer import ModelHumanPlayer\n",
    "from matplotlib import pyplot as plt\n",
    "import argparse\n",
    "\n",
    "parser = argparse.ArgumentParser()\n",
    "parser.add_argument(\"--config\", help=\"path to config file\")\n",
    "args = parser.parse_args(['--config', '../config.yaml'])\n",
    "cfg = load_config(\n",
    "    args\n",
    ")\n",
    "\n",
    "\n",
    "env = FoodTrucks(\n",
    "    cfg\n",
    ")"
   ]
  },
  {
   "cell_type": "code",
   "execution_count": 3,
   "metadata": {},
   "outputs": [],
   "source": [
    "img = visual_field(\n",
    "    env.world,\n",
    "    return_rgb = True\n",
    ")\n",
    "\n",
    "models = [\n",
    "    ModelHumanPlayer(\n",
    "        action_space = [0, 1, 2, 3],\n",
    "        memory_size = 3\n",
    "    )\n",
    "]\n",
    "agents = env.get_entities('Agent')\n",
    "add_models(agents, models)\n",
    "env.reset()\n",
    "for agent in agents:\n",
    "    agent.reset()\n",
    "\n",
    "turn = 0"
   ]
  },
  {
   "cell_type": "code",
   "execution_count": 4,
   "metadata": {},
   "outputs": [
    {
     "data": {
      "image/png": "[encoded data removed]",
      "text/plain": [
       "<Figure size 640x480 with 3 Axes>"
      ]
     },
     "metadata": {},
     "output_type": "display_data"
    },
    {
     "ename": "ValueError",
     "evalue": "invalid literal for int() with base 10: ''",
     "output_type": "error",
     "traceback": [
      "\u001b[0;31m---------------------------------------------------------------------------\u001b[0m",
      "\u001b[0;31mValueError\u001b[0m                                Traceback (most recent call last)",
      "Cell \u001b[0;32mIn[4], line 6\u001b[0m\n\u001b[1;32m      4\u001b[0m done \u001b[39m=\u001b[39m \u001b[39m0\u001b[39m\n\u001b[1;32m      5\u001b[0m turn \u001b[39m+\u001b[39m\u001b[39m=\u001b[39m \u001b[39m1\u001b[39m\n\u001b[0;32m----> 6\u001b[0m state, action, reward, next_state \u001b[39m=\u001b[39m agent\u001b[39m.\u001b[39;49mtransition(env)\n\u001b[1;32m      7\u001b[0m agent\u001b[39m.\u001b[39mepisode_memory\u001b[39m.\u001b[39mappend((\n\u001b[1;32m      8\u001b[0m     \u001b[39m0\u001b[39m,\n\u001b[1;32m      9\u001b[0m     (state, action, reward, next_state, done)\n\u001b[1;32m     10\u001b[0m ))\n",
      "File \u001b[0;32m~/Documents/GitHub/transformers/examples/ft/agents.py:201\u001b[0m, in \u001b[0;36mAgent.transition\u001b[0;34m(self, env)\u001b[0m\n\u001b[1;32m    198\u001b[0m reward \u001b[39m=\u001b[39m \u001b[39m0\u001b[39m\n\u001b[1;32m    200\u001b[0m \u001b[39m# Take action based on current state\u001b[39;00m\n\u001b[0;32m--> 201\u001b[0m action \u001b[39m=\u001b[39m \u001b[39mself\u001b[39;49m\u001b[39m.\u001b[39;49mmodel\u001b[39m.\u001b[39;49mtake_action(state)\n\u001b[1;32m    203\u001b[0m \u001b[39m# Attempt the transition \u001b[39;00m\n\u001b[1;32m    204\u001b[0m attempted_location \u001b[39m=\u001b[39m \u001b[39mself\u001b[39m\u001b[39m.\u001b[39mmovement(action)\n",
      "File \u001b[0;32m~/Documents/GitHub/transformers/examples/ft/models/humanplayer.py:22\u001b[0m, in \u001b[0;36mModelHumanPlayer.take_action\u001b[0;34m(self, state)\u001b[0m\n\u001b[1;32m     20\u001b[0m done \u001b[39m=\u001b[39m \u001b[39m0\u001b[39m\n\u001b[1;32m     21\u001b[0m \u001b[39mwhile\u001b[39;00m done \u001b[39m==\u001b[39m \u001b[39m0\u001b[39m:\n\u001b[0;32m---> 22\u001b[0m     action \u001b[39m=\u001b[39m \u001b[39mint\u001b[39;49m(\u001b[39minput\u001b[39;49m(\u001b[39m\"\u001b[39;49m\u001b[39mSelect Action: \u001b[39;49m\u001b[39m\"\u001b[39;49m))\n\u001b[1;32m     23\u001b[0m     \u001b[39mif\u001b[39;00m action \u001b[39min\u001b[39;00m \u001b[39mself\u001b[39m\u001b[39m.\u001b[39maction_space:\n\u001b[1;32m     24\u001b[0m         done \u001b[39m=\u001b[39m \u001b[39m1\u001b[39m\n",
      "\u001b[0;31mValueError\u001b[0m: invalid literal for int() with base 10: ''"
     ]
    }
   ],
   "source": [
    "for agent in agents:\n",
    "\n",
    "    while turn < 20:\n",
    "        done = 0\n",
    "        turn += 1\n",
    "        state, action, reward, next_state = agent.transition(env)\n",
    "        agent.episode_memory.append((\n",
    "            0,\n",
    "            (state, action, reward, next_state, done)\n",
    "        ))\n",
    "    "
   ]
  }
 ],
 "metadata": {
  "kernelspec": {
   "display_name": "Python 3",
   "language": "python",
   "name": "python3"
  },
  "language_info": {
   "codemirror_mode": {
    "name": "ipython",
    "version": 3
   },
   "file_extension": ".py",
   "mimetype": "text/x-python",
   "name": "python",
   "nbconvert_exporter": "python",
   "pygments_lexer": "ipython3",
   "version": "3.10.13"
  },
  "orig_nbformat": 4
 },
 "nbformat": 4,
 "nbformat_minor": 2
}
