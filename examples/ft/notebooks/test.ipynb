{
 "cells": [
  {
   "cell_type": "code",
   "execution_count": 1,
   "metadata": {},
   "outputs": [],
   "source": [
    "%load_ext autoreload\n",
    "\n",
    "# --------------- #\n",
    "# region: Imports #\n",
    "import os\n",
    "import sys\n",
    "module_path = os.path.abspath('../../..')\n",
    "if module_path not in sys.path:\n",
    "    sys.path.insert(0, module_path)\n",
    "# endregion       #\n",
    "# --------------- #"
   ]
  },
  {
   "cell_type": "code",
   "execution_count": 9,
   "metadata": {},
   "outputs": [],
   "source": [
    "%autoreload 2\n",
    "from examples.ft.experiments import eval_model\n",
    "from examples.ft.utils import animate\n",
    "\n",
    "results = eval_model(\n",
    "    'memories',\n",
    "    model_path='../models/checkpoints/model_iRainbowModel_0.0_5.pkl',\n",
    "    config_path='../config.yaml',\n",
    "    n_games=1000\n",
    ")"
   ]
  },
  {
   "cell_type": "code",
   "execution_count": 17,
   "metadata": {},
   "outputs": [],
   "source": [
    "%autoreload 2\n",
    "\n",
    "results['memories'].save('../models/checkpoints/memories.pkl')"
   ]
  },
  {
   "cell_type": "code",
   "execution_count": 7,
   "metadata": {},
   "outputs": [
    {
     "data": {
      "text/plain": [
       "61241.886790114455"
      ]
     },
     "execution_count": 7,
     "metadata": {},
     "output_type": "execute_result"
    }
   ],
   "source": [
    "%autoreload 2\n",
    "\n",
    "from examples.ft.models.inverse import MLPBCModel\n",
    "from examples.ft.models.buffer import ActionBatchReplayBuffer as Buffer\n",
    "\n",
    "memories = Buffer.load('../models/checkpoints/memories.pkl')\n",
    "model = MLPBCModel(\n",
    "    state_size=[7, 11, 11],\n",
    "    action_size=5,\n",
    "    layer_size=250,\n",
    "    epsilon=0.,\n",
    "    n_channels=7,\n",
    "    frames=5,\n",
    "    seed=1,\n",
    "    device='cpu',\n",
    "    memory=memories,\n",
    "    LR=.001\n",
    ")\n",
    "\n",
    "model.train_model()"
   ]
  },
  {
   "cell_type": "code",
   "execution_count": null,
   "metadata": {},
   "outputs": [],
   "source": []
  }
 ],
 "metadata": {
  "kernelspec": {
   "display_name": "Python 3",
   "language": "python",
   "name": "python3"
  },
  "language_info": {
   "codemirror_mode": {
    "name": "ipython",
    "version": 3
   },
   "file_extension": ".py",
   "mimetype": "text/x-python",
   "name": "python",
   "nbconvert_exporter": "python",
   "pygments_lexer": "ipython3",
   "version": "3.10.13"
  },
  "orig_nbformat": 4
 },
 "nbformat": 4,
 "nbformat_minor": 2
}
