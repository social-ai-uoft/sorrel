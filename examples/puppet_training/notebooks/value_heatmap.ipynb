{
 "cells": [
  {
   "cell_type": "code",
   "execution_count": null,
   "id": "46267f4d",
   "metadata": {},
   "outputs": [],
   "source": [
    "import copy\n",
    "import os\n",
    "import sys\n",
    "import torch\n",
    "import numpy as np\n",
    "\n",
    "from ... import Agent"
   ]
  },
  {
   "cell_type": "code",
   "execution_count": null,
   "id": "265f5aff",
   "metadata": {},
   "outputs": [],
   "source": [
    "# define the testing environment\n",
    "env_templates = []\n",
    "\n",
    "# define the target locs to place the objects\n",
    "target_locs = []"
   ]
  },
  {
   "cell_type": "code",
   "execution_count": null,
   "id": "c7a19487",
   "metadata": {},
   "outputs": [],
   "source": [
    "# load the models\n",
    "model = torch.load('')\n"
   ]
  },
  {
   "cell_type": "code",
   "execution_count": null,
   "id": "d0ff4433",
   "metadata": {},
   "outputs": [],
   "source": [
    "# load cfg\n",
    "cfg = "
   ]
  },
  {
   "cell_type": "code",
   "execution_count": null,
   "id": "dbebdb38",
   "metadata": {},
   "outputs": [],
   "source": [
    "# generate the maps \n",
    "num_reps = 100\n",
    "ixs = 0\n",
    "\n",
    "# parameters\n",
    "world_size = env_templates[0].height\n",
    "num_reps = 100\n",
    "\n",
    "v_heatmap_lst = []\n",
    "\n",
    "# main\n",
    "for env in env_templates: \n",
    "\n",
    "    # find the empty locations\n",
    "    empty_locs = []\n",
    "    for i in range(env.world.shape[0]):\n",
    "        for j in range(env.world.shape[1]):\n",
    "            if str(env.world[i,j,0]) == 'EmptyObject':  \n",
    "                empty_locs.append((i,j,0)) \n",
    "    \n",
    "    # create an empty template for the heatmap \n",
    "    v_heatmap = np.empty((world_size,world_size))\n",
    "    v_heatmap[:] = np.nan\n",
    "\n",
    "    # iteratively place the agent on every empty location in the env, \n",
    "    # then record the model's output (Q/V/...), and store it in the \n",
    "    # heatmap template \n",
    "\n",
    "    if target_locs is not None:\n",
    "        available_locs = target_locs\n",
    "    else:\n",
    "        available_locs = empty_locs\n",
    "\n",
    "    for loc in available_locs: \n",
    "        env_ = copy.deepcopy(env)\n",
    "        agent = Agent(model=model, cfg=cfg, ixs=ixs)\n",
    "        # place the agent\n",
    "        env_.world[loc] = agent\n",
    "        agent.location = loc\n",
    "        # generate the agent's state\n",
    "        state = agent.pov(env_)\n",
    "\n",
    "        val_estimation_trials = [] \n",
    "\n",
    "        # this loop is tailored for the model used in my experiment \n",
    "        for _ in range(num_reps):\n",
    "\n",
    "            act, vs, Qs = model.take_action(state, eval=True)\n",
    "            max_q = float(torch.max(Qs))\n",
    "            v = float(torch.mean(vs, dim=0))     \n",
    "            val_estimation_trials.append(max_q) \n",
    "        \n",
    "        # store the value of interest in the heatmap \n",
    "        v_m = np.mean(val_estimation_trials)\n",
    "        v_heatmap[loc[0], loc[1]] = v_m \n",
    "\n",
    "    v_heatmap_lst.append(v_heatmap)\n",
    "\n"
   ]
  }
 ],
 "metadata": {
  "language_info": {
   "name": "python"
  }
 },
 "nbformat": 4,
 "nbformat_minor": 5
}
