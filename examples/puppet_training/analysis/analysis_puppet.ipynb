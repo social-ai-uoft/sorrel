{
 "cells": [
  {
   "cell_type": "code",
   "execution_count": 1,
   "metadata": {},
   "outputs": [],
   "source": [
    "import csv\n",
    "import numpy as np\n",
    "import pandas as pd\n",
    "import matplotlib.pyplot as plt\n",
    "import os\n",
    "import itertools"
   ]
  },
  {
   "cell_type": "code",
   "execution_count": 115,
   "metadata": {},
   "outputs": [],
   "source": [
    "# read testing csv\n",
    "df = pd.read_csv('/Users/yikaitang/Documents/GitHub/puppet_training/examples/puppet_training/testing_data/testing_puppet_testing_full_partner_selection_env_bug_fixed_switch_appearance_VarDiff_20_range0to4_baseval7to10.csv')\n"
   ]
  },
  {
   "cell_type": "code",
   "execution_count": 116,
   "metadata": {},
   "outputs": [],
   "source": [
    "# filter out cases where both partners are equally selected\n",
    "df = df[df.partner_selection != 0.5]"
   ]
  },
  {
   "cell_type": "code",
   "execution_count": 117,
   "metadata": {},
   "outputs": [],
   "source": [
    "# collect \n",
    "array_selected_agent_var = {'gem': None, 'coin': None, 'bone':None}\n",
    "\n",
    "array_nonselected_agent_var = {'gem': None, 'coin': None, 'bone':None}\n",
    "\n",
    "for key in array_selected_agent_var.keys():\n",
    "    array_selected_agent_var[key] = np.where(\n",
    "        df['partner_selection'] < 0.5,\n",
    "        df['partner_A_{}_var'.format(key)],\n",
    "        df['partner_B_{}_var'.format(key)]\n",
    "    )\n",
    "\n",
    "    array_nonselected_agent_var[key] = np.where(\n",
    "        df['partner_selection'] < 0.5,\n",
    "        df['partner_B_{}_var'.format(key)],\n",
    "        df['partner_A_{}_var'.format(key)]\n",
    "    )"
   ]
  },
  {
   "cell_type": "code",
   "execution_count": 118,
   "metadata": {},
   "outputs": [
    {
     "name": "stdout",
     "output_type": "stream",
     "text": [
      "Condition: gem\n",
      "T-statistic: 2.120490869794859\n",
      "P-value: 0.03402168835800284\n",
      "means 11.822655524605386 11.172701949860723\n",
      "\n",
      "Condition: coin\n",
      "T-statistic: 2.1204038669700513\n",
      "P-value: 0.0340290228911794\n",
      "means 11.832869080779945 11.182915506035283\n",
      "\n",
      "Condition: bone\n",
      "T-statistic: 2.120393537959765\n",
      "P-value: 0.034029893739688816\n",
      "means 11.822655524605386 11.172701949860723\n",
      "\n"
     ]
    }
   ],
   "source": [
    "from scipy.stats import ttest_ind, ttest_1samp\n",
    "\n",
    "for key in array_selected_agent_var.keys():\n",
    "    t_stat, p_value = ttest_ind(\n",
    "        array_selected_agent_var[key], \n",
    "        array_nonselected_agent_var[key]\n",
    "        )  # use equal_var=True if variances are equal\n",
    "    \n",
    "    # print the condition and results\n",
    "    print(f\"Condition: {key}\")\n",
    "    print(f\"T-statistic: {t_stat}\")\n",
    "    print(f\"P-value: {p_value}\")\n",
    "    print(f'means', np.mean(array_selected_agent_var[key]), np.mean(array_nonselected_agent_var[key]))\n",
    "    print()"
   ]
  },
  {
   "cell_type": "code",
   "execution_count": 119,
   "metadata": {},
   "outputs": [
    {
     "name": "stdout",
     "output_type": "stream",
     "text": [
      "t-statistic: 1.0197\n",
      "p-value: 0.3080\n",
      "mean: 0.5039\n"
     ]
    }
   ],
   "source": [
    "# Hypothesized population mean\n",
    "mu = 0.5\n",
    "sample = df['partner_selection'].dropna()\n",
    "\n",
    "# One-sample t-test\n",
    "t_stat, p_value = ttest_1samp(sample, mu)\n",
    "\n",
    "print(f\"t-statistic: {t_stat:.4f}\")\n",
    "print(f\"p-value: {p_value:.4f}\")\n",
    "print(f'mean: {np.mean(sample):.4f}')"
   ]
  },
  {
   "cell_type": "code",
   "execution_count": 120,
   "metadata": {},
   "outputs": [
    {
     "data": {
      "text/plain": [
       "<matplotlib.lines.Line2D at 0x13255d4b0>"
      ]
     },
     "execution_count": 120,
     "metadata": {},
     "output_type": "execute_result"
    },
    {
     "data": {
      "image/png": "[encoded data removed]",
      "text/plain": [
       "<Figure size 640x480 with 1 Axes>"
      ]
     },
     "metadata": {},
     "output_type": "display_data"
    }
   ],
   "source": [
    "plt.boxplot(df['partner_selection'].dropna())\n",
    "plt.axhline(y=sample.mean(), color='b', linestyle='--')\n",
    "plt.axhline(y=0.5, color='r', linestyle='--')"
   ]
  }
 ],
 "metadata": {
  "kernelspec": {
   "display_name": "state_punishment",
   "language": "python",
   "name": "python3"
  },
  "language_info": {
   "codemirror_mode": {
    "name": "ipython",
    "version": 3
   },
   "file_extension": ".py",
   "mimetype": "text/x-python",
   "name": "python",
   "nbconvert_exporter": "python",
   "pygments_lexer": "ipython3",
   "version": "3.10.16"
  }
 },
 "nbformat": 4,
 "nbformat_minor": 2
}
