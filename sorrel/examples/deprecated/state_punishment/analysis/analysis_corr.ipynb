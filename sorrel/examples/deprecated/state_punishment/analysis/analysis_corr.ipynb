{
 "cells": [
  {
   "cell_type": "code",
   "execution_count": null,
   "metadata": {},
   "outputs": [],
   "source": []
  },
  {
   "cell_type": "code",
   "execution_count": 1,
   "metadata": {},
   "outputs": [],
   "source": [
    "from scipy.stats import pearsonr, spearmanr\n",
    "# import tensorflow as tf\n",
    "import csv\n",
    "import numpy as np\n",
    "import pandas as pd\n",
    "import matplotlib.pyplot as plt\n",
    "import os\n",
    "import itertools"
   ]
  },
  {
   "cell_type": "code",
   "execution_count": 2,
   "metadata": {},
   "outputs": [],
   "source": [
    "def trim_and_calculate_mean(array_list):\n",
    "    # Find the minimum length among all arrays\n",
    "    min_length = min(len(arr) for arr in array_list)\n",
    "    \n",
    "    # Trim each array to the minimum length\n",
    "    trimmed_arrays = [arr[:min_length] for arr in array_list]\n",
    "    \n",
    "    # Convert to a NumPy array for vectorized mean calculation\n",
    "    trimmed_arrays = np.array(trimmed_arrays)\n",
    "    \n",
    "    return trimmed_arrays"
   ]
  },
  {
   "cell_type": "code",
   "execution_count": 39,
   "metadata": {},
   "outputs": [
    {
     "name": "stdout",
     "output_type": "stream",
     "text": [
      "[array([0.74400002, 0.018     , 0.        , ..., 0.90200001, 0.94999999,\n",
      "       0.93000001])] 144002\n",
      "[array([1.66666667, 0.66666667, 0.66666667, ..., 0.        , 0.33333333,\n",
      "       0.        ])] 144002\n"
     ]
    }
   ],
   "source": [
    "folders = [\n",
    "    # 'test_study1__dynamic_stacked_view_simple_actions_3agents_respawn_0.04_v0_s5_seed2_20250312-14031741802613',\n",
    "    'test_study1__dynamic_with_cost0.2_stacked_view_simple_actions_3agents_respawn_0.04_v0_s1_seed2_20250312-00031741752223',\n",
    "    # 'test_study1__nondynamic_cost0.2_stacked_view_simple_actions_3agents_respawn_0.04_v0_s1_seed1_20250311-23031741751523',\n",
    "    # 'test_study1__nondynamic_stacked_view_simple_actions_3agents_respawn_0.04_v0_s1_seed1_20250307-11031741366516',\n",
    "    # 'test_study1__fixed_only_taboo_stacked_view_simple_actions_3agents_respawn_0.04_v0_s4_seed1_20250314-13031741973313'\n",
    "]\n",
    "\n",
    "collective_authoritarianism = [[] for _ in range(len(folders))]\n",
    "collective_transgressions = [[] for _ in range(len(folders))]\n",
    "collective_d_prime = [[] for _ in range(len(folders))]\n",
    "collective_coin = [[] for _ in range(len(folders))]\n",
    "collective_gem= [[] for _ in range(len(folders))]\n",
    "\n",
    "for ixs, folder in enumerate(folders):\n",
    "    parent_dir = os.path.join('res', folder)\n",
    "    files = os.listdir(parent_dir)\n",
    "\n",
    "    for f in files:\n",
    "        if 'state_punishment_level_avg' in f:\n",
    "        # if 'd_prime' in f:\n",
    "            data = pd.read_csv(os.path.join(parent_dir, f))\n",
    "            collective_authoritarianism[ixs].append(data['Value'].to_numpy()[:])\n",
    "        if 'Bone' in f:\n",
    "            sub_dir = os.path.join(parent_dir, f)\n",
    "            file = os.listdir(sub_dir)[0]\n",
    "            data = pd.read_csv(os.path.join(sub_dir, file))\n",
    "            collective_transgressions[ixs].append(data['Value'].to_numpy()[:])\n",
    "        if 'Gem' in f:\n",
    "            sub_dir = os.path.join(parent_dir, f)\n",
    "            file = os.listdir(sub_dir)[0]\n",
    "            data = pd.read_csv(os.path.join(sub_dir, file))\n",
    "            collective_gem[ixs].append(data['Value'].to_numpy()[:])\n",
    "        if 'Coin' in f:\n",
    "            sub_dir = os.path.join(parent_dir, f)\n",
    "            file = os.listdir(sub_dir)[0]\n",
    "            data = pd.read_csv(os.path.join(sub_dir, file))\n",
    "            collective_coin[ixs].append(data['Value'].to_numpy()[:])\n",
    "        if 'd_prime' in f:\n",
    "            data = pd.read_csv(os.path.join(parent_dir, f))\n",
    "            collective_d_prime[ixs].append(data['Value'].to_numpy()[:])\n",
    "collective_authoritarianism_ = [np.mean(trim_and_calculate_mean(collective_authoritarianism[i]), axis=0) \n",
    "                  for i in range(len(collective_authoritarianism))]\n",
    "collective_transgressions_ = [np.mean(trim_and_calculate_mean(collective_transgressions[i]), axis=0) \n",
    "                  for i in range(len(collective_transgressions))]\n",
    "collective_d_prime_ = [np.mean(trim_and_calculate_mean(collective_d_prime[i]), axis=0) \n",
    "                  for i in range(len(collective_d_prime))]\n",
    "collective_gem_ = [np.mean(trim_and_calculate_mean(collective_gem[i]), axis=0) \n",
    "                  for i in range(len(collective_gem))]\n",
    "collective_coin_ = [np.mean(trim_and_calculate_mean(collective_coin[i]), axis=0) \n",
    "                  for i in range(len(collective_coin))]\n",
    "print(collective_authoritarianism_, len(collective_authoritarianism_[0]))\n",
    "print(collective_transgressions_, len(collective_transgressions_[0]))"
   ]
  },
  {
   "cell_type": "code",
   "execution_count": 45,
   "metadata": {},
   "outputs": [
    {
     "name": "stdout",
     "output_type": "stream",
     "text": [
      "transgression ~ diff authoritarianism\n",
      "SignificanceResult(statistic=np.float64(0.13764113609222062), pvalue=np.float64(7.703298662298796e-77)) \n",
      "\n",
      "transgression ~ d-prime diff\n",
      "SignificanceResult(statistic=np.float64(-0.31403109751666214), pvalue=np.float64(0.0)) \n",
      "\n",
      "coin ~ d-prime diff\n",
      "SignificanceResult(statistic=np.float64(0.020205122905097423), pvalue=np.float64(0.006711809472815495)) \n",
      "\n",
      "authoritarianism ~ diff of authoritarianism\n",
      "SignificanceResult(statistic=np.float64(-0.4331700607752067), pvalue=np.float64(0.0))\n"
     ]
    }
   ],
   "source": [
    "endpoint = 98000\n",
    "folder_ixs = 0\n",
    "diff_authoritarianism = np.diff(collective_authoritarianism_[folder_ixs][80000:endpoint])\n",
    "diff_d_prime = np.diff(collective_d_prime_[folder_ixs][80000:endpoint])\n",
    "# print(len(diff_authoritarianism), collective_transgressions_[folder_ixs][:endpoint].shape)\n",
    "\n",
    "print('transgression ~ diff authoritarianism')\n",
    "print(spearmanr(collective_transgressions_[folder_ixs][80000:endpoint-1], diff_authoritarianism),'\\n');\n",
    "\n",
    "print('transgression ~ d-prime diff')\n",
    "print(spearmanr(collective_transgressions_[folder_ixs][80000:endpoint-1], diff_d_prime), '\\n');\n",
    "\n",
    "print('coin ~ d-prime diff')\n",
    "print(spearmanr(collective_coin_[folder_ixs][80000:endpoint-1], diff_d_prime), '\\n');\n",
    "\n",
    "print('authoritarianism ~ diff of authoritarianism')\n",
    "print(spearmanr(collective_authoritarianism_[folder_ixs][80000:endpoint-1], diff_authoritarianism))\n"
   ]
  },
  {
   "cell_type": "code",
   "execution_count": 35,
   "metadata": {},
   "outputs": [
    {
     "data": {
      "text/plain": [
       "array([0.95599997, 0.69199997, 0.722     , ..., 0.86799997, 0.76800001,\n",
       "       0.86400002])"
      ]
     },
     "execution_count": 35,
     "metadata": {},
     "output_type": "execute_result"
    }
   ],
   "source": [
    "collective_authoritarianism_[folder_ixs][80000:endpoint-1]"
   ]
  },
  {
   "cell_type": "code",
   "execution_count": 37,
   "metadata": {},
   "outputs": [
    {
     "data": {
      "text/plain": [
       "-0.264"
      ]
     },
     "execution_count": 37,
     "metadata": {},
     "output_type": "execute_result"
    }
   ],
   "source": [
    "0.69199997-0.95599997"
   ]
  },
  {
   "cell_type": "code",
   "execution_count": 36,
   "metadata": {},
   "outputs": [
    {
     "data": {
      "text/plain": [
       "array([-0.264     ,  0.03000003,  0.13      , ..., -0.09999996,\n",
       "        0.09600002,  0.02199996])"
      ]
     },
     "execution_count": 36,
     "metadata": {},
     "output_type": "execute_result"
    }
   ],
   "source": [
    "diff_authoritarianism"
   ]
  },
  {
   "cell_type": "code",
   "execution_count": 23,
   "metadata": {},
   "outputs": [
    {
     "name": "stdout",
     "output_type": "stream",
     "text": [
      "transgression+good acts ~ d-prime diff\n",
      "Mean Squared Error: 15.018904275187259\n",
      "R^2 Score: 0.0010418055795377024\n",
      "Intercept: 0.7432842541369222\n",
      "Coefficients: [ 0.07053319 -0.03531614 -0.00272125]\n"
     ]
    }
   ],
   "source": [
    "print('transgression+good acts ~ d-prime diff')\n",
    "import numpy as np\n",
    "import pandas as pd\n",
    "from sklearn.linear_model import LinearRegression\n",
    "from sklearn.metrics import mean_squared_error, r2_score\n",
    "\n",
    "# Sample data\n",
    "data = {\n",
    "    'X1': collective_transgressions_[folder_ixs][80000:endpoint-1],\n",
    "    'X2': collective_coin_[folder_ixs][80000:endpoint-1],\n",
    "    'X3': collective_gem_[folder_ixs][80000:endpoint-1],\n",
    "    'Y': diff_d_prime\n",
    "}\n",
    "\n",
    "df = pd.DataFrame(data)\n",
    "\n",
    "# Define independent variables (X) and dependent variable (Y)\n",
    "X = df[['X1', 'X2', 'X3']]  # Independent variables\n",
    "Y = df['Y']           # Dependent variable\n",
    "\n",
    "# Create the regression model\n",
    "model = LinearRegression()\n",
    "\n",
    "# Fit the model on the entire dataset\n",
    "model.fit(X, Y)\n",
    "\n",
    "# Make predictions on the same data\n",
    "Y_pred = model.predict(X)\n",
    "\n",
    "# Evaluate the model\n",
    "mse = mean_squared_error(Y, Y_pred)\n",
    "r2 = r2_score(Y, Y_pred)\n",
    "\n",
    "print(\"Mean Squared Error:\", mse)\n",
    "print(\"R^2 Score:\", r2)\n",
    "\n",
    "# Print coefficients and intercept\n",
    "print(\"Intercept:\", model.intercept_)\n",
    "print(\"Coefficients:\", model.coef_)"
   ]
  }
 ],
 "metadata": {
  "kernelspec": {
   "display_name": "Python 3",
   "language": "python",
   "name": "python3"
  },
  "language_info": {
   "codemirror_mode": {
    "name": "ipython",
    "version": 3
   },
   "file_extension": ".py",
   "mimetype": "text/x-python",
   "name": "python",
   "nbconvert_exporter": "python",
   "pygments_lexer": "ipython3",
   "version": "3.9.6"
  }
 },
 "nbformat": 4,
 "nbformat_minor": 2
}
