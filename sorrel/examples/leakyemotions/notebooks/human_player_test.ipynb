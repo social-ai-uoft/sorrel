{
 "cells": [
  {
   "cell_type": "code",
   "execution_count": null,
   "metadata": {},
   "outputs": [],
   "source": [
    "import hydra\n",
    "from omegaconf import DictConfig, OmegaConf\n",
    "\n",
    "# sorrel imports\n",
    "from sorrel.examples.leakyemotions.agents import LeakyEmotionsAgent, Wolf\n",
    "from sorrel.examples.leakyemotions.entities import EmptyEntity\n",
    "from sorrel.examples.leakyemotions.env import LeakyEmotionsEnv, ENTITY_LIST\n",
    "from sorrel.examples.leakyemotions.world import LeakyEmotionsWorld\n",
    "from sorrel.examples.leakyemotions.wolf_model import WolfModel\n",
    "from sorrel.action.action_spec import ActionSpec\n",
    "from sorrel.models.human_player import HumanPlayer, HumanObservation"
   ]
  },
  {
   "cell_type": "markdown",
   "metadata": {},
   "source": [
    "### Human player test for the model"
   ]
  },
  {
   "cell_type": "code",
   "execution_count": null,
   "metadata": {},
   "outputs": [],
   "source": [
    "def main():\n",
    "    config = OmegaConf.create({\n",
    "        \"experiment\": {\n",
    "            \"epochs\": 1,\n",
    "            \"max_turns\": 50,\n",
    "            \"record_period\": 50,\n",
    "        },\n",
    "        \"model\": {\n",
    "            \"agent_vision_radius\": 3,\n",
    "            \"epsilon_decay\": 0.0001,\n",
    "        },\n",
    "        \"world\": {\n",
    "            \"agents\": 2,\n",
    "            \"height\": 15,\n",
    "            \"width\": 15,\n",
    "            \"layers\": 3,\n",
    "            \"spawn_prob\": 0.02,\n",
    "        },\n",
    "    })\n",
    "\n",
    "    world = LeakyEmotionsWorld(config=config, default_entity=EmptyEntity())\n",
    "    env = LeakyEmotionsEnv(world, config)\n",
    "    agents = env.agents\n",
    "\n",
    "    observation_spec = HumanObservation(\n",
    "        entity_list=ENTITY_LIST,\n",
    "        full_view=True,\n",
    "        env_dims=(config.world.height, config.world.width),\n",
    "    )\n",
    "    action_spec = ActionSpec([\"up\", \"down\", \"left\", \"right\"])\n",
    "    agents[-2] = LeakyEmotionsAgent(\n",
    "        observation_spec=observation_spec,\n",
    "        action_spec=action_spec,\n",
    "        model=HumanPlayer(\n",
    "            input_size=(config.world.height, config.world.width, config.world.layers),\n",
    "            action_space=action_spec.n_actions,\n",
    "            memory_size=1,\n",
    "        ),\n",
    "    )\n",
    "\n",
    "    env.override_agents(agents=agents)\n",
    "    env.run_experiment()"
   ]
  },
  {
   "cell_type": "markdown",
   "metadata": {},
   "source": [
    "### Turn taking loop\n",
    "Choose an action from [0, 1, 2, 3] to act on the environment."
   ]
  },
  {
   "cell_type": "code",
   "execution_count": null,
   "metadata": {},
   "outputs": [],
   "source": [
    "main()"
   ]
  },
  {
   "cell_type": "code",
   "execution_count": null,
   "metadata": {},
   "outputs": [],
   "source": []
  }
 ],
 "metadata": {
  "kernelspec": {
   "display_name": "sorrel-hx37a_wA-py3.12",
   "language": "python",
   "name": "python3"
  },
  "language_info": {
   "codemirror_mode": {
    "name": "ipython",
    "version": 3
   },
   "file_extension": ".py",
   "mimetype": "text/x-python",
   "name": "python",
   "nbconvert_exporter": "python",
   "pygments_lexer": "ipython3",
   "version": "3.12.2"
  }
 },
 "nbformat": 4,
 "nbformat_minor": 2
}
