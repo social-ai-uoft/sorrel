{
 "cells": [
  {
   "cell_type": "code",
   "execution_count": 1,
   "metadata": {},
   "outputs": [],
   "source": [
    "%load_ext autoreload\n",
    "\n",
    "# --------------- #\n",
    "# region: Imports #\n",
    "import os\n",
    "import sys\n",
    "\n",
    "module_path = os.path.abspath(\"../../..\")\n",
    "if module_path not in sys.path:\n",
    "    sys.path.insert(0, module_path)\n",
    "# endregion       #\n",
    "# --------------- #"
   ]
  },
  {
   "cell_type": "code",
   "execution_count": 2,
   "metadata": {},
   "outputs": [],
   "source": [
    "import torch\n",
    "from sorrel.config import load_config, argparse\n",
    "from sorrel.models.pytorch import PyTorchIQN\n",
    "from examples.cleanup.env import Cleanup\n",
    "from examples.cleanup.agents import CleanupAgent\n",
    "from sorrel.utils.visualization import visual_field_sprite, image_from_array, animate\n",
    "\n",
    "cfg = load_config(argparse.Namespace(config=\"../configs/config.yaml\"))\n",
    "seed = torch.random.seed()\n",
    "N_AGENTS = 1\n",
    "agents: list[CleanupAgent] = []\n",
    "models: list[PyTorchIQN] = []\n",
    "for i in range(N_AGENTS):\n",
    "    models.append(\n",
    "        PyTorchIQN(\n",
    "            input_size=(984,),\n",
    "            seed=seed,\n",
    "            num_frames=cfg.agent.agent.obs.num_frames,\n",
    "            **cfg.model.iqn.parameters.to_dict()\n",
    "        )\n",
    "    )\n",
    "    agents.append(CleanupAgent(cfg, model=models[i]))\n",
    "env = Cleanup(cfg, agents=agents, mode=\"DEFAULT\")\n",
    "env.reset()"
   ]
  },
  {
   "cell_type": "code",
   "execution_count": 3,
   "metadata": {},
   "outputs": [],
   "source": [
    "imgs = []\n",
    "for _ in range(cfg.experiment.max_turns):\n",
    "    img = visual_field_sprite(env)\n",
    "    img = image_from_array(img)\n",
    "    imgs.append(img)\n",
    "    env.take_turn()\n",
    "# Final frame\n",
    "img = visual_field_sprite(env)\n",
    "img = image_from_array(img)\n",
    "imgs.append(img)"
   ]
  },
  {
   "cell_type": "code",
   "execution_count": 4,
   "metadata": {},
   "outputs": [],
   "source": [
    "animate(imgs, \"test\", \"../data/\")"
   ]
  },
  {
   "cell_type": "code",
   "execution_count": 6,
   "metadata": {},
   "outputs": [],
   "source": [
    "states, actions, rewards, next_states, dones, valids = agents[0].model.memory.sample(\n",
    "    64, stacked_frames=5\n",
    ")"
   ]
  },
  {
   "cell_type": "code",
   "execution_count": 9,
   "metadata": {},
   "outputs": [
    {
     "data": {
      "text/plain": [
       "(1, 5, 984)"
      ]
     },
     "execution_count": 9,
     "metadata": {},
     "output_type": "execute_result"
    }
   ],
   "source": [
    "agents[0].pov(env).shape"
   ]
  },
  {
   "cell_type": "code",
   "execution_count": null,
   "metadata": {},
   "outputs": [],
   "source": []
  }
 ],
 "metadata": {
  "kernelspec": {
   "display_name": "3.12.2",
   "language": "python",
   "name": "python3"
  },
  "language_info": {
   "codemirror_mode": {
    "name": "ipython",
    "version": 3
   },
   "file_extension": ".py",
   "mimetype": "text/x-python",
   "name": "python",
   "nbconvert_exporter": "python",
   "pygments_lexer": "ipython3",
   "version": "3.12.2"
  }
 },
 "nbformat": 4,
 "nbformat_minor": 2
}
