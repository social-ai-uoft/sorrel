{
 "cells": [
  {
   "cell_type": "code",
   "execution_count": null,
   "metadata": {},
   "outputs": [],
   "source": [
    "import hydra\n",
    "from omegaconf import DictConfig, OmegaConf\n",
    "\n",
    "# sorrel imports\n",
    "from sorrel.examples.cleanup.agents import CleanupAgent\n",
    "from sorrel.examples.cleanup.entities import EmptyEntity\n",
    "from sorrel.examples.cleanup.env import CleanupEnv, ENTITY_LIST\n",
    "from sorrel.examples.cleanup.world import CleanupWorld\n",
    "from sorrel.action.action_spec import ActionSpec\n",
    "from sorrel.models.human_player import HumanPlayer, HumanObservation"
   ]
  },
  {
   "cell_type": "markdown",
   "metadata": {},
   "source": [
    "### Human player test for the model"
   ]
  },
  {
   "cell_type": "code",
   "execution_count": null,
   "metadata": {},
   "outputs": [],
   "source": [
    "def main():\n",
    "    config = OmegaConf.load(\"../configs/config.yaml\")   \n",
    "    env = CleanupWorld(config=config, default_entity=EmptyEntity())\n",
    "    experiment = CleanupEnv(env, config)\n",
    "    agents = experiment.agents\n",
    "\n",
    "    observation_spec = HumanObservation(\n",
    "                entity_list=ENTITY_LIST,\n",
    "                full_view=True,\n",
    "                env_dims=(config.env.height, config.env.width)\n",
    "            )\n",
    "    action_spec = ActionSpec([\"up\", \"down\", \"left\", \"right\", \"clean\", \"zap\"])\n",
    "    agents[-1] = CleanupAgent(\n",
    "            observation_spec=observation_spec,\n",
    "            action_spec=action_spec,\n",
    "            model=HumanPlayer(\n",
    "                input_size=(config.env.height, config.env.width, config.env.layers),\n",
    "                action_space=action_spec.n_actions,\n",
    "                memory_size=1\n",
    "            )\n",
    "        )\n",
    "        \n",
    "    experiment.override_agents(\n",
    "        agents=agents\n",
    "    )\n",
    "    experiment.run_experiment()"
   ]
  },
  {
   "cell_type": "markdown",
   "metadata": {},
   "source": [
    "### Turn taking loop\n",
    "Choose an action from [0, 1, 2, 3, 4, 5] to act on the environment."
   ]
  },
  {
   "cell_type": "code",
   "execution_count": null,
   "metadata": {},
   "outputs": [],
   "source": [
    "main()"
   ]
  }
 ],
 "metadata": {
  "kernelspec": {
   "display_name": "sorrel-hx37a_wA-py3.12",
   "language": "python",
   "name": "python3"
  },
  "language_info": {
   "codemirror_mode": {
    "name": "ipython",
    "version": 3
   },
   "file_extension": ".py",
   "mimetype": "text/x-python",
   "name": "python",
   "nbconvert_exporter": "python",
   "pygments_lexer": "ipython3",
   "version": "3.12.2"
  }
 },
 "nbformat": 4,
 "nbformat_minor": 2
}
