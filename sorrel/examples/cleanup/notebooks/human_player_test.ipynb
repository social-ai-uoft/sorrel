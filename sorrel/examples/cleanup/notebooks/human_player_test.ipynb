{
 "cells": [
  {
   "cell_type": "code",
   "execution_count": 1,
   "metadata": {},
   "outputs": [],
   "source": [
    "%load_ext autoreload\n",
    "\n",
    "# --------------- #\n",
    "# region: Imports #\n",
    "import os\n",
    "import sys\n",
    "\n",
    "module_path = os.path.abspath(\"../../..\")\n",
    "if module_path not in sys.path:\n",
    "    sys.path.insert(0, module_path)\n",
    "# endregion       #\n",
    "# --------------- #"
   ]
  },
  {
   "cell_type": "markdown",
   "metadata": {},
   "source": [
    "### Human player test for the model"
   ]
  },
  {
   "cell_type": "code",
   "execution_count": 2,
   "metadata": {},
   "outputs": [],
   "source": [
    "from sorrel.config import load_config, argparse\n",
    "from sorrel.models.human_player import HumanPlayer\n",
    "from examples.cleanup.env import Cleanup\n",
    "from examples.cleanup.agents import CleanupAgent\n",
    "\n",
    "cfg = load_config(argparse.Namespace(config=\"../configs/config.yaml\"))\n",
    "N_AGENTS = 1\n",
    "agents: list[CleanupAgent] = []\n",
    "models: list[HumanPlayer] = []\n",
    "for i in range(N_AGENTS):\n",
    "    models.append(\n",
    "        HumanPlayer(\n",
    "            input_size=[3, cfg.env.height * 16, cfg.env.width * 16, 4],\n",
    "            action_space=6,\n",
    "            memory_size=1,\n",
    "            show=True,\n",
    "        )\n",
    "    )\n",
    "    agents.append(CleanupAgent(cfg, model=models[i]))\n",
    "env = Cleanup(cfg, agents=agents)\n",
    "env.reset()"
   ]
  },
  {
   "cell_type": "markdown",
   "metadata": {},
   "source": [
    "### Turn taking loop\n",
    "Choose an action from [0, 1, 2, 3, 4, 5] to act on the environment."
   ]
  },
  {
   "cell_type": "code",
   "execution_count": null,
   "metadata": {},
   "outputs": [],
   "source": [
    "while True:\n",
    "    env.take_turn()"
   ]
  },
  {
   "cell_type": "code",
   "execution_count": null,
   "metadata": {},
   "outputs": [],
   "source": []
  }
 ],
 "metadata": {
  "kernelspec": {
   "display_name": "3.12.2",
   "language": "python",
   "name": "python3"
  },
  "language_info": {
   "codemirror_mode": {
    "name": "ipython",
    "version": 3
   },
   "file_extension": ".py",
   "mimetype": "text/x-python",
   "name": "python",
   "nbconvert_exporter": "python",
   "pygments_lexer": "ipython3",
   "version": "3.12.2"
  }
 },
 "nbformat": 4,
 "nbformat_minor": 2
}
